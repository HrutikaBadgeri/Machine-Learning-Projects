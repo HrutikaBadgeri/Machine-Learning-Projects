{
  "cells": [
    {
      "cell_type": "markdown",
      "metadata": {},
      "source": [
        "## Importing libraries and dataset"
      ]
    },
    {
      "cell_type": "code",
      "execution_count": 68,
      "metadata": {
        "id": "zK5XYsf88q1P"
      },
      "outputs": [],
      "source": [
        "import pandas as pd\n",
        "import numpy as np \n",
        "import matplotlib.pyplot as plt \n",
        "import seaborn as sns"
      ]
    },
    {
      "cell_type": "code",
      "execution_count": 69,
      "metadata": {
        "id": "2CUkG__jAYcC"
      },
      "outputs": [],
      "source": [
        "data = pd.read_csv(\"house_prices.csv\")"
      ]
    },
    {
      "cell_type": "code",
      "execution_count": 70,
      "metadata": {
        "colab": {
          "base_uri": "https://localhost:8080/"
        },
        "id": "UCQrm2NtBAih",
        "outputId": "d312b010-595a-47d6-b4d2-8012dab7d0f5"
      },
      "outputs": [
        {
          "name": "stdout",
          "output_type": "stream",
          "text": [
            "(1460, 81)\n"
          ]
        }
      ],
      "source": [
        "print(data.shape)"
      ]
    },
    {
      "cell_type": "code",
      "execution_count": 71,
      "metadata": {
        "colab": {
          "base_uri": "https://localhost:8080/"
        },
        "id": "ySOj9--PBKkX",
        "outputId": "325ebae2-5727-4e14-bf4f-24994bb15727"
      },
      "outputs": [
        {
          "data": {
            "text/plain": [
              "Index(['Id', 'MSSubClass', 'MSZoning', 'LotFrontage', 'LotArea', 'Street',\n",
              "       'Alley', 'LotShape', 'LandContour', 'Utilities', 'LotConfig',\n",
              "       'LandSlope', 'Neighborhood', 'Condition1', 'Condition2', 'BldgType',\n",
              "       'HouseStyle', 'OverallQual', 'OverallCond', 'YearBuilt', 'YearRemodAdd',\n",
              "       'RoofStyle', 'RoofMatl', 'Exterior1st', 'Exterior2nd', 'MasVnrType',\n",
              "       'MasVnrArea', 'ExterQual', 'ExterCond', 'Foundation', 'BsmtQual',\n",
              "       'BsmtCond', 'BsmtExposure', 'BsmtFinType1', 'BsmtFinSF1',\n",
              "       'BsmtFinType2', 'BsmtFinSF2', 'BsmtUnfSF', 'TotalBsmtSF', 'Heating',\n",
              "       'HeatingQC', 'CentralAir', 'Electrical', '1stFlrSF', '2ndFlrSF',\n",
              "       'LowQualFinSF', 'GrLivArea', 'BsmtFullBath', 'BsmtHalfBath', 'FullBath',\n",
              "       'HalfBath', 'BedroomAbvGr', 'KitchenAbvGr', 'KitchenQual',\n",
              "       'TotRmsAbvGrd', 'Functional', 'Fireplaces', 'FireplaceQu', 'GarageType',\n",
              "       'GarageYrBlt', 'GarageFinish', 'GarageCars', 'GarageArea', 'GarageQual',\n",
              "       'GarageCond', 'PavedDrive', 'WoodDeckSF', 'OpenPorchSF',\n",
              "       'EnclosedPorch', '3SsnPorch', 'ScreenPorch', 'PoolArea', 'PoolQC',\n",
              "       'Fence', 'MiscFeature', 'MiscVal', 'MoSold', 'YrSold', 'SaleType',\n",
              "       'SaleCondition', 'SalePrice'],\n",
              "      dtype='object')"
            ]
          },
          "execution_count": 71,
          "metadata": {},
          "output_type": "execute_result"
        }
      ],
      "source": [
        "data.columns"
      ]
    },
    {
      "cell_type": "code",
      "execution_count": 72,
      "metadata": {},
      "outputs": [
        {
          "name": "stdout",
          "output_type": "stream",
          "text": [
            "<class 'pandas.core.frame.DataFrame'>\n",
            "RangeIndex: 1460 entries, 0 to 1459\n",
            "Data columns (total 81 columns):\n",
            " #   Column         Non-Null Count  Dtype  \n",
            "---  ------         --------------  -----  \n",
            " 0   Id             1460 non-null   int64  \n",
            " 1   MSSubClass     1460 non-null   int64  \n",
            " 2   MSZoning       1460 non-null   object \n",
            " 3   LotFrontage    1201 non-null   float64\n",
            " 4   LotArea        1460 non-null   int64  \n",
            " 5   Street         1460 non-null   object \n",
            " 6   Alley          91 non-null     object \n",
            " 7   LotShape       1460 non-null   object \n",
            " 8   LandContour    1460 non-null   object \n",
            " 9   Utilities      1460 non-null   object \n",
            " 10  LotConfig      1460 non-null   object \n",
            " 11  LandSlope      1460 non-null   object \n",
            " 12  Neighborhood   1460 non-null   object \n",
            " 13  Condition1     1460 non-null   object \n",
            " 14  Condition2     1460 non-null   object \n",
            " 15  BldgType       1460 non-null   object \n",
            " 16  HouseStyle     1460 non-null   object \n",
            " 17  OverallQual    1460 non-null   int64  \n",
            " 18  OverallCond    1460 non-null   int64  \n",
            " 19  YearBuilt      1460 non-null   int64  \n",
            " 20  YearRemodAdd   1460 non-null   int64  \n",
            " 21  RoofStyle      1460 non-null   object \n",
            " 22  RoofMatl       1460 non-null   object \n",
            " 23  Exterior1st    1460 non-null   object \n",
            " 24  Exterior2nd    1460 non-null   object \n",
            " 25  MasVnrType     1452 non-null   object \n",
            " 26  MasVnrArea     1452 non-null   float64\n",
            " 27  ExterQual      1460 non-null   object \n",
            " 28  ExterCond      1460 non-null   object \n",
            " 29  Foundation     1460 non-null   object \n",
            " 30  BsmtQual       1423 non-null   object \n",
            " 31  BsmtCond       1423 non-null   object \n",
            " 32  BsmtExposure   1422 non-null   object \n",
            " 33  BsmtFinType1   1423 non-null   object \n",
            " 34  BsmtFinSF1     1460 non-null   int64  \n",
            " 35  BsmtFinType2   1422 non-null   object \n",
            " 36  BsmtFinSF2     1460 non-null   int64  \n",
            " 37  BsmtUnfSF      1460 non-null   int64  \n",
            " 38  TotalBsmtSF    1460 non-null   int64  \n",
            " 39  Heating        1460 non-null   object \n",
            " 40  HeatingQC      1460 non-null   object \n",
            " 41  CentralAir     1460 non-null   object \n",
            " 42  Electrical     1459 non-null   object \n",
            " 43  1stFlrSF       1460 non-null   int64  \n",
            " 44  2ndFlrSF       1460 non-null   int64  \n",
            " 45  LowQualFinSF   1460 non-null   int64  \n",
            " 46  GrLivArea      1460 non-null   int64  \n",
            " 47  BsmtFullBath   1460 non-null   int64  \n",
            " 48  BsmtHalfBath   1460 non-null   int64  \n",
            " 49  FullBath       1460 non-null   int64  \n",
            " 50  HalfBath       1460 non-null   int64  \n",
            " 51  BedroomAbvGr   1460 non-null   int64  \n",
            " 52  KitchenAbvGr   1460 non-null   int64  \n",
            " 53  KitchenQual    1460 non-null   object \n",
            " 54  TotRmsAbvGrd   1460 non-null   int64  \n",
            " 55  Functional     1460 non-null   object \n",
            " 56  Fireplaces     1460 non-null   int64  \n",
            " 57  FireplaceQu    770 non-null    object \n",
            " 58  GarageType     1379 non-null   object \n",
            " 59  GarageYrBlt    1379 non-null   float64\n",
            " 60  GarageFinish   1379 non-null   object \n",
            " 61  GarageCars     1460 non-null   int64  \n",
            " 62  GarageArea     1460 non-null   int64  \n",
            " 63  GarageQual     1379 non-null   object \n",
            " 64  GarageCond     1379 non-null   object \n",
            " 65  PavedDrive     1460 non-null   object \n",
            " 66  WoodDeckSF     1460 non-null   int64  \n",
            " 67  OpenPorchSF    1460 non-null   int64  \n",
            " 68  EnclosedPorch  1460 non-null   int64  \n",
            " 69  3SsnPorch      1460 non-null   int64  \n",
            " 70  ScreenPorch    1460 non-null   int64  \n",
            " 71  PoolArea       1460 non-null   int64  \n",
            " 72  PoolQC         7 non-null      object \n",
            " 73  Fence          281 non-null    object \n",
            " 74  MiscFeature    54 non-null     object \n",
            " 75  MiscVal        1460 non-null   int64  \n",
            " 76  MoSold         1460 non-null   int64  \n",
            " 77  YrSold         1460 non-null   int64  \n",
            " 78  SaleType       1460 non-null   object \n",
            " 79  SaleCondition  1460 non-null   object \n",
            " 80  SalePrice      1460 non-null   int64  \n",
            "dtypes: float64(3), int64(35), object(43)\n",
            "memory usage: 924.0+ KB\n"
          ]
        }
      ],
      "source": [
        "data.info()"
      ]
    },
    {
      "cell_type": "code",
      "execution_count": 73,
      "metadata": {
        "id": "LfBm8QB2BYC_"
      },
      "outputs": [],
      "source": [
        "data = data.drop(\"Id\", axis=1) #since it will not play any imp role for us in getting the op"
      ]
    },
    {
      "cell_type": "code",
      "execution_count": 74,
      "metadata": {
        "colab": {
          "base_uri": "https://localhost:8080/"
        },
        "id": "QusChQt0BfT3",
        "outputId": "17eb8c2e-c93d-46cd-8b50-7e96d548e83d"
      },
      "outputs": [
        {
          "data": {
            "text/plain": [
              "(1460, 80)"
            ]
          },
          "execution_count": 74,
          "metadata": {},
          "output_type": "execute_result"
        }
      ],
      "source": [
        "data.shape"
      ]
    },
    {
      "cell_type": "code",
      "execution_count": 75,
      "metadata": {
        "colab": {
          "base_uri": "https://localhost:8080/"
        },
        "id": "RTJwijUtBo4_",
        "outputId": "4c7350a2-b85d-4ac9-b9dd-02bde9f209cb"
      },
      "outputs": [
        {
          "data": {
            "text/plain": [
              "count      1460.000000\n",
              "mean     180921.195890\n",
              "std       79442.502883\n",
              "min       34900.000000\n",
              "25%      129975.000000\n",
              "50%      163000.000000\n",
              "75%      214000.000000\n",
              "max      755000.000000\n",
              "Name: SalePrice, dtype: float64"
            ]
          },
          "execution_count": 75,
          "metadata": {},
          "output_type": "execute_result"
        }
      ],
      "source": [
        "data['SalePrice'].describe()"
      ]
    },
    {
      "cell_type": "markdown",
      "metadata": {},
      "source": [
        "## Data Visualization"
      ]
    },
    {
      "cell_type": "code",
      "execution_count": 76,
      "metadata": {
        "colab": {
          "base_uri": "https://localhost:8080/",
          "height": 361
        },
        "id": "0sZ3B8-RDXGG",
        "outputId": "6ed2330f-031a-4f1d-b17e-933311054932"
      },
      "outputs": [
        {
          "name": "stderr",
          "output_type": "stream",
          "text": [
            "c:\\Users\\User\\AppData\\Local\\Programs\\Python\\Python39\\lib\\site-packages\\seaborn\\distributions.py:2557: FutureWarning: `distplot` is a deprecated function and will be removed in a future version. Please adapt your code to use either `displot` (a figure-level function with similar flexibility) or `histplot` (an axes-level function for histograms).\n",
            "  warnings.warn(msg, FutureWarning)\n"
          ]
        },
        {
          "data": {
            "text/plain": [
              "<AxesSubplot:xlabel='SalePrice', ylabel='Density'>"
            ]
          },
          "execution_count": 76,
          "metadata": {},
          "output_type": "execute_result"
        },
        {
          "data": {
            "image/png": "[encoded data removed]",
            "text/plain": [
              "<Figure size 432x288 with 1 Axes>"
            ]
          },
          "metadata": {
            "needs_background": "light"
          },
          "output_type": "display_data"
        }
      ],
      "source": [
        "sns.distplot(data['SalePrice'])"
      ]
    },
    {
      "cell_type": "code",
      "execution_count": 77,
      "metadata": {
        "id": "hvHciNWiEM7U"
      },
      "outputs": [
        {
          "data": {
            "text/html": [
              "<div>\n",
              "<style scoped>\n",
              "    .dataframe tbody tr th:only-of-type {\n",
              "        vertical-align: middle;\n",
              "    }\n",
              "\n",
              "    .dataframe tbody tr th {\n",
              "        vertical-align: top;\n",
              "    }\n",
              "\n",
              "    .dataframe thead th {\n",
              "        text-align: right;\n",
              "    }\n",
              "</style>\n",
              "<table border=\"1\" class=\"dataframe\">\n",
              "  <thead>\n",
              "    <tr style=\"text-align: right;\">\n",
              "      <th></th>\n",
              "      <th>SalePrice</th>\n",
              "      <th>GrLivArea</th>\n",
              "    </tr>\n",
              "  </thead>\n",
              "  <tbody>\n",
              "    <tr>\n",
              "      <th>0</th>\n",
              "      <td>208500</td>\n",
              "      <td>1710</td>\n",
              "    </tr>\n",
              "    <tr>\n",
              "      <th>1</th>\n",
              "      <td>181500</td>\n",
              "      <td>1262</td>\n",
              "    </tr>\n",
              "    <tr>\n",
              "      <th>2</th>\n",
              "      <td>223500</td>\n",
              "      <td>1786</td>\n",
              "    </tr>\n",
              "    <tr>\n",
              "      <th>3</th>\n",
              "      <td>140000</td>\n",
              "      <td>1717</td>\n",
              "    </tr>\n",
              "    <tr>\n",
              "      <th>4</th>\n",
              "      <td>250000</td>\n",
              "      <td>2198</td>\n",
              "    </tr>\n",
              "  </tbody>\n",
              "</table>\n",
              "</div>"
            ],
            "text/plain": [
              "   SalePrice  GrLivArea\n",
              "0     208500       1710\n",
              "1     181500       1262\n",
              "2     223500       1786\n",
              "3     140000       1717\n",
              "4     250000       2198"
            ]
          },
          "execution_count": 77,
          "metadata": {},
          "output_type": "execute_result"
        }
      ],
      "source": [
        "#selected_variable= \"GrLivArea\"\n",
        "# to see the relation between the given variable attribute and the target attribute\n",
        "# scatter plot\n",
        "#temp_data = pd.concat([data['SalePrice'], data['GrLivArea']], axis = 1)\n",
        "vars = ['SalePrice', 'GrLivArea']\n",
        "temp_data = data[vars]\n",
        "temp_data.head()"
      ]
    },
    {
      "cell_type": "code",
      "execution_count": 78,
      "metadata": {
        "id": "780KLQ6VFhfk"
      },
      "outputs": [
        {
          "data": {
            "text/plain": [
              "<AxesSubplot:xlabel='GrLivArea', ylabel='SalePrice'>"
            ]
          },
          "execution_count": 78,
          "metadata": {},
          "output_type": "execute_result"
        },
        {
          "data": {
            "image/png": "[encoded data removed]",
            "text/plain": [
              "<Figure size 432x288 with 1 Axes>"
            ]
          },
          "metadata": {
            "needs_background": "light"
          },
          "output_type": "display_data"
        }
      ],
      "source": [
        "temp_data.plot.scatter(x=\"GrLivArea\",y=\"SalePrice\")"
      ]
    },
    {
      "cell_type": "code",
      "execution_count": 79,
      "metadata": {
        "id": "ZWav45BsGVFr"
      },
      "outputs": [
        {
          "data": {
            "text/plain": [
              "<AxesSubplot:xlabel='GrLivArea'>"
            ]
          },
          "execution_count": 79,
          "metadata": {},
          "output_type": "execute_result"
        },
        {
          "data": {
            "image/png": "[encoded data removed]",
            "text/plain": [
              "<Figure size 432x288 with 1 Axes>"
            ]
          },
          "metadata": {
            "needs_background": "light"
          },
          "output_type": "display_data"
        }
      ],
      "source": [
        "temp_data.plot(x=\"GrLivArea\",y=\"SalePrice\")"
      ]
    },
    {
      "cell_type": "code",
      "execution_count": 80,
      "metadata": {
        "id": "5pwVmTgwG02d"
      },
      "outputs": [
        {
          "data": {
            "text/plain": [
              "<AxesSubplot:xlabel='TotalBsmtSF', ylabel='SalePrice'>"
            ]
          },
          "execution_count": 80,
          "metadata": {},
          "output_type": "execute_result"
        },
        {
          "data": {
            "image/png": "[encoded data removed]",
            "text/plain": [
              "<Figure size 432x288 with 1 Axes>"
            ]
          },
          "metadata": {
            "needs_background": "light"
          },
          "output_type": "display_data"
        }
      ],
      "source": [
        "vars = ['SalePrice', 'TotalBsmtSF']\n",
        "temp_data = data[vars]\n",
        "temp_data.plot.scatter(x=\"TotalBsmtSF\",y=\"SalePrice\")"
      ]
    },
    {
      "cell_type": "code",
      "execution_count": 81,
      "metadata": {
        "colab": {
          "base_uri": "https://localhost:8080/"
        },
        "id": "XoFX2hBRJp-7",
        "outputId": "aad37014-8747-4ed7-be20-c571e4853a9a"
      },
      "outputs": [
        {
          "data": {
            "text/plain": [
              "0     Normal\n",
              "1     Normal\n",
              "2     Normal\n",
              "3    Abnorml\n",
              "4     Normal\n",
              "5     Normal\n",
              "6     Normal\n",
              "7     Normal\n",
              "8    Abnorml\n",
              "9     Normal\n",
              "Name: SaleCondition, dtype: object"
            ]
          },
          "execution_count": 81,
          "metadata": {},
          "output_type": "execute_result"
        }
      ],
      "source": [
        "data['SaleCondition'].head(10)"
      ]
    },
    {
      "cell_type": "code",
      "execution_count": 82,
      "metadata": {
        "colab": {
          "base_uri": "https://localhost:8080/"
        },
        "id": "O-Kl-74bJ1j6",
        "outputId": "4fb61bd2-96f5-41b2-c001-ecd10e2bab2e"
      },
      "outputs": [
        {
          "data": {
            "text/plain": [
              "Normal     1198\n",
              "Partial     125\n",
              "Abnorml     101\n",
              "Family       20\n",
              "Alloca       12\n",
              "AdjLand       4\n",
              "Name: SaleCondition, dtype: int64"
            ]
          },
          "execution_count": 82,
          "metadata": {},
          "output_type": "execute_result"
        }
      ],
      "source": [
        "data['SaleCondition'].value_counts()"
      ]
    },
    {
      "cell_type": "code",
      "execution_count": 83,
      "metadata": {
        "colab": {
          "base_uri": "https://localhost:8080/"
        },
        "id": "X9HcpMe7LCfb",
        "outputId": "20517f32-22e7-4f3b-8305-e4c9f98d46c7"
      },
      "outputs": [
        {
          "data": {
            "text/plain": [
              "5     397\n",
              "6     374\n",
              "7     319\n",
              "8     168\n",
              "4     116\n",
              "9      43\n",
              "3      20\n",
              "10     18\n",
              "2       3\n",
              "1       2\n",
              "Name: OverallQual, dtype: int64"
            ]
          },
          "execution_count": 83,
          "metadata": {},
          "output_type": "execute_result"
        }
      ],
      "source": [
        "# relatiosnhip with categorical variables\n",
        "data['OverallQual'].head(20)\n",
        "data['OverallQual'].value_counts()"
      ]
    },
    {
      "cell_type": "markdown",
      "metadata": {
        "id": "pSKBYbPhLwq9"
      },
      "source": [
        "\n",
        "### relationship between discrete and continous"
      ]
    },
    {
      "cell_type": "code",
      "execution_count": 84,
      "metadata": {
        "colab": {
          "base_uri": "https://localhost:8080/",
          "height": 195
        },
        "id": "1P50gpEBMZPT",
        "outputId": "0748dfb0-94de-4439-f9df-8616e6d343f2"
      },
      "outputs": [
        {
          "data": {
            "text/html": [
              "<div>\n",
              "<style scoped>\n",
              "    .dataframe tbody tr th:only-of-type {\n",
              "        vertical-align: middle;\n",
              "    }\n",
              "\n",
              "    .dataframe tbody tr th {\n",
              "        vertical-align: top;\n",
              "    }\n",
              "\n",
              "    .dataframe thead th {\n",
              "        text-align: right;\n",
              "    }\n",
              "</style>\n",
              "<table border=\"1\" class=\"dataframe\">\n",
              "  <thead>\n",
              "    <tr style=\"text-align: right;\">\n",
              "      <th></th>\n",
              "      <th>OverallQual</th>\n",
              "      <th>SalePrice</th>\n",
              "    </tr>\n",
              "  </thead>\n",
              "  <tbody>\n",
              "    <tr>\n",
              "      <th>0</th>\n",
              "      <td>7</td>\n",
              "      <td>208500</td>\n",
              "    </tr>\n",
              "    <tr>\n",
              "      <th>1</th>\n",
              "      <td>6</td>\n",
              "      <td>181500</td>\n",
              "    </tr>\n",
              "    <tr>\n",
              "      <th>2</th>\n",
              "      <td>7</td>\n",
              "      <td>223500</td>\n",
              "    </tr>\n",
              "    <tr>\n",
              "      <th>3</th>\n",
              "      <td>7</td>\n",
              "      <td>140000</td>\n",
              "    </tr>\n",
              "    <tr>\n",
              "      <th>4</th>\n",
              "      <td>8</td>\n",
              "      <td>250000</td>\n",
              "    </tr>\n",
              "  </tbody>\n",
              "</table>\n",
              "</div>"
            ],
            "text/plain": [
              "   OverallQual  SalePrice\n",
              "0            7     208500\n",
              "1            6     181500\n",
              "2            7     223500\n",
              "3            7     140000\n",
              "4            8     250000"
            ]
          },
          "execution_count": 84,
          "metadata": {},
          "output_type": "execute_result"
        }
      ],
      "source": [
        "vars = ['OverallQual', \"SalePrice\"]\n",
        "temp_df = data[vars]\n",
        "temp_df.head()"
      ]
    },
    {
      "cell_type": "code",
      "execution_count": 85,
      "metadata": {
        "colab": {
          "base_uri": "https://localhost:8080/",
          "height": 296
        },
        "id": "_cDXKP9_X1iI",
        "outputId": "108cfff9-c66c-4576-e9e3-ed20bcc464ef"
      },
      "outputs": [
        {
          "data": {
            "text/plain": [
              "<AxesSubplot:xlabel='OverallQual', ylabel='SalePrice'>"
            ]
          },
          "execution_count": 85,
          "metadata": {},
          "output_type": "execute_result"
        },
        {
          "data": {
            "image/png": "[encoded data removed]",
            "text/plain": [
              "<Figure size 432x288 with 1 Axes>"
            ]
          },
          "metadata": {
            "needs_background": "light"
          },
          "output_type": "display_data"
        }
      ],
      "source": [
        "sns.boxplot(x=\"OverallQual\", y=\"SalePrice\", data=temp_df)"
      ]
    },
    {
      "cell_type": "code",
      "execution_count": 86,
      "metadata": {
        "colab": {
          "base_uri": "https://localhost:8080/",
          "height": 195
        },
        "id": "V5oASVxjZouI",
        "outputId": "ee68efdd-9ac0-44c8-deca-b1cc623351b5"
      },
      "outputs": [
        {
          "data": {
            "text/html": [
              "<div>\n",
              "<style scoped>\n",
              "    .dataframe tbody tr th:only-of-type {\n",
              "        vertical-align: middle;\n",
              "    }\n",
              "\n",
              "    .dataframe tbody tr th {\n",
              "        vertical-align: top;\n",
              "    }\n",
              "\n",
              "    .dataframe thead th {\n",
              "        text-align: right;\n",
              "    }\n",
              "</style>\n",
              "<table border=\"1\" class=\"dataframe\">\n",
              "  <thead>\n",
              "    <tr style=\"text-align: right;\">\n",
              "      <th></th>\n",
              "      <th>YearBuilt</th>\n",
              "      <th>SalePrice</th>\n",
              "    </tr>\n",
              "  </thead>\n",
              "  <tbody>\n",
              "    <tr>\n",
              "      <th>0</th>\n",
              "      <td>2003</td>\n",
              "      <td>208500</td>\n",
              "    </tr>\n",
              "    <tr>\n",
              "      <th>1</th>\n",
              "      <td>1976</td>\n",
              "      <td>181500</td>\n",
              "    </tr>\n",
              "    <tr>\n",
              "      <th>2</th>\n",
              "      <td>2001</td>\n",
              "      <td>223500</td>\n",
              "    </tr>\n",
              "    <tr>\n",
              "      <th>3</th>\n",
              "      <td>1915</td>\n",
              "      <td>140000</td>\n",
              "    </tr>\n",
              "    <tr>\n",
              "      <th>4</th>\n",
              "      <td>2000</td>\n",
              "      <td>250000</td>\n",
              "    </tr>\n",
              "  </tbody>\n",
              "</table>\n",
              "</div>"
            ],
            "text/plain": [
              "   YearBuilt  SalePrice\n",
              "0       2003     208500\n",
              "1       1976     181500\n",
              "2       2001     223500\n",
              "3       1915     140000\n",
              "4       2000     250000"
            ]
          },
          "execution_count": 86,
          "metadata": {},
          "output_type": "execute_result"
        }
      ],
      "source": [
        "vars = ['YearBuilt', 'SalePrice']\n",
        "temp_df = data[vars]\n",
        "temp_df.head()"
      ]
    },
    {
      "cell_type": "code",
      "execution_count": 87,
      "metadata": {
        "colab": {
          "base_uri": "https://localhost:8080/",
          "height": 296
        },
        "id": "efFAxGX9aA6V",
        "outputId": "88449740-23f6-4728-e6f6-1b995136bc43"
      },
      "outputs": [
        {
          "data": {
            "text/plain": [
              "<AxesSubplot:xlabel='YearBuilt', ylabel='SalePrice'>"
            ]
          },
          "execution_count": 87,
          "metadata": {},
          "output_type": "execute_result"
        },
        {
          "data": {
            "image/png": "[encoded data removed]",
            "text/plain": [
              "<Figure size 432x288 with 1 Axes>"
            ]
          },
          "metadata": {
            "needs_background": "light"
          },
          "output_type": "display_data"
        }
      ],
      "source": [
        "sns.boxplot(x=\"YearBuilt\",y=\"SalePrice\", data= temp_df)"
      ]
    },
    {
      "cell_type": "markdown",
      "metadata": {
        "id": "uvAt7wGabJek"
      },
      "source": [
        "## handling missing data\n",
        "### Q1- how prevelant is the missing data\n",
        "### Q2- Is the missing data random or does it have some pattern"
      ]
    },
    {
      "cell_type": "code",
      "execution_count": 88,
      "metadata": {
        "id": "IjWa1KuVbfXG"
      },
      "outputs": [],
      "source": [
        "#midding data \n",
        "#find out the total counts of missing data in each attribute and then find percentage\n",
        "total = data.isnull().sum().sort_values(ascending= False)\n",
        "percentage = (data.isnull().sum()/data.isnull().count()).sort_values(ascending=False)\n",
        "percentage = percentage*100"
      ]
    },
    {
      "cell_type": "code",
      "execution_count": 89,
      "metadata": {
        "colab": {
          "base_uri": "https://localhost:8080/",
          "height": 402
        },
        "id": "p1tb_fO2cDW8",
        "outputId": "ff375218-1bb4-4edb-bfa3-4424a084cb7c"
      },
      "outputs": [
        {
          "data": {
            "text/html": [
              "<div>\n",
              "<style scoped>\n",
              "    .dataframe tbody tr th:only-of-type {\n",
              "        vertical-align: middle;\n",
              "    }\n",
              "\n",
              "    .dataframe tbody tr th {\n",
              "        vertical-align: top;\n",
              "    }\n",
              "\n",
              "    .dataframe thead th {\n",
              "        text-align: right;\n",
              "    }\n",
              "</style>\n",
              "<table border=\"1\" class=\"dataframe\">\n",
              "  <thead>\n",
              "    <tr style=\"text-align: right;\">\n",
              "      <th></th>\n",
              "      <th>Total Missisng Value Count</th>\n",
              "      <th>Percentage Misssing Value</th>\n",
              "    </tr>\n",
              "  </thead>\n",
              "  <tbody>\n",
              "    <tr>\n",
              "      <th>PoolQC</th>\n",
              "      <td>1453</td>\n",
              "      <td>99.520548</td>\n",
              "    </tr>\n",
              "    <tr>\n",
              "      <th>MiscFeature</th>\n",
              "      <td>1406</td>\n",
              "      <td>96.301370</td>\n",
              "    </tr>\n",
              "    <tr>\n",
              "      <th>Alley</th>\n",
              "      <td>1369</td>\n",
              "      <td>93.767123</td>\n",
              "    </tr>\n",
              "    <tr>\n",
              "      <th>Fence</th>\n",
              "      <td>1179</td>\n",
              "      <td>80.753425</td>\n",
              "    </tr>\n",
              "    <tr>\n",
              "      <th>FireplaceQu</th>\n",
              "      <td>690</td>\n",
              "      <td>47.260274</td>\n",
              "    </tr>\n",
              "    <tr>\n",
              "      <th>...</th>\n",
              "      <td>...</td>\n",
              "      <td>...</td>\n",
              "    </tr>\n",
              "    <tr>\n",
              "      <th>Heating</th>\n",
              "      <td>0</td>\n",
              "      <td>0.000000</td>\n",
              "    </tr>\n",
              "    <tr>\n",
              "      <th>HeatingQC</th>\n",
              "      <td>0</td>\n",
              "      <td>0.000000</td>\n",
              "    </tr>\n",
              "    <tr>\n",
              "      <th>MSZoning</th>\n",
              "      <td>0</td>\n",
              "      <td>0.000000</td>\n",
              "    </tr>\n",
              "    <tr>\n",
              "      <th>1stFlrSF</th>\n",
              "      <td>0</td>\n",
              "      <td>0.000000</td>\n",
              "    </tr>\n",
              "    <tr>\n",
              "      <th>SalePrice</th>\n",
              "      <td>0</td>\n",
              "      <td>0.000000</td>\n",
              "    </tr>\n",
              "  </tbody>\n",
              "</table>\n",
              "<p>80 rows × 2 columns</p>\n",
              "</div>"
            ],
            "text/plain": [
              "             Total Missisng Value Count  Percentage Misssing Value\n",
              "PoolQC                             1453                  99.520548\n",
              "MiscFeature                        1406                  96.301370\n",
              "Alley                              1369                  93.767123\n",
              "Fence                              1179                  80.753425\n",
              "FireplaceQu                         690                  47.260274\n",
              "...                                 ...                        ...\n",
              "Heating                               0                   0.000000\n",
              "HeatingQC                             0                   0.000000\n",
              "MSZoning                              0                   0.000000\n",
              "1stFlrSF                              0                   0.000000\n",
              "SalePrice                             0                   0.000000\n",
              "\n",
              "[80 rows x 2 columns]"
            ]
          },
          "execution_count": 89,
          "metadata": {},
          "output_type": "execute_result"
        }
      ],
      "source": [
        "missing_data = pd.DataFrame({'Total Missisng Value Count': total, 'Percentage Misssing Value': percentage})\n",
        "missing_data"
      ]
    },
    {
      "cell_type": "code",
      "execution_count": 90,
      "metadata": {
        "id": "wfHQw8ig8w8h"
      },
      "outputs": [],
      "source": [
        "filtered = missing_data[missing_data['Percentage Misssing Value'] >= 15]"
      ]
    },
    {
      "cell_type": "markdown",
      "metadata": {
        "id": "2NQExhjfAfm-"
      },
      "source": [
        "#### Category 1- NA means not-present for these categorical variables - 'none'\n",
        "#### Category 2- Those features which can be filled with zero\n",
        "#### Category 3- Category with very few missing value can be replaced with mode(mosst frequent value)\n",
        "#### Category 4- Continous features which can be replaced by mean or median\n",
        "#### Category 5- NA with typ or typical functionality"
      ]
    },
    {
      "cell_type": "code",
      "execution_count": 91,
      "metadata": {
        "colab": {
          "base_uri": "https://localhost:8080/"
        },
        "id": "n04EjL_qCCvG",
        "outputId": "39f3f2a6-9c10-42c2-9cf1-12bf1296a10c"
      },
      "outputs": [
        {
          "name": "stdout",
          "output_type": "stream",
          "text": [
            "PoolQC\n",
            "MiscFeature\n",
            "Alley\n",
            "Fence\n",
            "FireplaceQu\n",
            "GarageType\n",
            "GarageFinish\n",
            "GarageQual\n",
            "GarageCond\n",
            "BsmtQual\n",
            "BsmtCond\n",
            "BsmtExposure\n",
            "BsmtFinType1\n",
            "BsmtFinType2\n",
            "MasVnrType\n",
            "MSSubClass\n"
          ]
        }
      ],
      "source": [
        "#Category 1\n",
        "category_1_list = [\"PoolQC\",\"MiscFeature\",\"Alley\",\"Fence\",\"FireplaceQu\",\n",
        "                      'GarageType', 'GarageFinish', 'GarageQual', 'GarageCond',\n",
        "                     'BsmtQual', 'BsmtCond', 'BsmtExposure', 'BsmtFinType1',\n",
        "                      'BsmtFinType2',\"MasVnrType\",'MSSubClass']\n",
        "for feature in category_1_list:\n",
        "  print(feature)\n",
        "  data[feature] = data[feature].fillna('None')"
      ]
    },
    {
      "cell_type": "code",
      "execution_count": 92,
      "metadata": {
        "id": "AeTuPzJTFQ73"
      },
      "outputs": [],
      "source": [
        "#Category 2\n",
        "category_2_list = ['GarageYrBlt', 'GarageArea', 'GarageCars','BsmtFinSF1',\n",
        "                      'BsmtFinSF2', 'BsmtUnfSF','TotalBsmtSF', 'BsmtFullBath', \n",
        "                      'BsmtHalfBath', \"MasVnrArea\"]\n",
        "for feature in category_2_list:\n",
        "  data[feature] = data[feature].fillna(0)"
      ]
    },
    {
      "cell_type": "code",
      "execution_count": 93,
      "metadata": {
        "id": "w1bPqkXYJ0-N"
      },
      "outputs": [],
      "source": [
        "#Category 3\n",
        "category_3_list = ['MSZoning','Electrical','KitchenQual','Exterior1st','Exterior2nd',\n",
        "                     'SaleType','Utilities']\n",
        "for feature in category_3_list:\n",
        "  data[feature] = data[feature].fillna(data[feature].mode()[0])"
      ]
    },
    {
      "cell_type": "code",
      "execution_count": 94,
      "metadata": {
        "id": "eFmol1neKQgU"
      },
      "outputs": [],
      "source": [
        "#Category 4\n",
        "category_4_list = [\"LotFrontage\"]\n",
        "for feature in category_4_list:\n",
        "  data[feature] = data[feature].fillna(data[feature].median())"
      ]
    },
    {
      "cell_type": "code",
      "execution_count": 95,
      "metadata": {
        "id": "HeUYGT94KSqb"
      },
      "outputs": [],
      "source": [
        "#Category 5\n",
        "data['Functional'] = data['Functional'].fillna('Typ')"
      ]
    },
    {
      "cell_type": "code",
      "execution_count": 96,
      "metadata": {
        "colab": {
          "base_uri": "https://localhost:8080/"
        },
        "id": "aY9wGPW1KVdv",
        "outputId": "57350aa2-dc17-4d38-e8af-0a70da25a572"
      },
      "outputs": [
        {
          "data": {
            "text/plain": [
              "(1460, 80)"
            ]
          },
          "execution_count": 96,
          "metadata": {},
          "output_type": "execute_result"
        }
      ],
      "source": [
        "data.shape"
      ]
    },
    {
      "cell_type": "code",
      "execution_count": 97,
      "metadata": {
        "colab": {
          "base_uri": "https://localhost:8080/"
        },
        "id": "xADgj6LhKYA7",
        "outputId": "cfa0957e-6aea-40ae-bb98-5eb8058efca7"
      },
      "outputs": [
        {
          "name": "stdout",
          "output_type": "stream",
          "text": [
            "<class 'pandas.core.frame.DataFrame'>\n",
            "RangeIndex: 1460 entries, 0 to 1459\n",
            "Data columns (total 80 columns):\n",
            " #   Column         Non-Null Count  Dtype  \n",
            "---  ------         --------------  -----  \n",
            " 0   MSSubClass     1460 non-null   int64  \n",
            " 1   MSZoning       1460 non-null   object \n",
            " 2   LotFrontage    1460 non-null   float64\n",
            " 3   LotArea        1460 non-null   int64  \n",
            " 4   Street         1460 non-null   object \n",
            " 5   Alley          1460 non-null   object \n",
            " 6   LotShape       1460 non-null   object \n",
            " 7   LandContour    1460 non-null   object \n",
            " 8   Utilities      1460 non-null   object \n",
            " 9   LotConfig      1460 non-null   object \n",
            " 10  LandSlope      1460 non-null   object \n",
            " 11  Neighborhood   1460 non-null   object \n",
            " 12  Condition1     1460 non-null   object \n",
            " 13  Condition2     1460 non-null   object \n",
            " 14  BldgType       1460 non-null   object \n",
            " 15  HouseStyle     1460 non-null   object \n",
            " 16  OverallQual    1460 non-null   int64  \n",
            " 17  OverallCond    1460 non-null   int64  \n",
            " 18  YearBuilt      1460 non-null   int64  \n",
            " 19  YearRemodAdd   1460 non-null   int64  \n",
            " 20  RoofStyle      1460 non-null   object \n",
            " 21  RoofMatl       1460 non-null   object \n",
            " 22  Exterior1st    1460 non-null   object \n",
            " 23  Exterior2nd    1460 non-null   object \n",
            " 24  MasVnrType     1460 non-null   object \n",
            " 25  MasVnrArea     1460 non-null   float64\n",
            " 26  ExterQual      1460 non-null   object \n",
            " 27  ExterCond      1460 non-null   object \n",
            " 28  Foundation     1460 non-null   object \n",
            " 29  BsmtQual       1460 non-null   object \n",
            " 30  BsmtCond       1460 non-null   object \n",
            " 31  BsmtExposure   1460 non-null   object \n",
            " 32  BsmtFinType1   1460 non-null   object \n",
            " 33  BsmtFinSF1     1460 non-null   int64  \n",
            " 34  BsmtFinType2   1460 non-null   object \n",
            " 35  BsmtFinSF2     1460 non-null   int64  \n",
            " 36  BsmtUnfSF      1460 non-null   int64  \n",
            " 37  TotalBsmtSF    1460 non-null   int64  \n",
            " 38  Heating        1460 non-null   object \n",
            " 39  HeatingQC      1460 non-null   object \n",
            " 40  CentralAir     1460 non-null   object \n",
            " 41  Electrical     1460 non-null   object \n",
            " 42  1stFlrSF       1460 non-null   int64  \n",
            " 43  2ndFlrSF       1460 non-null   int64  \n",
            " 44  LowQualFinSF   1460 non-null   int64  \n",
            " 45  GrLivArea      1460 non-null   int64  \n",
            " 46  BsmtFullBath   1460 non-null   int64  \n",
            " 47  BsmtHalfBath   1460 non-null   int64  \n",
            " 48  FullBath       1460 non-null   int64  \n",
            " 49  HalfBath       1460 non-null   int64  \n",
            " 50  BedroomAbvGr   1460 non-null   int64  \n",
            " 51  KitchenAbvGr   1460 non-null   int64  \n",
            " 52  KitchenQual    1460 non-null   object \n",
            " 53  TotRmsAbvGrd   1460 non-null   int64  \n",
            " 54  Functional     1460 non-null   object \n",
            " 55  Fireplaces     1460 non-null   int64  \n",
            " 56  FireplaceQu    1460 non-null   object \n",
            " 57  GarageType     1460 non-null   object \n",
            " 58  GarageYrBlt    1460 non-null   float64\n",
            " 59  GarageFinish   1460 non-null   object \n",
            " 60  GarageCars     1460 non-null   int64  \n",
            " 61  GarageArea     1460 non-null   int64  \n",
            " 62  GarageQual     1460 non-null   object \n",
            " 63  GarageCond     1460 non-null   object \n",
            " 64  PavedDrive     1460 non-null   object \n",
            " 65  WoodDeckSF     1460 non-null   int64  \n",
            " 66  OpenPorchSF    1460 non-null   int64  \n",
            " 67  EnclosedPorch  1460 non-null   int64  \n",
            " 68  3SsnPorch      1460 non-null   int64  \n",
            " 69  ScreenPorch    1460 non-null   int64  \n",
            " 70  PoolArea       1460 non-null   int64  \n",
            " 71  PoolQC         1460 non-null   object \n",
            " 72  Fence          1460 non-null   object \n",
            " 73  MiscFeature    1460 non-null   object \n",
            " 74  MiscVal        1460 non-null   int64  \n",
            " 75  MoSold         1460 non-null   int64  \n",
            " 76  YrSold         1460 non-null   int64  \n",
            " 77  SaleType       1460 non-null   object \n",
            " 78  SaleCondition  1460 non-null   object \n",
            " 79  SalePrice      1460 non-null   int64  \n",
            "dtypes: float64(3), int64(34), object(43)\n",
            "memory usage: 912.6+ KB\n"
          ]
        }
      ],
      "source": [
        "data.info()"
      ]
    },
    {
      "cell_type": "markdown",
      "metadata": {},
      "source": [
        "### Converting str to num types - label encoding "
      ]
    },
    {
      "cell_type": "markdown",
      "metadata": {
        "id": "sIbanKglS6gs"
      },
      "source": [
        "#### 1.Get all the  object data type\n",
        "#### 2. Get all the col names in the list of step 1"
      ]
    },
    {
      "cell_type": "code",
      "execution_count": 98,
      "metadata": {
        "id": "_HfevM9nLCAU"
      },
      "outputs": [
        {
          "name": "stdout",
          "output_type": "stream",
          "text": [
            "['MSZoning', 'Street', 'Alley', 'LotShape', 'LandContour', 'Utilities', 'LotConfig', 'LandSlope', 'Neighborhood', 'Condition1', 'Condition2', 'BldgType', 'HouseStyle', 'RoofStyle', 'RoofMatl', 'Exterior1st', 'Exterior2nd', 'MasVnrType', 'ExterQual', 'ExterCond', 'Foundation', 'BsmtQual', 'BsmtCond', 'BsmtExposure', 'BsmtFinType1', 'BsmtFinType2', 'Heating', 'HeatingQC', 'CentralAir', 'Electrical', 'KitchenQual', 'Functional', 'FireplaceQu', 'GarageType', 'GarageFinish', 'GarageQual', 'GarageCond', 'PavedDrive', 'PoolQC', 'Fence', 'MiscFeature', 'SaleType', 'SaleCondition']\n"
          ]
        }
      ],
      "source": [
        "#We need to get all the categorical object columns\n",
        "data_object = data.select_dtypes('object')\n",
        "data_object_list = list(data_object.columns)\n",
        "print(data_object_list)"
      ]
    },
    {
      "cell_type": "code",
      "execution_count": 99,
      "metadata": {
        "id": "Z24USUDjNcTc"
      },
      "outputs": [],
      "source": [
        "from sklearn.preprocessing import OneHotEncoder\n",
        "from sklearn.preprocessing import LabelEncoder"
      ]
    },
    {
      "cell_type": "code",
      "execution_count": 100,
      "metadata": {
        "colab": {
          "base_uri": "https://localhost:8080/",
          "height": 215
        },
        "id": "cMNd-P2nOmrt",
        "outputId": "b2319849-c4c6-48d4-c684-79746e910221"
      },
      "outputs": [
        {
          "data": {
            "text/html": [
              "<div>\n",
              "<style scoped>\n",
              "    .dataframe tbody tr th:only-of-type {\n",
              "        vertical-align: middle;\n",
              "    }\n",
              "\n",
              "    .dataframe tbody tr th {\n",
              "        vertical-align: top;\n",
              "    }\n",
              "\n",
              "    .dataframe thead th {\n",
              "        text-align: right;\n",
              "    }\n",
              "</style>\n",
              "<table border=\"1\" class=\"dataframe\">\n",
              "  <thead>\n",
              "    <tr style=\"text-align: right;\">\n",
              "      <th></th>\n",
              "      <th>MSZoning</th>\n",
              "      <th>Street</th>\n",
              "      <th>Alley</th>\n",
              "      <th>LotShape</th>\n",
              "      <th>LandContour</th>\n",
              "      <th>Utilities</th>\n",
              "      <th>LotConfig</th>\n",
              "      <th>LandSlope</th>\n",
              "      <th>Neighborhood</th>\n",
              "      <th>Condition1</th>\n",
              "      <th>...</th>\n",
              "      <th>GarageType</th>\n",
              "      <th>GarageFinish</th>\n",
              "      <th>GarageQual</th>\n",
              "      <th>GarageCond</th>\n",
              "      <th>PavedDrive</th>\n",
              "      <th>PoolQC</th>\n",
              "      <th>Fence</th>\n",
              "      <th>MiscFeature</th>\n",
              "      <th>SaleType</th>\n",
              "      <th>SaleCondition</th>\n",
              "    </tr>\n",
              "  </thead>\n",
              "  <tbody>\n",
              "    <tr>\n",
              "      <th>0</th>\n",
              "      <td>RL</td>\n",
              "      <td>Pave</td>\n",
              "      <td>None</td>\n",
              "      <td>Reg</td>\n",
              "      <td>Lvl</td>\n",
              "      <td>AllPub</td>\n",
              "      <td>Inside</td>\n",
              "      <td>Gtl</td>\n",
              "      <td>CollgCr</td>\n",
              "      <td>Norm</td>\n",
              "      <td>...</td>\n",
              "      <td>Attchd</td>\n",
              "      <td>RFn</td>\n",
              "      <td>TA</td>\n",
              "      <td>TA</td>\n",
              "      <td>Y</td>\n",
              "      <td>None</td>\n",
              "      <td>None</td>\n",
              "      <td>None</td>\n",
              "      <td>WD</td>\n",
              "      <td>Normal</td>\n",
              "    </tr>\n",
              "    <tr>\n",
              "      <th>1</th>\n",
              "      <td>RL</td>\n",
              "      <td>Pave</td>\n",
              "      <td>None</td>\n",
              "      <td>Reg</td>\n",
              "      <td>Lvl</td>\n",
              "      <td>AllPub</td>\n",
              "      <td>FR2</td>\n",
              "      <td>Gtl</td>\n",
              "      <td>Veenker</td>\n",
              "      <td>Feedr</td>\n",
              "      <td>...</td>\n",
              "      <td>Attchd</td>\n",
              "      <td>RFn</td>\n",
              "      <td>TA</td>\n",
              "      <td>TA</td>\n",
              "      <td>Y</td>\n",
              "      <td>None</td>\n",
              "      <td>None</td>\n",
              "      <td>None</td>\n",
              "      <td>WD</td>\n",
              "      <td>Normal</td>\n",
              "    </tr>\n",
              "    <tr>\n",
              "      <th>2</th>\n",
              "      <td>RL</td>\n",
              "      <td>Pave</td>\n",
              "      <td>None</td>\n",
              "      <td>IR1</td>\n",
              "      <td>Lvl</td>\n",
              "      <td>AllPub</td>\n",
              "      <td>Inside</td>\n",
              "      <td>Gtl</td>\n",
              "      <td>CollgCr</td>\n",
              "      <td>Norm</td>\n",
              "      <td>...</td>\n",
              "      <td>Attchd</td>\n",
              "      <td>RFn</td>\n",
              "      <td>TA</td>\n",
              "      <td>TA</td>\n",
              "      <td>Y</td>\n",
              "      <td>None</td>\n",
              "      <td>None</td>\n",
              "      <td>None</td>\n",
              "      <td>WD</td>\n",
              "      <td>Normal</td>\n",
              "    </tr>\n",
              "    <tr>\n",
              "      <th>3</th>\n",
              "      <td>RL</td>\n",
              "      <td>Pave</td>\n",
              "      <td>None</td>\n",
              "      <td>IR1</td>\n",
              "      <td>Lvl</td>\n",
              "      <td>AllPub</td>\n",
              "      <td>Corner</td>\n",
              "      <td>Gtl</td>\n",
              "      <td>Crawfor</td>\n",
              "      <td>Norm</td>\n",
              "      <td>...</td>\n",
              "      <td>Detchd</td>\n",
              "      <td>Unf</td>\n",
              "      <td>TA</td>\n",
              "      <td>TA</td>\n",
              "      <td>Y</td>\n",
              "      <td>None</td>\n",
              "      <td>None</td>\n",
              "      <td>None</td>\n",
              "      <td>WD</td>\n",
              "      <td>Abnorml</td>\n",
              "    </tr>\n",
              "    <tr>\n",
              "      <th>4</th>\n",
              "      <td>RL</td>\n",
              "      <td>Pave</td>\n",
              "      <td>None</td>\n",
              "      <td>IR1</td>\n",
              "      <td>Lvl</td>\n",
              "      <td>AllPub</td>\n",
              "      <td>FR2</td>\n",
              "      <td>Gtl</td>\n",
              "      <td>NoRidge</td>\n",
              "      <td>Norm</td>\n",
              "      <td>...</td>\n",
              "      <td>Attchd</td>\n",
              "      <td>RFn</td>\n",
              "      <td>TA</td>\n",
              "      <td>TA</td>\n",
              "      <td>Y</td>\n",
              "      <td>None</td>\n",
              "      <td>None</td>\n",
              "      <td>None</td>\n",
              "      <td>WD</td>\n",
              "      <td>Normal</td>\n",
              "    </tr>\n",
              "  </tbody>\n",
              "</table>\n",
              "<p>5 rows × 43 columns</p>\n",
              "</div>"
            ],
            "text/plain": [
              "  MSZoning Street Alley LotShape LandContour Utilities LotConfig LandSlope  \\\n",
              "0       RL   Pave  None      Reg         Lvl    AllPub    Inside       Gtl   \n",
              "1       RL   Pave  None      Reg         Lvl    AllPub       FR2       Gtl   \n",
              "2       RL   Pave  None      IR1         Lvl    AllPub    Inside       Gtl   \n",
              "3       RL   Pave  None      IR1         Lvl    AllPub    Corner       Gtl   \n",
              "4       RL   Pave  None      IR1         Lvl    AllPub       FR2       Gtl   \n",
              "\n",
              "  Neighborhood Condition1  ... GarageType GarageFinish GarageQual GarageCond  \\\n",
              "0      CollgCr       Norm  ...     Attchd          RFn         TA         TA   \n",
              "1      Veenker      Feedr  ...     Attchd          RFn         TA         TA   \n",
              "2      CollgCr       Norm  ...     Attchd          RFn         TA         TA   \n",
              "3      Crawfor       Norm  ...     Detchd          Unf         TA         TA   \n",
              "4      NoRidge       Norm  ...     Attchd          RFn         TA         TA   \n",
              "\n",
              "  PavedDrive PoolQC Fence MiscFeature SaleType SaleCondition  \n",
              "0          Y   None  None        None       WD        Normal  \n",
              "1          Y   None  None        None       WD        Normal  \n",
              "2          Y   None  None        None       WD        Normal  \n",
              "3          Y   None  None        None       WD       Abnorml  \n",
              "4          Y   None  None        None       WD        Normal  \n",
              "\n",
              "[5 rows x 43 columns]"
            ]
          },
          "execution_count": 100,
          "metadata": {},
          "output_type": "execute_result"
        }
      ],
      "source": [
        "data_object.head()"
      ]
    },
    {
      "cell_type": "code",
      "execution_count": 101,
      "metadata": {
        "colab": {
          "base_uri": "https://localhost:8080/"
        },
        "id": "223BpdHWPH_s",
        "outputId": "2177bd5b-4b2c-4956-d3e4-4c7d49d5029c"
      },
      "outputs": [
        {
          "data": {
            "text/plain": [
              "(1460, 43)"
            ]
          },
          "execution_count": 101,
          "metadata": {},
          "output_type": "execute_result"
        }
      ],
      "source": [
        "data_object.shape # 43 features of object type"
      ]
    },
    {
      "cell_type": "code",
      "execution_count": 102,
      "metadata": {
        "id": "HEaTht9yTNxT"
      },
      "outputs": [],
      "source": [
        "#3 applying onehot encoding on this 43 object dtype features\n",
        "# ohe = OneHotEncoder()\n",
        "# data_encoded = ohe.fit_transform(data_object).toarray() \n",
        "#converts all the string values into the numeric values using one hot encoding"
      ]
    },
    {
      "cell_type": "code",
      "execution_count": 103,
      "metadata": {
        "id": "xJt1E0MdOKd0"
      },
      "outputs": [
        {
          "data": {
            "text/html": [
              "<div>\n",
              "<style scoped>\n",
              "    .dataframe tbody tr th:only-of-type {\n",
              "        vertical-align: middle;\n",
              "    }\n",
              "\n",
              "    .dataframe tbody tr th {\n",
              "        vertical-align: top;\n",
              "    }\n",
              "\n",
              "    .dataframe thead th {\n",
              "        text-align: right;\n",
              "    }\n",
              "</style>\n",
              "<table border=\"1\" class=\"dataframe\">\n",
              "  <thead>\n",
              "    <tr style=\"text-align: right;\">\n",
              "      <th></th>\n",
              "      <th>MSZoning</th>\n",
              "      <th>Street</th>\n",
              "      <th>Alley</th>\n",
              "      <th>LotShape</th>\n",
              "      <th>LandContour</th>\n",
              "      <th>Utilities</th>\n",
              "      <th>LotConfig</th>\n",
              "      <th>LandSlope</th>\n",
              "      <th>Neighborhood</th>\n",
              "      <th>Condition1</th>\n",
              "      <th>...</th>\n",
              "      <th>GarageType</th>\n",
              "      <th>GarageFinish</th>\n",
              "      <th>GarageQual</th>\n",
              "      <th>GarageCond</th>\n",
              "      <th>PavedDrive</th>\n",
              "      <th>PoolQC</th>\n",
              "      <th>Fence</th>\n",
              "      <th>MiscFeature</th>\n",
              "      <th>SaleType</th>\n",
              "      <th>SaleCondition</th>\n",
              "    </tr>\n",
              "  </thead>\n",
              "  <tbody>\n",
              "    <tr>\n",
              "      <th>0</th>\n",
              "      <td>3</td>\n",
              "      <td>1</td>\n",
              "      <td>1</td>\n",
              "      <td>3</td>\n",
              "      <td>3</td>\n",
              "      <td>0</td>\n",
              "      <td>4</td>\n",
              "      <td>0</td>\n",
              "      <td>5</td>\n",
              "      <td>2</td>\n",
              "      <td>...</td>\n",
              "      <td>1</td>\n",
              "      <td>2</td>\n",
              "      <td>5</td>\n",
              "      <td>5</td>\n",
              "      <td>2</td>\n",
              "      <td>3</td>\n",
              "      <td>4</td>\n",
              "      <td>1</td>\n",
              "      <td>8</td>\n",
              "      <td>4</td>\n",
              "    </tr>\n",
              "    <tr>\n",
              "      <th>1</th>\n",
              "      <td>3</td>\n",
              "      <td>1</td>\n",
              "      <td>1</td>\n",
              "      <td>3</td>\n",
              "      <td>3</td>\n",
              "      <td>0</td>\n",
              "      <td>2</td>\n",
              "      <td>0</td>\n",
              "      <td>24</td>\n",
              "      <td>1</td>\n",
              "      <td>...</td>\n",
              "      <td>1</td>\n",
              "      <td>2</td>\n",
              "      <td>5</td>\n",
              "      <td>5</td>\n",
              "      <td>2</td>\n",
              "      <td>3</td>\n",
              "      <td>4</td>\n",
              "      <td>1</td>\n",
              "      <td>8</td>\n",
              "      <td>4</td>\n",
              "    </tr>\n",
              "    <tr>\n",
              "      <th>2</th>\n",
              "      <td>3</td>\n",
              "      <td>1</td>\n",
              "      <td>1</td>\n",
              "      <td>0</td>\n",
              "      <td>3</td>\n",
              "      <td>0</td>\n",
              "      <td>4</td>\n",
              "      <td>0</td>\n",
              "      <td>5</td>\n",
              "      <td>2</td>\n",
              "      <td>...</td>\n",
              "      <td>1</td>\n",
              "      <td>2</td>\n",
              "      <td>5</td>\n",
              "      <td>5</td>\n",
              "      <td>2</td>\n",
              "      <td>3</td>\n",
              "      <td>4</td>\n",
              "      <td>1</td>\n",
              "      <td>8</td>\n",
              "      <td>4</td>\n",
              "    </tr>\n",
              "    <tr>\n",
              "      <th>3</th>\n",
              "      <td>3</td>\n",
              "      <td>1</td>\n",
              "      <td>1</td>\n",
              "      <td>0</td>\n",
              "      <td>3</td>\n",
              "      <td>0</td>\n",
              "      <td>0</td>\n",
              "      <td>0</td>\n",
              "      <td>6</td>\n",
              "      <td>2</td>\n",
              "      <td>...</td>\n",
              "      <td>5</td>\n",
              "      <td>3</td>\n",
              "      <td>5</td>\n",
              "      <td>5</td>\n",
              "      <td>2</td>\n",
              "      <td>3</td>\n",
              "      <td>4</td>\n",
              "      <td>1</td>\n",
              "      <td>8</td>\n",
              "      <td>0</td>\n",
              "    </tr>\n",
              "    <tr>\n",
              "      <th>4</th>\n",
              "      <td>3</td>\n",
              "      <td>1</td>\n",
              "      <td>1</td>\n",
              "      <td>0</td>\n",
              "      <td>3</td>\n",
              "      <td>0</td>\n",
              "      <td>2</td>\n",
              "      <td>0</td>\n",
              "      <td>15</td>\n",
              "      <td>2</td>\n",
              "      <td>...</td>\n",
              "      <td>1</td>\n",
              "      <td>2</td>\n",
              "      <td>5</td>\n",
              "      <td>5</td>\n",
              "      <td>2</td>\n",
              "      <td>3</td>\n",
              "      <td>4</td>\n",
              "      <td>1</td>\n",
              "      <td>8</td>\n",
              "      <td>4</td>\n",
              "    </tr>\n",
              "    <tr>\n",
              "      <th>...</th>\n",
              "      <td>...</td>\n",
              "      <td>...</td>\n",
              "      <td>...</td>\n",
              "      <td>...</td>\n",
              "      <td>...</td>\n",
              "      <td>...</td>\n",
              "      <td>...</td>\n",
              "      <td>...</td>\n",
              "      <td>...</td>\n",
              "      <td>...</td>\n",
              "      <td>...</td>\n",
              "      <td>...</td>\n",
              "      <td>...</td>\n",
              "      <td>...</td>\n",
              "      <td>...</td>\n",
              "      <td>...</td>\n",
              "      <td>...</td>\n",
              "      <td>...</td>\n",
              "      <td>...</td>\n",
              "      <td>...</td>\n",
              "      <td>...</td>\n",
              "    </tr>\n",
              "    <tr>\n",
              "      <th>1455</th>\n",
              "      <td>3</td>\n",
              "      <td>1</td>\n",
              "      <td>1</td>\n",
              "      <td>3</td>\n",
              "      <td>3</td>\n",
              "      <td>0</td>\n",
              "      <td>4</td>\n",
              "      <td>0</td>\n",
              "      <td>8</td>\n",
              "      <td>2</td>\n",
              "      <td>...</td>\n",
              "      <td>1</td>\n",
              "      <td>2</td>\n",
              "      <td>5</td>\n",
              "      <td>5</td>\n",
              "      <td>2</td>\n",
              "      <td>3</td>\n",
              "      <td>4</td>\n",
              "      <td>1</td>\n",
              "      <td>8</td>\n",
              "      <td>4</td>\n",
              "    </tr>\n",
              "    <tr>\n",
              "      <th>1456</th>\n",
              "      <td>3</td>\n",
              "      <td>1</td>\n",
              "      <td>1</td>\n",
              "      <td>3</td>\n",
              "      <td>3</td>\n",
              "      <td>0</td>\n",
              "      <td>4</td>\n",
              "      <td>0</td>\n",
              "      <td>14</td>\n",
              "      <td>2</td>\n",
              "      <td>...</td>\n",
              "      <td>1</td>\n",
              "      <td>3</td>\n",
              "      <td>5</td>\n",
              "      <td>5</td>\n",
              "      <td>2</td>\n",
              "      <td>3</td>\n",
              "      <td>2</td>\n",
              "      <td>1</td>\n",
              "      <td>8</td>\n",
              "      <td>4</td>\n",
              "    </tr>\n",
              "    <tr>\n",
              "      <th>1457</th>\n",
              "      <td>3</td>\n",
              "      <td>1</td>\n",
              "      <td>1</td>\n",
              "      <td>3</td>\n",
              "      <td>3</td>\n",
              "      <td>0</td>\n",
              "      <td>4</td>\n",
              "      <td>0</td>\n",
              "      <td>6</td>\n",
              "      <td>2</td>\n",
              "      <td>...</td>\n",
              "      <td>1</td>\n",
              "      <td>2</td>\n",
              "      <td>5</td>\n",
              "      <td>5</td>\n",
              "      <td>2</td>\n",
              "      <td>3</td>\n",
              "      <td>0</td>\n",
              "      <td>3</td>\n",
              "      <td>8</td>\n",
              "      <td>4</td>\n",
              "    </tr>\n",
              "    <tr>\n",
              "      <th>1458</th>\n",
              "      <td>3</td>\n",
              "      <td>1</td>\n",
              "      <td>1</td>\n",
              "      <td>3</td>\n",
              "      <td>3</td>\n",
              "      <td>0</td>\n",
              "      <td>4</td>\n",
              "      <td>0</td>\n",
              "      <td>12</td>\n",
              "      <td>2</td>\n",
              "      <td>...</td>\n",
              "      <td>1</td>\n",
              "      <td>3</td>\n",
              "      <td>5</td>\n",
              "      <td>5</td>\n",
              "      <td>2</td>\n",
              "      <td>3</td>\n",
              "      <td>4</td>\n",
              "      <td>1</td>\n",
              "      <td>8</td>\n",
              "      <td>4</td>\n",
              "    </tr>\n",
              "    <tr>\n",
              "      <th>1459</th>\n",
              "      <td>3</td>\n",
              "      <td>1</td>\n",
              "      <td>1</td>\n",
              "      <td>3</td>\n",
              "      <td>3</td>\n",
              "      <td>0</td>\n",
              "      <td>4</td>\n",
              "      <td>0</td>\n",
              "      <td>7</td>\n",
              "      <td>2</td>\n",
              "      <td>...</td>\n",
              "      <td>1</td>\n",
              "      <td>0</td>\n",
              "      <td>5</td>\n",
              "      <td>5</td>\n",
              "      <td>2</td>\n",
              "      <td>3</td>\n",
              "      <td>4</td>\n",
              "      <td>1</td>\n",
              "      <td>8</td>\n",
              "      <td>4</td>\n",
              "    </tr>\n",
              "  </tbody>\n",
              "</table>\n",
              "<p>1460 rows × 43 columns</p>\n",
              "</div>"
            ],
            "text/plain": [
              "      MSZoning  Street  Alley  LotShape  LandContour  Utilities  LotConfig  \\\n",
              "0            3       1      1         3            3          0          4   \n",
              "1            3       1      1         3            3          0          2   \n",
              "2            3       1      1         0            3          0          4   \n",
              "3            3       1      1         0            3          0          0   \n",
              "4            3       1      1         0            3          0          2   \n",
              "...        ...     ...    ...       ...          ...        ...        ...   \n",
              "1455         3       1      1         3            3          0          4   \n",
              "1456         3       1      1         3            3          0          4   \n",
              "1457         3       1      1         3            3          0          4   \n",
              "1458         3       1      1         3            3          0          4   \n",
              "1459         3       1      1         3            3          0          4   \n",
              "\n",
              "      LandSlope  Neighborhood  Condition1  ...  GarageType  GarageFinish  \\\n",
              "0             0             5           2  ...           1             2   \n",
              "1             0            24           1  ...           1             2   \n",
              "2             0             5           2  ...           1             2   \n",
              "3             0             6           2  ...           5             3   \n",
              "4             0            15           2  ...           1             2   \n",
              "...         ...           ...         ...  ...         ...           ...   \n",
              "1455          0             8           2  ...           1             2   \n",
              "1456          0            14           2  ...           1             3   \n",
              "1457          0             6           2  ...           1             2   \n",
              "1458          0            12           2  ...           1             3   \n",
              "1459          0             7           2  ...           1             0   \n",
              "\n",
              "      GarageQual  GarageCond  PavedDrive  PoolQC  Fence  MiscFeature  \\\n",
              "0              5           5           2       3      4            1   \n",
              "1              5           5           2       3      4            1   \n",
              "2              5           5           2       3      4            1   \n",
              "3              5           5           2       3      4            1   \n",
              "4              5           5           2       3      4            1   \n",
              "...          ...         ...         ...     ...    ...          ...   \n",
              "1455           5           5           2       3      4            1   \n",
              "1456           5           5           2       3      2            1   \n",
              "1457           5           5           2       3      0            3   \n",
              "1458           5           5           2       3      4            1   \n",
              "1459           5           5           2       3      4            1   \n",
              "\n",
              "      SaleType  SaleCondition  \n",
              "0            8              4  \n",
              "1            8              4  \n",
              "2            8              4  \n",
              "3            8              0  \n",
              "4            8              4  \n",
              "...        ...            ...  \n",
              "1455         8              4  \n",
              "1456         8              4  \n",
              "1457         8              4  \n",
              "1458         8              4  \n",
              "1459         8              4  \n",
              "\n",
              "[1460 rows x 43 columns]"
            ]
          },
          "execution_count": 103,
          "metadata": {},
          "output_type": "execute_result"
        }
      ],
      "source": [
        "label_enc = LabelEncoder()\n",
        "data_encoded = pd.DataFrame()\n",
        "for col in data_object_list:\n",
        "    data_encoded[col] = label_enc.fit_transform(data_object[col])\n",
        "data_encoded"
      ]
    },
    {
      "cell_type": "markdown",
      "metadata": {
        "id": "doaZjvkVTdqj"
      },
      "source": [
        "#4 Retrive all the newly made column  names from label encoded object"
      ]
    },
    {
      "cell_type": "code",
      "execution_count": 104,
      "metadata": {
        "colab": {
          "base_uri": "https://localhost:8080/"
        },
        "id": "UBVoOjpyO17U",
        "outputId": "6c216cef-7249-4a53-b2f9-26adf08a77d3"
      },
      "outputs": [
        {
          "data": {
            "text/plain": [
              "(1460, 43)"
            ]
          },
          "execution_count": 104,
          "metadata": {},
          "output_type": "execute_result"
        }
      ],
      "source": [
        "data_encoded.shape"
      ]
    },
    {
      "cell_type": "code",
      "execution_count": 121,
      "metadata": {
        "id": "K8g8hl7GQA8H"
      },
      "outputs": [
        {
          "name": "stdout",
          "output_type": "stream",
          "text": [
            "['MSZoning', 'Street', 'Alley', 'LotShape', 'LandContour', 'Utilities', 'LotConfig', 'LandSlope', 'Neighborhood', 'Condition1', 'Condition2', 'BldgType', 'HouseStyle', 'RoofStyle', 'RoofMatl', 'Exterior1st', 'Exterior2nd', 'MasVnrType', 'ExterQual', 'ExterCond', 'Foundation', 'BsmtQual', 'BsmtCond', 'BsmtExposure', 'BsmtFinType1', 'BsmtFinType2', 'Heating', 'HeatingQC', 'CentralAir', 'Electrical', 'KitchenQual', 'Functional', 'FireplaceQu', 'GarageType', 'GarageFinish', 'GarageQual', 'GarageCond', 'PavedDrive', 'PoolQC', 'Fence', 'MiscFeature', 'SaleType', 'SaleCondition']\n"
          ]
        }
      ],
      "source": [
        "data_encoded_features = data_object_list\n",
        "print(data_encoded_features)"
      ]
    },
    {
      "cell_type": "code",
      "execution_count": 123,
      "metadata": {
        "colab": {
          "base_uri": "https://localhost:8080/"
        },
        "id": "DAj9fMxFPClk",
        "outputId": "76d04842-1c9d-4280-ef21-e82033555f7d"
      },
      "outputs": [
        {
          "data": {
            "text/plain": [
              "(1460, 37)"
            ]
          },
          "execution_count": 123,
          "metadata": {},
          "output_type": "execute_result"
        }
      ],
      "source": [
        "numerical_features = data.select_dtypes(exclude='object')\n",
        "numerical_features.shape"
      ]
    },
    {
      "cell_type": "code",
      "execution_count": 124,
      "metadata": {
        "id": "77HHVR1TPyEN"
      },
      "outputs": [
        {
          "data": {
            "text/html": [
              "<div>\n",
              "<style scoped>\n",
              "    .dataframe tbody tr th:only-of-type {\n",
              "        vertical-align: middle;\n",
              "    }\n",
              "\n",
              "    .dataframe tbody tr th {\n",
              "        vertical-align: top;\n",
              "    }\n",
              "\n",
              "    .dataframe thead th {\n",
              "        text-align: right;\n",
              "    }\n",
              "</style>\n",
              "<table border=\"1\" class=\"dataframe\">\n",
              "  <thead>\n",
              "    <tr style=\"text-align: right;\">\n",
              "      <th></th>\n",
              "      <th>MSSubClass</th>\n",
              "      <th>LotFrontage</th>\n",
              "      <th>LotArea</th>\n",
              "      <th>OverallQual</th>\n",
              "      <th>OverallCond</th>\n",
              "      <th>YearBuilt</th>\n",
              "      <th>YearRemodAdd</th>\n",
              "      <th>MasVnrArea</th>\n",
              "      <th>BsmtFinSF1</th>\n",
              "      <th>BsmtFinSF2</th>\n",
              "      <th>...</th>\n",
              "      <th>WoodDeckSF</th>\n",
              "      <th>OpenPorchSF</th>\n",
              "      <th>EnclosedPorch</th>\n",
              "      <th>3SsnPorch</th>\n",
              "      <th>ScreenPorch</th>\n",
              "      <th>PoolArea</th>\n",
              "      <th>MiscVal</th>\n",
              "      <th>MoSold</th>\n",
              "      <th>YrSold</th>\n",
              "      <th>SalePrice</th>\n",
              "    </tr>\n",
              "  </thead>\n",
              "  <tbody>\n",
              "    <tr>\n",
              "      <th>0</th>\n",
              "      <td>60</td>\n",
              "      <td>65.0</td>\n",
              "      <td>8450</td>\n",
              "      <td>7</td>\n",
              "      <td>5</td>\n",
              "      <td>2003</td>\n",
              "      <td>2003</td>\n",
              "      <td>196.0</td>\n",
              "      <td>706</td>\n",
              "      <td>0</td>\n",
              "      <td>...</td>\n",
              "      <td>0</td>\n",
              "      <td>61</td>\n",
              "      <td>0</td>\n",
              "      <td>0</td>\n",
              "      <td>0</td>\n",
              "      <td>0</td>\n",
              "      <td>0</td>\n",
              "      <td>2</td>\n",
              "      <td>2008</td>\n",
              "      <td>208500</td>\n",
              "    </tr>\n",
              "    <tr>\n",
              "      <th>1</th>\n",
              "      <td>20</td>\n",
              "      <td>80.0</td>\n",
              "      <td>9600</td>\n",
              "      <td>6</td>\n",
              "      <td>8</td>\n",
              "      <td>1976</td>\n",
              "      <td>1976</td>\n",
              "      <td>0.0</td>\n",
              "      <td>978</td>\n",
              "      <td>0</td>\n",
              "      <td>...</td>\n",
              "      <td>298</td>\n",
              "      <td>0</td>\n",
              "      <td>0</td>\n",
              "      <td>0</td>\n",
              "      <td>0</td>\n",
              "      <td>0</td>\n",
              "      <td>0</td>\n",
              "      <td>5</td>\n",
              "      <td>2007</td>\n",
              "      <td>181500</td>\n",
              "    </tr>\n",
              "    <tr>\n",
              "      <th>2</th>\n",
              "      <td>60</td>\n",
              "      <td>68.0</td>\n",
              "      <td>11250</td>\n",
              "      <td>7</td>\n",
              "      <td>5</td>\n",
              "      <td>2001</td>\n",
              "      <td>2002</td>\n",
              "      <td>162.0</td>\n",
              "      <td>486</td>\n",
              "      <td>0</td>\n",
              "      <td>...</td>\n",
              "      <td>0</td>\n",
              "      <td>42</td>\n",
              "      <td>0</td>\n",
              "      <td>0</td>\n",
              "      <td>0</td>\n",
              "      <td>0</td>\n",
              "      <td>0</td>\n",
              "      <td>9</td>\n",
              "      <td>2008</td>\n",
              "      <td>223500</td>\n",
              "    </tr>\n",
              "    <tr>\n",
              "      <th>3</th>\n",
              "      <td>70</td>\n",
              "      <td>60.0</td>\n",
              "      <td>9550</td>\n",
              "      <td>7</td>\n",
              "      <td>5</td>\n",
              "      <td>1915</td>\n",
              "      <td>1970</td>\n",
              "      <td>0.0</td>\n",
              "      <td>216</td>\n",
              "      <td>0</td>\n",
              "      <td>...</td>\n",
              "      <td>0</td>\n",
              "      <td>35</td>\n",
              "      <td>272</td>\n",
              "      <td>0</td>\n",
              "      <td>0</td>\n",
              "      <td>0</td>\n",
              "      <td>0</td>\n",
              "      <td>2</td>\n",
              "      <td>2006</td>\n",
              "      <td>140000</td>\n",
              "    </tr>\n",
              "    <tr>\n",
              "      <th>4</th>\n",
              "      <td>60</td>\n",
              "      <td>84.0</td>\n",
              "      <td>14260</td>\n",
              "      <td>8</td>\n",
              "      <td>5</td>\n",
              "      <td>2000</td>\n",
              "      <td>2000</td>\n",
              "      <td>350.0</td>\n",
              "      <td>655</td>\n",
              "      <td>0</td>\n",
              "      <td>...</td>\n",
              "      <td>192</td>\n",
              "      <td>84</td>\n",
              "      <td>0</td>\n",
              "      <td>0</td>\n",
              "      <td>0</td>\n",
              "      <td>0</td>\n",
              "      <td>0</td>\n",
              "      <td>12</td>\n",
              "      <td>2008</td>\n",
              "      <td>250000</td>\n",
              "    </tr>\n",
              "  </tbody>\n",
              "</table>\n",
              "<p>5 rows × 37 columns</p>\n",
              "</div>"
            ],
            "text/plain": [
              "   MSSubClass  LotFrontage  LotArea  OverallQual  OverallCond  YearBuilt  \\\n",
              "0          60         65.0     8450            7            5       2003   \n",
              "1          20         80.0     9600            6            8       1976   \n",
              "2          60         68.0    11250            7            5       2001   \n",
              "3          70         60.0     9550            7            5       1915   \n",
              "4          60         84.0    14260            8            5       2000   \n",
              "\n",
              "   YearRemodAdd  MasVnrArea  BsmtFinSF1  BsmtFinSF2  ...  WoodDeckSF  \\\n",
              "0          2003       196.0         706           0  ...           0   \n",
              "1          1976         0.0         978           0  ...         298   \n",
              "2          2002       162.0         486           0  ...           0   \n",
              "3          1970         0.0         216           0  ...           0   \n",
              "4          2000       350.0         655           0  ...         192   \n",
              "\n",
              "   OpenPorchSF  EnclosedPorch  3SsnPorch  ScreenPorch  PoolArea  MiscVal  \\\n",
              "0           61              0          0            0         0        0   \n",
              "1            0              0          0            0         0        0   \n",
              "2           42              0          0            0         0        0   \n",
              "3           35            272          0            0         0        0   \n",
              "4           84              0          0            0         0        0   \n",
              "\n",
              "   MoSold  YrSold  SalePrice  \n",
              "0       2    2008     208500  \n",
              "1       5    2007     181500  \n",
              "2       9    2008     223500  \n",
              "3       2    2006     140000  \n",
              "4      12    2008     250000  \n",
              "\n",
              "[5 rows x 37 columns]"
            ]
          },
          "execution_count": 124,
          "metadata": {},
          "output_type": "execute_result"
        }
      ],
      "source": [
        "numerical_features.head()"
      ]
    },
    {
      "cell_type": "markdown",
      "metadata": {},
      "source": [
        "### merging it all together"
      ]
    },
    {
      "cell_type": "code",
      "execution_count": 125,
      "metadata": {},
      "outputs": [
        {
          "data": {
            "text/plain": [
              "pandas.core.frame.DataFrame"
            ]
          },
          "execution_count": 125,
          "metadata": {},
          "output_type": "execute_result"
        }
      ],
      "source": [
        "type(data_encoded)"
      ]
    },
    {
      "cell_type": "code",
      "execution_count": 126,
      "metadata": {},
      "outputs": [
        {
          "data": {
            "text/html": [
              "<div>\n",
              "<style scoped>\n",
              "    .dataframe tbody tr th:only-of-type {\n",
              "        vertical-align: middle;\n",
              "    }\n",
              "\n",
              "    .dataframe tbody tr th {\n",
              "        vertical-align: top;\n",
              "    }\n",
              "\n",
              "    .dataframe thead th {\n",
              "        text-align: right;\n",
              "    }\n",
              "</style>\n",
              "<table border=\"1\" class=\"dataframe\">\n",
              "  <thead>\n",
              "    <tr style=\"text-align: right;\">\n",
              "      <th></th>\n",
              "      <th>MSZoning</th>\n",
              "      <th>Street</th>\n",
              "      <th>Alley</th>\n",
              "      <th>LotShape</th>\n",
              "      <th>LandContour</th>\n",
              "      <th>Utilities</th>\n",
              "      <th>LotConfig</th>\n",
              "      <th>LandSlope</th>\n",
              "      <th>Neighborhood</th>\n",
              "      <th>Condition1</th>\n",
              "      <th>...</th>\n",
              "      <th>GarageType</th>\n",
              "      <th>GarageFinish</th>\n",
              "      <th>GarageQual</th>\n",
              "      <th>GarageCond</th>\n",
              "      <th>PavedDrive</th>\n",
              "      <th>PoolQC</th>\n",
              "      <th>Fence</th>\n",
              "      <th>MiscFeature</th>\n",
              "      <th>SaleType</th>\n",
              "      <th>SaleCondition</th>\n",
              "    </tr>\n",
              "  </thead>\n",
              "  <tbody>\n",
              "    <tr>\n",
              "      <th>0</th>\n",
              "      <td>3</td>\n",
              "      <td>1</td>\n",
              "      <td>1</td>\n",
              "      <td>3</td>\n",
              "      <td>3</td>\n",
              "      <td>0</td>\n",
              "      <td>4</td>\n",
              "      <td>0</td>\n",
              "      <td>5</td>\n",
              "      <td>2</td>\n",
              "      <td>...</td>\n",
              "      <td>1</td>\n",
              "      <td>2</td>\n",
              "      <td>5</td>\n",
              "      <td>5</td>\n",
              "      <td>2</td>\n",
              "      <td>3</td>\n",
              "      <td>4</td>\n",
              "      <td>1</td>\n",
              "      <td>8</td>\n",
              "      <td>4</td>\n",
              "    </tr>\n",
              "    <tr>\n",
              "      <th>1</th>\n",
              "      <td>3</td>\n",
              "      <td>1</td>\n",
              "      <td>1</td>\n",
              "      <td>3</td>\n",
              "      <td>3</td>\n",
              "      <td>0</td>\n",
              "      <td>2</td>\n",
              "      <td>0</td>\n",
              "      <td>24</td>\n",
              "      <td>1</td>\n",
              "      <td>...</td>\n",
              "      <td>1</td>\n",
              "      <td>2</td>\n",
              "      <td>5</td>\n",
              "      <td>5</td>\n",
              "      <td>2</td>\n",
              "      <td>3</td>\n",
              "      <td>4</td>\n",
              "      <td>1</td>\n",
              "      <td>8</td>\n",
              "      <td>4</td>\n",
              "    </tr>\n",
              "    <tr>\n",
              "      <th>2</th>\n",
              "      <td>3</td>\n",
              "      <td>1</td>\n",
              "      <td>1</td>\n",
              "      <td>0</td>\n",
              "      <td>3</td>\n",
              "      <td>0</td>\n",
              "      <td>4</td>\n",
              "      <td>0</td>\n",
              "      <td>5</td>\n",
              "      <td>2</td>\n",
              "      <td>...</td>\n",
              "      <td>1</td>\n",
              "      <td>2</td>\n",
              "      <td>5</td>\n",
              "      <td>5</td>\n",
              "      <td>2</td>\n",
              "      <td>3</td>\n",
              "      <td>4</td>\n",
              "      <td>1</td>\n",
              "      <td>8</td>\n",
              "      <td>4</td>\n",
              "    </tr>\n",
              "    <tr>\n",
              "      <th>3</th>\n",
              "      <td>3</td>\n",
              "      <td>1</td>\n",
              "      <td>1</td>\n",
              "      <td>0</td>\n",
              "      <td>3</td>\n",
              "      <td>0</td>\n",
              "      <td>0</td>\n",
              "      <td>0</td>\n",
              "      <td>6</td>\n",
              "      <td>2</td>\n",
              "      <td>...</td>\n",
              "      <td>5</td>\n",
              "      <td>3</td>\n",
              "      <td>5</td>\n",
              "      <td>5</td>\n",
              "      <td>2</td>\n",
              "      <td>3</td>\n",
              "      <td>4</td>\n",
              "      <td>1</td>\n",
              "      <td>8</td>\n",
              "      <td>0</td>\n",
              "    </tr>\n",
              "    <tr>\n",
              "      <th>4</th>\n",
              "      <td>3</td>\n",
              "      <td>1</td>\n",
              "      <td>1</td>\n",
              "      <td>0</td>\n",
              "      <td>3</td>\n",
              "      <td>0</td>\n",
              "      <td>2</td>\n",
              "      <td>0</td>\n",
              "      <td>15</td>\n",
              "      <td>2</td>\n",
              "      <td>...</td>\n",
              "      <td>1</td>\n",
              "      <td>2</td>\n",
              "      <td>5</td>\n",
              "      <td>5</td>\n",
              "      <td>2</td>\n",
              "      <td>3</td>\n",
              "      <td>4</td>\n",
              "      <td>1</td>\n",
              "      <td>8</td>\n",
              "      <td>4</td>\n",
              "    </tr>\n",
              "    <tr>\n",
              "      <th>...</th>\n",
              "      <td>...</td>\n",
              "      <td>...</td>\n",
              "      <td>...</td>\n",
              "      <td>...</td>\n",
              "      <td>...</td>\n",
              "      <td>...</td>\n",
              "      <td>...</td>\n",
              "      <td>...</td>\n",
              "      <td>...</td>\n",
              "      <td>...</td>\n",
              "      <td>...</td>\n",
              "      <td>...</td>\n",
              "      <td>...</td>\n",
              "      <td>...</td>\n",
              "      <td>...</td>\n",
              "      <td>...</td>\n",
              "      <td>...</td>\n",
              "      <td>...</td>\n",
              "      <td>...</td>\n",
              "      <td>...</td>\n",
              "      <td>...</td>\n",
              "    </tr>\n",
              "    <tr>\n",
              "      <th>1455</th>\n",
              "      <td>3</td>\n",
              "      <td>1</td>\n",
              "      <td>1</td>\n",
              "      <td>3</td>\n",
              "      <td>3</td>\n",
              "      <td>0</td>\n",
              "      <td>4</td>\n",
              "      <td>0</td>\n",
              "      <td>8</td>\n",
              "      <td>2</td>\n",
              "      <td>...</td>\n",
              "      <td>1</td>\n",
              "      <td>2</td>\n",
              "      <td>5</td>\n",
              "      <td>5</td>\n",
              "      <td>2</td>\n",
              "      <td>3</td>\n",
              "      <td>4</td>\n",
              "      <td>1</td>\n",
              "      <td>8</td>\n",
              "      <td>4</td>\n",
              "    </tr>\n",
              "    <tr>\n",
              "      <th>1456</th>\n",
              "      <td>3</td>\n",
              "      <td>1</td>\n",
              "      <td>1</td>\n",
              "      <td>3</td>\n",
              "      <td>3</td>\n",
              "      <td>0</td>\n",
              "      <td>4</td>\n",
              "      <td>0</td>\n",
              "      <td>14</td>\n",
              "      <td>2</td>\n",
              "      <td>...</td>\n",
              "      <td>1</td>\n",
              "      <td>3</td>\n",
              "      <td>5</td>\n",
              "      <td>5</td>\n",
              "      <td>2</td>\n",
              "      <td>3</td>\n",
              "      <td>2</td>\n",
              "      <td>1</td>\n",
              "      <td>8</td>\n",
              "      <td>4</td>\n",
              "    </tr>\n",
              "    <tr>\n",
              "      <th>1457</th>\n",
              "      <td>3</td>\n",
              "      <td>1</td>\n",
              "      <td>1</td>\n",
              "      <td>3</td>\n",
              "      <td>3</td>\n",
              "      <td>0</td>\n",
              "      <td>4</td>\n",
              "      <td>0</td>\n",
              "      <td>6</td>\n",
              "      <td>2</td>\n",
              "      <td>...</td>\n",
              "      <td>1</td>\n",
              "      <td>2</td>\n",
              "      <td>5</td>\n",
              "      <td>5</td>\n",
              "      <td>2</td>\n",
              "      <td>3</td>\n",
              "      <td>0</td>\n",
              "      <td>3</td>\n",
              "      <td>8</td>\n",
              "      <td>4</td>\n",
              "    </tr>\n",
              "    <tr>\n",
              "      <th>1458</th>\n",
              "      <td>3</td>\n",
              "      <td>1</td>\n",
              "      <td>1</td>\n",
              "      <td>3</td>\n",
              "      <td>3</td>\n",
              "      <td>0</td>\n",
              "      <td>4</td>\n",
              "      <td>0</td>\n",
              "      <td>12</td>\n",
              "      <td>2</td>\n",
              "      <td>...</td>\n",
              "      <td>1</td>\n",
              "      <td>3</td>\n",
              "      <td>5</td>\n",
              "      <td>5</td>\n",
              "      <td>2</td>\n",
              "      <td>3</td>\n",
              "      <td>4</td>\n",
              "      <td>1</td>\n",
              "      <td>8</td>\n",
              "      <td>4</td>\n",
              "    </tr>\n",
              "    <tr>\n",
              "      <th>1459</th>\n",
              "      <td>3</td>\n",
              "      <td>1</td>\n",
              "      <td>1</td>\n",
              "      <td>3</td>\n",
              "      <td>3</td>\n",
              "      <td>0</td>\n",
              "      <td>4</td>\n",
              "      <td>0</td>\n",
              "      <td>7</td>\n",
              "      <td>2</td>\n",
              "      <td>...</td>\n",
              "      <td>1</td>\n",
              "      <td>0</td>\n",
              "      <td>5</td>\n",
              "      <td>5</td>\n",
              "      <td>2</td>\n",
              "      <td>3</td>\n",
              "      <td>4</td>\n",
              "      <td>1</td>\n",
              "      <td>8</td>\n",
              "      <td>4</td>\n",
              "    </tr>\n",
              "  </tbody>\n",
              "</table>\n",
              "<p>1460 rows × 43 columns</p>\n",
              "</div>"
            ],
            "text/plain": [
              "      MSZoning  Street  Alley  LotShape  LandContour  Utilities  LotConfig  \\\n",
              "0            3       1      1         3            3          0          4   \n",
              "1            3       1      1         3            3          0          2   \n",
              "2            3       1      1         0            3          0          4   \n",
              "3            3       1      1         0            3          0          0   \n",
              "4            3       1      1         0            3          0          2   \n",
              "...        ...     ...    ...       ...          ...        ...        ...   \n",
              "1455         3       1      1         3            3          0          4   \n",
              "1456         3       1      1         3            3          0          4   \n",
              "1457         3       1      1         3            3          0          4   \n",
              "1458         3       1      1         3            3          0          4   \n",
              "1459         3       1      1         3            3          0          4   \n",
              "\n",
              "      LandSlope  Neighborhood  Condition1  ...  GarageType  GarageFinish  \\\n",
              "0             0             5           2  ...           1             2   \n",
              "1             0            24           1  ...           1             2   \n",
              "2             0             5           2  ...           1             2   \n",
              "3             0             6           2  ...           5             3   \n",
              "4             0            15           2  ...           1             2   \n",
              "...         ...           ...         ...  ...         ...           ...   \n",
              "1455          0             8           2  ...           1             2   \n",
              "1456          0            14           2  ...           1             3   \n",
              "1457          0             6           2  ...           1             2   \n",
              "1458          0            12           2  ...           1             3   \n",
              "1459          0             7           2  ...           1             0   \n",
              "\n",
              "      GarageQual  GarageCond  PavedDrive  PoolQC  Fence  MiscFeature  \\\n",
              "0              5           5           2       3      4            1   \n",
              "1              5           5           2       3      4            1   \n",
              "2              5           5           2       3      4            1   \n",
              "3              5           5           2       3      4            1   \n",
              "4              5           5           2       3      4            1   \n",
              "...          ...         ...         ...     ...    ...          ...   \n",
              "1455           5           5           2       3      4            1   \n",
              "1456           5           5           2       3      2            1   \n",
              "1457           5           5           2       3      0            3   \n",
              "1458           5           5           2       3      4            1   \n",
              "1459           5           5           2       3      4            1   \n",
              "\n",
              "      SaleType  SaleCondition  \n",
              "0            8              4  \n",
              "1            8              4  \n",
              "2            8              4  \n",
              "3            8              0  \n",
              "4            8              4  \n",
              "...        ...            ...  \n",
              "1455         8              4  \n",
              "1456         8              4  \n",
              "1457         8              4  \n",
              "1458         8              4  \n",
              "1459         8              4  \n",
              "\n",
              "[1460 rows x 43 columns]"
            ]
          },
          "execution_count": 126,
          "metadata": {},
          "output_type": "execute_result"
        }
      ],
      "source": [
        "data_encoded"
      ]
    },
    {
      "cell_type": "code",
      "execution_count": 127,
      "metadata": {
        "id": "XmPfNYCoRoLk"
      },
      "outputs": [],
      "source": [
        "# data_encoded_merged = pd.DataFrame(data_encoded, columns= data_encoded_features).astype(int)"
      ]
    },
    {
      "cell_type": "code",
      "execution_count": 128,
      "metadata": {
        "id": "8q_KxRftUXRj"
      },
      "outputs": [],
      "source": [
        "numerical_features = data.select_dtypes(exclude='object')\n",
        "#numerical features are stored in 'numerical_features' and\n",
        "#object (string) features are in stored in 'data_encoded"
      ]
    },
    {
      "cell_type": "code",
      "execution_count": 129,
      "metadata": {},
      "outputs": [
        {
          "data": {
            "text/html": [
              "<div>\n",
              "<style scoped>\n",
              "    .dataframe tbody tr th:only-of-type {\n",
              "        vertical-align: middle;\n",
              "    }\n",
              "\n",
              "    .dataframe tbody tr th {\n",
              "        vertical-align: top;\n",
              "    }\n",
              "\n",
              "    .dataframe thead th {\n",
              "        text-align: right;\n",
              "    }\n",
              "</style>\n",
              "<table border=\"1\" class=\"dataframe\">\n",
              "  <thead>\n",
              "    <tr style=\"text-align: right;\">\n",
              "      <th></th>\n",
              "      <th>MSZoning</th>\n",
              "      <th>Street</th>\n",
              "      <th>Alley</th>\n",
              "      <th>LotShape</th>\n",
              "      <th>LandContour</th>\n",
              "      <th>Utilities</th>\n",
              "      <th>LotConfig</th>\n",
              "      <th>LandSlope</th>\n",
              "      <th>Neighborhood</th>\n",
              "      <th>Condition1</th>\n",
              "      <th>...</th>\n",
              "      <th>GarageType</th>\n",
              "      <th>GarageFinish</th>\n",
              "      <th>GarageQual</th>\n",
              "      <th>GarageCond</th>\n",
              "      <th>PavedDrive</th>\n",
              "      <th>PoolQC</th>\n",
              "      <th>Fence</th>\n",
              "      <th>MiscFeature</th>\n",
              "      <th>SaleType</th>\n",
              "      <th>SaleCondition</th>\n",
              "    </tr>\n",
              "  </thead>\n",
              "  <tbody>\n",
              "    <tr>\n",
              "      <th>0</th>\n",
              "      <td>3</td>\n",
              "      <td>1</td>\n",
              "      <td>1</td>\n",
              "      <td>3</td>\n",
              "      <td>3</td>\n",
              "      <td>0</td>\n",
              "      <td>4</td>\n",
              "      <td>0</td>\n",
              "      <td>5</td>\n",
              "      <td>2</td>\n",
              "      <td>...</td>\n",
              "      <td>1</td>\n",
              "      <td>2</td>\n",
              "      <td>5</td>\n",
              "      <td>5</td>\n",
              "      <td>2</td>\n",
              "      <td>3</td>\n",
              "      <td>4</td>\n",
              "      <td>1</td>\n",
              "      <td>8</td>\n",
              "      <td>4</td>\n",
              "    </tr>\n",
              "    <tr>\n",
              "      <th>1</th>\n",
              "      <td>3</td>\n",
              "      <td>1</td>\n",
              "      <td>1</td>\n",
              "      <td>3</td>\n",
              "      <td>3</td>\n",
              "      <td>0</td>\n",
              "      <td>2</td>\n",
              "      <td>0</td>\n",
              "      <td>24</td>\n",
              "      <td>1</td>\n",
              "      <td>...</td>\n",
              "      <td>1</td>\n",
              "      <td>2</td>\n",
              "      <td>5</td>\n",
              "      <td>5</td>\n",
              "      <td>2</td>\n",
              "      <td>3</td>\n",
              "      <td>4</td>\n",
              "      <td>1</td>\n",
              "      <td>8</td>\n",
              "      <td>4</td>\n",
              "    </tr>\n",
              "    <tr>\n",
              "      <th>2</th>\n",
              "      <td>3</td>\n",
              "      <td>1</td>\n",
              "      <td>1</td>\n",
              "      <td>0</td>\n",
              "      <td>3</td>\n",
              "      <td>0</td>\n",
              "      <td>4</td>\n",
              "      <td>0</td>\n",
              "      <td>5</td>\n",
              "      <td>2</td>\n",
              "      <td>...</td>\n",
              "      <td>1</td>\n",
              "      <td>2</td>\n",
              "      <td>5</td>\n",
              "      <td>5</td>\n",
              "      <td>2</td>\n",
              "      <td>3</td>\n",
              "      <td>4</td>\n",
              "      <td>1</td>\n",
              "      <td>8</td>\n",
              "      <td>4</td>\n",
              "    </tr>\n",
              "    <tr>\n",
              "      <th>3</th>\n",
              "      <td>3</td>\n",
              "      <td>1</td>\n",
              "      <td>1</td>\n",
              "      <td>0</td>\n",
              "      <td>3</td>\n",
              "      <td>0</td>\n",
              "      <td>0</td>\n",
              "      <td>0</td>\n",
              "      <td>6</td>\n",
              "      <td>2</td>\n",
              "      <td>...</td>\n",
              "      <td>5</td>\n",
              "      <td>3</td>\n",
              "      <td>5</td>\n",
              "      <td>5</td>\n",
              "      <td>2</td>\n",
              "      <td>3</td>\n",
              "      <td>4</td>\n",
              "      <td>1</td>\n",
              "      <td>8</td>\n",
              "      <td>0</td>\n",
              "    </tr>\n",
              "    <tr>\n",
              "      <th>4</th>\n",
              "      <td>3</td>\n",
              "      <td>1</td>\n",
              "      <td>1</td>\n",
              "      <td>0</td>\n",
              "      <td>3</td>\n",
              "      <td>0</td>\n",
              "      <td>2</td>\n",
              "      <td>0</td>\n",
              "      <td>15</td>\n",
              "      <td>2</td>\n",
              "      <td>...</td>\n",
              "      <td>1</td>\n",
              "      <td>2</td>\n",
              "      <td>5</td>\n",
              "      <td>5</td>\n",
              "      <td>2</td>\n",
              "      <td>3</td>\n",
              "      <td>4</td>\n",
              "      <td>1</td>\n",
              "      <td>8</td>\n",
              "      <td>4</td>\n",
              "    </tr>\n",
              "    <tr>\n",
              "      <th>...</th>\n",
              "      <td>...</td>\n",
              "      <td>...</td>\n",
              "      <td>...</td>\n",
              "      <td>...</td>\n",
              "      <td>...</td>\n",
              "      <td>...</td>\n",
              "      <td>...</td>\n",
              "      <td>...</td>\n",
              "      <td>...</td>\n",
              "      <td>...</td>\n",
              "      <td>...</td>\n",
              "      <td>...</td>\n",
              "      <td>...</td>\n",
              "      <td>...</td>\n",
              "      <td>...</td>\n",
              "      <td>...</td>\n",
              "      <td>...</td>\n",
              "      <td>...</td>\n",
              "      <td>...</td>\n",
              "      <td>...</td>\n",
              "      <td>...</td>\n",
              "    </tr>\n",
              "    <tr>\n",
              "      <th>1455</th>\n",
              "      <td>3</td>\n",
              "      <td>1</td>\n",
              "      <td>1</td>\n",
              "      <td>3</td>\n",
              "      <td>3</td>\n",
              "      <td>0</td>\n",
              "      <td>4</td>\n",
              "      <td>0</td>\n",
              "      <td>8</td>\n",
              "      <td>2</td>\n",
              "      <td>...</td>\n",
              "      <td>1</td>\n",
              "      <td>2</td>\n",
              "      <td>5</td>\n",
              "      <td>5</td>\n",
              "      <td>2</td>\n",
              "      <td>3</td>\n",
              "      <td>4</td>\n",
              "      <td>1</td>\n",
              "      <td>8</td>\n",
              "      <td>4</td>\n",
              "    </tr>\n",
              "    <tr>\n",
              "      <th>1456</th>\n",
              "      <td>3</td>\n",
              "      <td>1</td>\n",
              "      <td>1</td>\n",
              "      <td>3</td>\n",
              "      <td>3</td>\n",
              "      <td>0</td>\n",
              "      <td>4</td>\n",
              "      <td>0</td>\n",
              "      <td>14</td>\n",
              "      <td>2</td>\n",
              "      <td>...</td>\n",
              "      <td>1</td>\n",
              "      <td>3</td>\n",
              "      <td>5</td>\n",
              "      <td>5</td>\n",
              "      <td>2</td>\n",
              "      <td>3</td>\n",
              "      <td>2</td>\n",
              "      <td>1</td>\n",
              "      <td>8</td>\n",
              "      <td>4</td>\n",
              "    </tr>\n",
              "    <tr>\n",
              "      <th>1457</th>\n",
              "      <td>3</td>\n",
              "      <td>1</td>\n",
              "      <td>1</td>\n",
              "      <td>3</td>\n",
              "      <td>3</td>\n",
              "      <td>0</td>\n",
              "      <td>4</td>\n",
              "      <td>0</td>\n",
              "      <td>6</td>\n",
              "      <td>2</td>\n",
              "      <td>...</td>\n",
              "      <td>1</td>\n",
              "      <td>2</td>\n",
              "      <td>5</td>\n",
              "      <td>5</td>\n",
              "      <td>2</td>\n",
              "      <td>3</td>\n",
              "      <td>0</td>\n",
              "      <td>3</td>\n",
              "      <td>8</td>\n",
              "      <td>4</td>\n",
              "    </tr>\n",
              "    <tr>\n",
              "      <th>1458</th>\n",
              "      <td>3</td>\n",
              "      <td>1</td>\n",
              "      <td>1</td>\n",
              "      <td>3</td>\n",
              "      <td>3</td>\n",
              "      <td>0</td>\n",
              "      <td>4</td>\n",
              "      <td>0</td>\n",
              "      <td>12</td>\n",
              "      <td>2</td>\n",
              "      <td>...</td>\n",
              "      <td>1</td>\n",
              "      <td>3</td>\n",
              "      <td>5</td>\n",
              "      <td>5</td>\n",
              "      <td>2</td>\n",
              "      <td>3</td>\n",
              "      <td>4</td>\n",
              "      <td>1</td>\n",
              "      <td>8</td>\n",
              "      <td>4</td>\n",
              "    </tr>\n",
              "    <tr>\n",
              "      <th>1459</th>\n",
              "      <td>3</td>\n",
              "      <td>1</td>\n",
              "      <td>1</td>\n",
              "      <td>3</td>\n",
              "      <td>3</td>\n",
              "      <td>0</td>\n",
              "      <td>4</td>\n",
              "      <td>0</td>\n",
              "      <td>7</td>\n",
              "      <td>2</td>\n",
              "      <td>...</td>\n",
              "      <td>1</td>\n",
              "      <td>0</td>\n",
              "      <td>5</td>\n",
              "      <td>5</td>\n",
              "      <td>2</td>\n",
              "      <td>3</td>\n",
              "      <td>4</td>\n",
              "      <td>1</td>\n",
              "      <td>8</td>\n",
              "      <td>4</td>\n",
              "    </tr>\n",
              "  </tbody>\n",
              "</table>\n",
              "<p>1460 rows × 43 columns</p>\n",
              "</div>"
            ],
            "text/plain": [
              "      MSZoning  Street  Alley  LotShape  LandContour  Utilities  LotConfig  \\\n",
              "0            3       1      1         3            3          0          4   \n",
              "1            3       1      1         3            3          0          2   \n",
              "2            3       1      1         0            3          0          4   \n",
              "3            3       1      1         0            3          0          0   \n",
              "4            3       1      1         0            3          0          2   \n",
              "...        ...     ...    ...       ...          ...        ...        ...   \n",
              "1455         3       1      1         3            3          0          4   \n",
              "1456         3       1      1         3            3          0          4   \n",
              "1457         3       1      1         3            3          0          4   \n",
              "1458         3       1      1         3            3          0          4   \n",
              "1459         3       1      1         3            3          0          4   \n",
              "\n",
              "      LandSlope  Neighborhood  Condition1  ...  GarageType  GarageFinish  \\\n",
              "0             0             5           2  ...           1             2   \n",
              "1             0            24           1  ...           1             2   \n",
              "2             0             5           2  ...           1             2   \n",
              "3             0             6           2  ...           5             3   \n",
              "4             0            15           2  ...           1             2   \n",
              "...         ...           ...         ...  ...         ...           ...   \n",
              "1455          0             8           2  ...           1             2   \n",
              "1456          0            14           2  ...           1             3   \n",
              "1457          0             6           2  ...           1             2   \n",
              "1458          0            12           2  ...           1             3   \n",
              "1459          0             7           2  ...           1             0   \n",
              "\n",
              "      GarageQual  GarageCond  PavedDrive  PoolQC  Fence  MiscFeature  \\\n",
              "0              5           5           2       3      4            1   \n",
              "1              5           5           2       3      4            1   \n",
              "2              5           5           2       3      4            1   \n",
              "3              5           5           2       3      4            1   \n",
              "4              5           5           2       3      4            1   \n",
              "...          ...         ...         ...     ...    ...          ...   \n",
              "1455           5           5           2       3      4            1   \n",
              "1456           5           5           2       3      2            1   \n",
              "1457           5           5           2       3      0            3   \n",
              "1458           5           5           2       3      4            1   \n",
              "1459           5           5           2       3      4            1   \n",
              "\n",
              "      SaleType  SaleCondition  \n",
              "0            8              4  \n",
              "1            8              4  \n",
              "2            8              4  \n",
              "3            8              0  \n",
              "4            8              4  \n",
              "...        ...            ...  \n",
              "1455         8              4  \n",
              "1456         8              4  \n",
              "1457         8              4  \n",
              "1458         8              4  \n",
              "1459         8              4  \n",
              "\n",
              "[1460 rows x 43 columns]"
            ]
          },
          "execution_count": 129,
          "metadata": {},
          "output_type": "execute_result"
        }
      ],
      "source": [
        "data_encoded"
      ]
    },
    {
      "cell_type": "code",
      "execution_count": 130,
      "metadata": {},
      "outputs": [
        {
          "data": {
            "text/html": [
              "<div>\n",
              "<style scoped>\n",
              "    .dataframe tbody tr th:only-of-type {\n",
              "        vertical-align: middle;\n",
              "    }\n",
              "\n",
              "    .dataframe tbody tr th {\n",
              "        vertical-align: top;\n",
              "    }\n",
              "\n",
              "    .dataframe thead th {\n",
              "        text-align: right;\n",
              "    }\n",
              "</style>\n",
              "<table border=\"1\" class=\"dataframe\">\n",
              "  <thead>\n",
              "    <tr style=\"text-align: right;\">\n",
              "      <th></th>\n",
              "      <th>MSSubClass</th>\n",
              "      <th>LotFrontage</th>\n",
              "      <th>LotArea</th>\n",
              "      <th>OverallQual</th>\n",
              "      <th>OverallCond</th>\n",
              "      <th>YearBuilt</th>\n",
              "      <th>YearRemodAdd</th>\n",
              "      <th>MasVnrArea</th>\n",
              "      <th>BsmtFinSF1</th>\n",
              "      <th>BsmtFinSF2</th>\n",
              "      <th>...</th>\n",
              "      <th>WoodDeckSF</th>\n",
              "      <th>OpenPorchSF</th>\n",
              "      <th>EnclosedPorch</th>\n",
              "      <th>3SsnPorch</th>\n",
              "      <th>ScreenPorch</th>\n",
              "      <th>PoolArea</th>\n",
              "      <th>MiscVal</th>\n",
              "      <th>MoSold</th>\n",
              "      <th>YrSold</th>\n",
              "      <th>SalePrice</th>\n",
              "    </tr>\n",
              "  </thead>\n",
              "  <tbody>\n",
              "    <tr>\n",
              "      <th>0</th>\n",
              "      <td>60</td>\n",
              "      <td>65.0</td>\n",
              "      <td>8450</td>\n",
              "      <td>7</td>\n",
              "      <td>5</td>\n",
              "      <td>2003</td>\n",
              "      <td>2003</td>\n",
              "      <td>196.0</td>\n",
              "      <td>706</td>\n",
              "      <td>0</td>\n",
              "      <td>...</td>\n",
              "      <td>0</td>\n",
              "      <td>61</td>\n",
              "      <td>0</td>\n",
              "      <td>0</td>\n",
              "      <td>0</td>\n",
              "      <td>0</td>\n",
              "      <td>0</td>\n",
              "      <td>2</td>\n",
              "      <td>2008</td>\n",
              "      <td>208500</td>\n",
              "    </tr>\n",
              "    <tr>\n",
              "      <th>1</th>\n",
              "      <td>20</td>\n",
              "      <td>80.0</td>\n",
              "      <td>9600</td>\n",
              "      <td>6</td>\n",
              "      <td>8</td>\n",
              "      <td>1976</td>\n",
              "      <td>1976</td>\n",
              "      <td>0.0</td>\n",
              "      <td>978</td>\n",
              "      <td>0</td>\n",
              "      <td>...</td>\n",
              "      <td>298</td>\n",
              "      <td>0</td>\n",
              "      <td>0</td>\n",
              "      <td>0</td>\n",
              "      <td>0</td>\n",
              "      <td>0</td>\n",
              "      <td>0</td>\n",
              "      <td>5</td>\n",
              "      <td>2007</td>\n",
              "      <td>181500</td>\n",
              "    </tr>\n",
              "    <tr>\n",
              "      <th>2</th>\n",
              "      <td>60</td>\n",
              "      <td>68.0</td>\n",
              "      <td>11250</td>\n",
              "      <td>7</td>\n",
              "      <td>5</td>\n",
              "      <td>2001</td>\n",
              "      <td>2002</td>\n",
              "      <td>162.0</td>\n",
              "      <td>486</td>\n",
              "      <td>0</td>\n",
              "      <td>...</td>\n",
              "      <td>0</td>\n",
              "      <td>42</td>\n",
              "      <td>0</td>\n",
              "      <td>0</td>\n",
              "      <td>0</td>\n",
              "      <td>0</td>\n",
              "      <td>0</td>\n",
              "      <td>9</td>\n",
              "      <td>2008</td>\n",
              "      <td>223500</td>\n",
              "    </tr>\n",
              "    <tr>\n",
              "      <th>3</th>\n",
              "      <td>70</td>\n",
              "      <td>60.0</td>\n",
              "      <td>9550</td>\n",
              "      <td>7</td>\n",
              "      <td>5</td>\n",
              "      <td>1915</td>\n",
              "      <td>1970</td>\n",
              "      <td>0.0</td>\n",
              "      <td>216</td>\n",
              "      <td>0</td>\n",
              "      <td>...</td>\n",
              "      <td>0</td>\n",
              "      <td>35</td>\n",
              "      <td>272</td>\n",
              "      <td>0</td>\n",
              "      <td>0</td>\n",
              "      <td>0</td>\n",
              "      <td>0</td>\n",
              "      <td>2</td>\n",
              "      <td>2006</td>\n",
              "      <td>140000</td>\n",
              "    </tr>\n",
              "    <tr>\n",
              "      <th>4</th>\n",
              "      <td>60</td>\n",
              "      <td>84.0</td>\n",
              "      <td>14260</td>\n",
              "      <td>8</td>\n",
              "      <td>5</td>\n",
              "      <td>2000</td>\n",
              "      <td>2000</td>\n",
              "      <td>350.0</td>\n",
              "      <td>655</td>\n",
              "      <td>0</td>\n",
              "      <td>...</td>\n",
              "      <td>192</td>\n",
              "      <td>84</td>\n",
              "      <td>0</td>\n",
              "      <td>0</td>\n",
              "      <td>0</td>\n",
              "      <td>0</td>\n",
              "      <td>0</td>\n",
              "      <td>12</td>\n",
              "      <td>2008</td>\n",
              "      <td>250000</td>\n",
              "    </tr>\n",
              "    <tr>\n",
              "      <th>...</th>\n",
              "      <td>...</td>\n",
              "      <td>...</td>\n",
              "      <td>...</td>\n",
              "      <td>...</td>\n",
              "      <td>...</td>\n",
              "      <td>...</td>\n",
              "      <td>...</td>\n",
              "      <td>...</td>\n",
              "      <td>...</td>\n",
              "      <td>...</td>\n",
              "      <td>...</td>\n",
              "      <td>...</td>\n",
              "      <td>...</td>\n",
              "      <td>...</td>\n",
              "      <td>...</td>\n",
              "      <td>...</td>\n",
              "      <td>...</td>\n",
              "      <td>...</td>\n",
              "      <td>...</td>\n",
              "      <td>...</td>\n",
              "      <td>...</td>\n",
              "    </tr>\n",
              "    <tr>\n",
              "      <th>1455</th>\n",
              "      <td>60</td>\n",
              "      <td>62.0</td>\n",
              "      <td>7917</td>\n",
              "      <td>6</td>\n",
              "      <td>5</td>\n",
              "      <td>1999</td>\n",
              "      <td>2000</td>\n",
              "      <td>0.0</td>\n",
              "      <td>0</td>\n",
              "      <td>0</td>\n",
              "      <td>...</td>\n",
              "      <td>0</td>\n",
              "      <td>40</td>\n",
              "      <td>0</td>\n",
              "      <td>0</td>\n",
              "      <td>0</td>\n",
              "      <td>0</td>\n",
              "      <td>0</td>\n",
              "      <td>8</td>\n",
              "      <td>2007</td>\n",
              "      <td>175000</td>\n",
              "    </tr>\n",
              "    <tr>\n",
              "      <th>1456</th>\n",
              "      <td>20</td>\n",
              "      <td>85.0</td>\n",
              "      <td>13175</td>\n",
              "      <td>6</td>\n",
              "      <td>6</td>\n",
              "      <td>1978</td>\n",
              "      <td>1988</td>\n",
              "      <td>119.0</td>\n",
              "      <td>790</td>\n",
              "      <td>163</td>\n",
              "      <td>...</td>\n",
              "      <td>349</td>\n",
              "      <td>0</td>\n",
              "      <td>0</td>\n",
              "      <td>0</td>\n",
              "      <td>0</td>\n",
              "      <td>0</td>\n",
              "      <td>0</td>\n",
              "      <td>2</td>\n",
              "      <td>2010</td>\n",
              "      <td>210000</td>\n",
              "    </tr>\n",
              "    <tr>\n",
              "      <th>1457</th>\n",
              "      <td>70</td>\n",
              "      <td>66.0</td>\n",
              "      <td>9042</td>\n",
              "      <td>7</td>\n",
              "      <td>9</td>\n",
              "      <td>1941</td>\n",
              "      <td>2006</td>\n",
              "      <td>0.0</td>\n",
              "      <td>275</td>\n",
              "      <td>0</td>\n",
              "      <td>...</td>\n",
              "      <td>0</td>\n",
              "      <td>60</td>\n",
              "      <td>0</td>\n",
              "      <td>0</td>\n",
              "      <td>0</td>\n",
              "      <td>0</td>\n",
              "      <td>2500</td>\n",
              "      <td>5</td>\n",
              "      <td>2010</td>\n",
              "      <td>266500</td>\n",
              "    </tr>\n",
              "    <tr>\n",
              "      <th>1458</th>\n",
              "      <td>20</td>\n",
              "      <td>68.0</td>\n",
              "      <td>9717</td>\n",
              "      <td>5</td>\n",
              "      <td>6</td>\n",
              "      <td>1950</td>\n",
              "      <td>1996</td>\n",
              "      <td>0.0</td>\n",
              "      <td>49</td>\n",
              "      <td>1029</td>\n",
              "      <td>...</td>\n",
              "      <td>366</td>\n",
              "      <td>0</td>\n",
              "      <td>112</td>\n",
              "      <td>0</td>\n",
              "      <td>0</td>\n",
              "      <td>0</td>\n",
              "      <td>0</td>\n",
              "      <td>4</td>\n",
              "      <td>2010</td>\n",
              "      <td>142125</td>\n",
              "    </tr>\n",
              "    <tr>\n",
              "      <th>1459</th>\n",
              "      <td>20</td>\n",
              "      <td>75.0</td>\n",
              "      <td>9937</td>\n",
              "      <td>5</td>\n",
              "      <td>6</td>\n",
              "      <td>1965</td>\n",
              "      <td>1965</td>\n",
              "      <td>0.0</td>\n",
              "      <td>830</td>\n",
              "      <td>290</td>\n",
              "      <td>...</td>\n",
              "      <td>736</td>\n",
              "      <td>68</td>\n",
              "      <td>0</td>\n",
              "      <td>0</td>\n",
              "      <td>0</td>\n",
              "      <td>0</td>\n",
              "      <td>0</td>\n",
              "      <td>6</td>\n",
              "      <td>2008</td>\n",
              "      <td>147500</td>\n",
              "    </tr>\n",
              "  </tbody>\n",
              "</table>\n",
              "<p>1460 rows × 37 columns</p>\n",
              "</div>"
            ],
            "text/plain": [
              "      MSSubClass  LotFrontage  LotArea  OverallQual  OverallCond  YearBuilt  \\\n",
              "0             60         65.0     8450            7            5       2003   \n",
              "1             20         80.0     9600            6            8       1976   \n",
              "2             60         68.0    11250            7            5       2001   \n",
              "3             70         60.0     9550            7            5       1915   \n",
              "4             60         84.0    14260            8            5       2000   \n",
              "...          ...          ...      ...          ...          ...        ...   \n",
              "1455          60         62.0     7917            6            5       1999   \n",
              "1456          20         85.0    13175            6            6       1978   \n",
              "1457          70         66.0     9042            7            9       1941   \n",
              "1458          20         68.0     9717            5            6       1950   \n",
              "1459          20         75.0     9937            5            6       1965   \n",
              "\n",
              "      YearRemodAdd  MasVnrArea  BsmtFinSF1  BsmtFinSF2  ...  WoodDeckSF  \\\n",
              "0             2003       196.0         706           0  ...           0   \n",
              "1             1976         0.0         978           0  ...         298   \n",
              "2             2002       162.0         486           0  ...           0   \n",
              "3             1970         0.0         216           0  ...           0   \n",
              "4             2000       350.0         655           0  ...         192   \n",
              "...            ...         ...         ...         ...  ...         ...   \n",
              "1455          2000         0.0           0           0  ...           0   \n",
              "1456          1988       119.0         790         163  ...         349   \n",
              "1457          2006         0.0         275           0  ...           0   \n",
              "1458          1996         0.0          49        1029  ...         366   \n",
              "1459          1965         0.0         830         290  ...         736   \n",
              "\n",
              "      OpenPorchSF  EnclosedPorch  3SsnPorch  ScreenPorch  PoolArea  MiscVal  \\\n",
              "0              61              0          0            0         0        0   \n",
              "1               0              0          0            0         0        0   \n",
              "2              42              0          0            0         0        0   \n",
              "3              35            272          0            0         0        0   \n",
              "4              84              0          0            0         0        0   \n",
              "...           ...            ...        ...          ...       ...      ...   \n",
              "1455           40              0          0            0         0        0   \n",
              "1456            0              0          0            0         0        0   \n",
              "1457           60              0          0            0         0     2500   \n",
              "1458            0            112          0            0         0        0   \n",
              "1459           68              0          0            0         0        0   \n",
              "\n",
              "      MoSold  YrSold  SalePrice  \n",
              "0          2    2008     208500  \n",
              "1          5    2007     181500  \n",
              "2          9    2008     223500  \n",
              "3          2    2006     140000  \n",
              "4         12    2008     250000  \n",
              "...      ...     ...        ...  \n",
              "1455       8    2007     175000  \n",
              "1456       2    2010     210000  \n",
              "1457       5    2010     266500  \n",
              "1458       4    2010     142125  \n",
              "1459       6    2008     147500  \n",
              "\n",
              "[1460 rows x 37 columns]"
            ]
          },
          "execution_count": 130,
          "metadata": {},
          "output_type": "execute_result"
        }
      ],
      "source": [
        "numerical_features"
      ]
    },
    {
      "cell_type": "markdown",
      "metadata": {},
      "source": [
        "## Merging "
      ]
    },
    {
      "cell_type": "code",
      "execution_count": 131,
      "metadata": {
        "id": "oi8GnpCBU6Fr"
      },
      "outputs": [],
      "source": [
        "final_data = pd.concat([numerical_features, data_encoded],axis=1)"
      ]
    },
    {
      "cell_type": "code",
      "execution_count": 132,
      "metadata": {
        "colab": {
          "base_uri": "https://localhost:8080/",
          "height": 261
        },
        "id": "OhV79purVNuj",
        "outputId": "c21fd6e8-c997-4a79-c245-b697eeec4f7e"
      },
      "outputs": [
        {
          "data": {
            "text/html": [
              "<div>\n",
              "<style scoped>\n",
              "    .dataframe tbody tr th:only-of-type {\n",
              "        vertical-align: middle;\n",
              "    }\n",
              "\n",
              "    .dataframe tbody tr th {\n",
              "        vertical-align: top;\n",
              "    }\n",
              "\n",
              "    .dataframe thead th {\n",
              "        text-align: right;\n",
              "    }\n",
              "</style>\n",
              "<table border=\"1\" class=\"dataframe\">\n",
              "  <thead>\n",
              "    <tr style=\"text-align: right;\">\n",
              "      <th></th>\n",
              "      <th>MSSubClass</th>\n",
              "      <th>LotFrontage</th>\n",
              "      <th>LotArea</th>\n",
              "      <th>OverallQual</th>\n",
              "      <th>OverallCond</th>\n",
              "      <th>YearBuilt</th>\n",
              "      <th>YearRemodAdd</th>\n",
              "      <th>MasVnrArea</th>\n",
              "      <th>BsmtFinSF1</th>\n",
              "      <th>BsmtFinSF2</th>\n",
              "      <th>...</th>\n",
              "      <th>GarageType</th>\n",
              "      <th>GarageFinish</th>\n",
              "      <th>GarageQual</th>\n",
              "      <th>GarageCond</th>\n",
              "      <th>PavedDrive</th>\n",
              "      <th>PoolQC</th>\n",
              "      <th>Fence</th>\n",
              "      <th>MiscFeature</th>\n",
              "      <th>SaleType</th>\n",
              "      <th>SaleCondition</th>\n",
              "    </tr>\n",
              "  </thead>\n",
              "  <tbody>\n",
              "    <tr>\n",
              "      <th>0</th>\n",
              "      <td>60</td>\n",
              "      <td>65.0</td>\n",
              "      <td>8450</td>\n",
              "      <td>7</td>\n",
              "      <td>5</td>\n",
              "      <td>2003</td>\n",
              "      <td>2003</td>\n",
              "      <td>196.0</td>\n",
              "      <td>706</td>\n",
              "      <td>0</td>\n",
              "      <td>...</td>\n",
              "      <td>1</td>\n",
              "      <td>2</td>\n",
              "      <td>5</td>\n",
              "      <td>5</td>\n",
              "      <td>2</td>\n",
              "      <td>3</td>\n",
              "      <td>4</td>\n",
              "      <td>1</td>\n",
              "      <td>8</td>\n",
              "      <td>4</td>\n",
              "    </tr>\n",
              "    <tr>\n",
              "      <th>1</th>\n",
              "      <td>20</td>\n",
              "      <td>80.0</td>\n",
              "      <td>9600</td>\n",
              "      <td>6</td>\n",
              "      <td>8</td>\n",
              "      <td>1976</td>\n",
              "      <td>1976</td>\n",
              "      <td>0.0</td>\n",
              "      <td>978</td>\n",
              "      <td>0</td>\n",
              "      <td>...</td>\n",
              "      <td>1</td>\n",
              "      <td>2</td>\n",
              "      <td>5</td>\n",
              "      <td>5</td>\n",
              "      <td>2</td>\n",
              "      <td>3</td>\n",
              "      <td>4</td>\n",
              "      <td>1</td>\n",
              "      <td>8</td>\n",
              "      <td>4</td>\n",
              "    </tr>\n",
              "    <tr>\n",
              "      <th>2</th>\n",
              "      <td>60</td>\n",
              "      <td>68.0</td>\n",
              "      <td>11250</td>\n",
              "      <td>7</td>\n",
              "      <td>5</td>\n",
              "      <td>2001</td>\n",
              "      <td>2002</td>\n",
              "      <td>162.0</td>\n",
              "      <td>486</td>\n",
              "      <td>0</td>\n",
              "      <td>...</td>\n",
              "      <td>1</td>\n",
              "      <td>2</td>\n",
              "      <td>5</td>\n",
              "      <td>5</td>\n",
              "      <td>2</td>\n",
              "      <td>3</td>\n",
              "      <td>4</td>\n",
              "      <td>1</td>\n",
              "      <td>8</td>\n",
              "      <td>4</td>\n",
              "    </tr>\n",
              "    <tr>\n",
              "      <th>3</th>\n",
              "      <td>70</td>\n",
              "      <td>60.0</td>\n",
              "      <td>9550</td>\n",
              "      <td>7</td>\n",
              "      <td>5</td>\n",
              "      <td>1915</td>\n",
              "      <td>1970</td>\n",
              "      <td>0.0</td>\n",
              "      <td>216</td>\n",
              "      <td>0</td>\n",
              "      <td>...</td>\n",
              "      <td>5</td>\n",
              "      <td>3</td>\n",
              "      <td>5</td>\n",
              "      <td>5</td>\n",
              "      <td>2</td>\n",
              "      <td>3</td>\n",
              "      <td>4</td>\n",
              "      <td>1</td>\n",
              "      <td>8</td>\n",
              "      <td>0</td>\n",
              "    </tr>\n",
              "    <tr>\n",
              "      <th>4</th>\n",
              "      <td>60</td>\n",
              "      <td>84.0</td>\n",
              "      <td>14260</td>\n",
              "      <td>8</td>\n",
              "      <td>5</td>\n",
              "      <td>2000</td>\n",
              "      <td>2000</td>\n",
              "      <td>350.0</td>\n",
              "      <td>655</td>\n",
              "      <td>0</td>\n",
              "      <td>...</td>\n",
              "      <td>1</td>\n",
              "      <td>2</td>\n",
              "      <td>5</td>\n",
              "      <td>5</td>\n",
              "      <td>2</td>\n",
              "      <td>3</td>\n",
              "      <td>4</td>\n",
              "      <td>1</td>\n",
              "      <td>8</td>\n",
              "      <td>4</td>\n",
              "    </tr>\n",
              "  </tbody>\n",
              "</table>\n",
              "<p>5 rows × 80 columns</p>\n",
              "</div>"
            ],
            "text/plain": [
              "   MSSubClass  LotFrontage  LotArea  OverallQual  OverallCond  YearBuilt  \\\n",
              "0          60         65.0     8450            7            5       2003   \n",
              "1          20         80.0     9600            6            8       1976   \n",
              "2          60         68.0    11250            7            5       2001   \n",
              "3          70         60.0     9550            7            5       1915   \n",
              "4          60         84.0    14260            8            5       2000   \n",
              "\n",
              "   YearRemodAdd  MasVnrArea  BsmtFinSF1  BsmtFinSF2  ...  GarageType  \\\n",
              "0          2003       196.0         706           0  ...           1   \n",
              "1          1976         0.0         978           0  ...           1   \n",
              "2          2002       162.0         486           0  ...           1   \n",
              "3          1970         0.0         216           0  ...           5   \n",
              "4          2000       350.0         655           0  ...           1   \n",
              "\n",
              "   GarageFinish  GarageQual  GarageCond  PavedDrive  PoolQC  Fence  \\\n",
              "0             2           5           5           2       3      4   \n",
              "1             2           5           5           2       3      4   \n",
              "2             2           5           5           2       3      4   \n",
              "3             3           5           5           2       3      4   \n",
              "4             2           5           5           2       3      4   \n",
              "\n",
              "   MiscFeature  SaleType  SaleCondition  \n",
              "0            1         8              4  \n",
              "1            1         8              4  \n",
              "2            1         8              4  \n",
              "3            1         8              0  \n",
              "4            1         8              4  \n",
              "\n",
              "[5 rows x 80 columns]"
            ]
          },
          "execution_count": 132,
          "metadata": {},
          "output_type": "execute_result"
        }
      ],
      "source": [
        "final_data.head()"
      ]
    },
    {
      "cell_type": "code",
      "execution_count": 133,
      "metadata": {
        "colab": {
          "base_uri": "https://localhost:8080/"
        },
        "id": "2PA5DtGwXoBG",
        "outputId": "2cb02acf-31df-4eff-b34b-8da285591760"
      },
      "outputs": [
        {
          "data": {
            "text/plain": [
              "(1460, 80)"
            ]
          },
          "execution_count": 133,
          "metadata": {},
          "output_type": "execute_result"
        }
      ],
      "source": [
        "final_data.shape"
      ]
    },
    {
      "cell_type": "markdown",
      "metadata": {},
      "source": [
        "## Splitting into training and testing"
      ]
    },
    {
      "cell_type": "code",
      "execution_count": 134,
      "metadata": {
        "id": "ULw0gVfzVXCr"
      },
      "outputs": [],
      "source": [
        "features = final_data.drop('SalePrice', axis=1)\n",
        "target = final_data[['SalePrice']]"
      ]
    },
    {
      "cell_type": "code",
      "execution_count": 135,
      "metadata": {
        "id": "m-UbzzkQVr-r"
      },
      "outputs": [],
      "source": [
        "from sklearn.model_selection import train_test_split\n",
        "x_train,x_test,y_train,y_test = train_test_split(features,target,train_size=0.75,random_state = 25)"
      ]
    },
    {
      "cell_type": "code",
      "execution_count": 137,
      "metadata": {
        "colab": {
          "base_uri": "https://localhost:8080/"
        },
        "id": "mSn4LT1tWYM7",
        "outputId": "73e80aef-0765-414a-de11-d614ce72ee0a"
      },
      "outputs": [
        {
          "name": "stdout",
          "output_type": "stream",
          "text": [
            "(1095, 1)\n",
            "(365, 79)\n",
            "(365, 1)\n",
            "(1095, 79)\n"
          ]
        }
      ],
      "source": [
        "print(y_train.shape)\n",
        "print(x_test.shape)\n",
        "print(y_test.shape)\n",
        "print(x_train.shape)\n"
      ]
    },
    {
      "cell_type": "markdown",
      "metadata": {},
      "source": [
        "## Standard Scaling"
      ]
    },
    {
      "cell_type": "code",
      "execution_count": 138,
      "metadata": {},
      "outputs": [],
      "source": [
        "from sklearn.preprocessing import StandardScaler\n",
        "sc = StandardScaler()\n",
        "x_train = sc.fit_transform(x_train)\n",
        "x_test = sc.transform(x_test)"
      ]
    },
    {
      "cell_type": "markdown",
      "metadata": {},
      "source": [
        "## Feature Importance"
      ]
    },
    {
      "cell_type": "markdown",
      "metadata": {},
      "source": [
        "### Method1: using ExtraTreesClassifier"
      ]
    },
    {
      "cell_type": "code",
      "execution_count": 139,
      "metadata": {},
      "outputs": [
        {
          "name": "stderr",
          "output_type": "stream",
          "text": [
            "<ipython-input-139-93b6d3da0d59>:3: DataConversionWarning: A column-vector y was passed when a 1d array was expected. Please change the shape of y to (n_samples,), for example using ravel().\n",
            "  feature_model.fit(features, target)\n"
          ]
        },
        {
          "name": "stdout",
          "output_type": "stream",
          "text": [
            "[1.44126634e-02 2.57539741e-02 2.77446132e-02 2.06483728e-02\n",
            " 1.57640840e-02 2.59101121e-02 2.59979807e-02 1.79583833e-02\n",
            " 2.51708450e-02 7.66381425e-03 2.69950197e-02 2.71794272e-02\n",
            " 2.80499810e-02 1.68477926e-02 1.11195983e-03 2.92749488e-02\n",
            " 1.41907701e-02 4.15470394e-03 9.20577671e-03 1.05559411e-02\n",
            " 1.70982908e-02 2.11928722e-03 2.29483287e-02 1.49814125e-02\n",
            " 2.55513130e-02 1.20347348e-02 2.71744918e-02 2.19288984e-02\n",
            " 2.25864835e-02 8.26764631e-03 1.77781049e-03 5.83792035e-03\n",
            " 2.33149008e-04 2.65548865e-03 2.85520968e-02 2.55966099e-02\n",
            " 9.16602843e-03 2.58651896e-04 3.65278507e-03 1.39558026e-02\n",
            " 6.35332196e-03 3.78244525e-05 1.58620131e-02 3.60980958e-03\n",
            " 2.18746784e-02 8.75630783e-03 7.12478670e-04 6.75808666e-03\n",
            " 1.24690526e-02 1.14346261e-02 1.38422935e-03 1.80327334e-02\n",
            " 1.87632306e-02 1.43547221e-02 8.62090153e-03 7.77269089e-03\n",
            " 9.71578057e-03 1.18169320e-02 7.41076702e-03 1.68678515e-02\n",
            " 1.90947207e-02 7.28351401e-03 1.23414745e-03 1.53340214e-02\n",
            " 3.44585167e-03 5.09805284e-03 1.28799072e-02 4.61821619e-03\n",
            " 1.55790216e-02 1.16247776e-02 1.56647572e-02 4.42140050e-03\n",
            " 3.59482114e-03 4.34727593e-03 3.19027880e-04 1.07339050e-02\n",
            " 2.73236693e-03 8.19239769e-03 1.02253848e-02]\n"
          ]
        }
      ],
      "source": [
        "from sklearn.ensemble import ExtraTreesClassifier\n",
        "feature_model = ExtraTreesClassifier()\n",
        "feature_model.fit(features, target)\n",
        "print(feature_model.feature_importances_)"
      ]
    },
    {
      "cell_type": "code",
      "execution_count": 145,
      "metadata": {},
      "outputs": [
        {
          "data": {
            "image/png": "[encoded data removed]",
            "text/plain": [
              "<Figure size 432x288 with 1 Axes>"
            ]
          },
          "metadata": {
            "needs_background": "light"
          },
          "output_type": "display_data"
        }
      ],
      "source": [
        "feat_importances = pd.Series(feature_model.feature_importances_, index=features.columns)\n",
        "feat_importances.nlargest(79).plot(kind='barh')\n",
        "plt.show()"
      ]
    },
    {
      "cell_type": "markdown",
      "metadata": {},
      "source": [
        "### Method2: Dimensionality reduction using PCA"
      ]
    },
    {
      "cell_type": "code",
      "execution_count": 153,
      "metadata": {},
      "outputs": [
        {
          "data": {
            "text/html": [
              "<div>\n",
              "<style scoped>\n",
              "    .dataframe tbody tr th:only-of-type {\n",
              "        vertical-align: middle;\n",
              "    }\n",
              "\n",
              "    .dataframe tbody tr th {\n",
              "        vertical-align: top;\n",
              "    }\n",
              "\n",
              "    .dataframe thead th {\n",
              "        text-align: right;\n",
              "    }\n",
              "</style>\n",
              "<table border=\"1\" class=\"dataframe\">\n",
              "  <thead>\n",
              "    <tr style=\"text-align: right;\">\n",
              "      <th></th>\n",
              "      <th>0</th>\n",
              "      <th>1</th>\n",
              "      <th>2</th>\n",
              "      <th>3</th>\n",
              "      <th>4</th>\n",
              "      <th>5</th>\n",
              "      <th>6</th>\n",
              "      <th>7</th>\n",
              "      <th>8</th>\n",
              "      <th>9</th>\n",
              "      <th>...</th>\n",
              "      <th>69</th>\n",
              "      <th>70</th>\n",
              "      <th>71</th>\n",
              "      <th>72</th>\n",
              "      <th>73</th>\n",
              "      <th>74</th>\n",
              "      <th>75</th>\n",
              "      <th>76</th>\n",
              "      <th>77</th>\n",
              "      <th>78</th>\n",
              "    </tr>\n",
              "  </thead>\n",
              "  <tbody>\n",
              "    <tr>\n",
              "      <th>0</th>\n",
              "      <td>-2065.082959</td>\n",
              "      <td>52.068842</td>\n",
              "      <td>-273.723825</td>\n",
              "      <td>748.847008</td>\n",
              "      <td>-166.336697</td>\n",
              "      <td>-98.626027</td>\n",
              "      <td>-181.974153</td>\n",
              "      <td>-4.885125</td>\n",
              "      <td>57.911494</td>\n",
              "      <td>10.938689</td>\n",
              "      <td>...</td>\n",
              "      <td>0.012059</td>\n",
              "      <td>0.069929</td>\n",
              "      <td>0.078133</td>\n",
              "      <td>-0.020588</td>\n",
              "      <td>-0.042297</td>\n",
              "      <td>-0.008055</td>\n",
              "      <td>0.008843</td>\n",
              "      <td>-0.000913</td>\n",
              "      <td>-1.162916e-11</td>\n",
              "      <td>-3.984537e-13</td>\n",
              "    </tr>\n",
              "    <tr>\n",
              "      <th>1</th>\n",
              "      <td>-911.676814</td>\n",
              "      <td>21.698972</td>\n",
              "      <td>749.281126</td>\n",
              "      <td>226.064249</td>\n",
              "      <td>-46.698556</td>\n",
              "      <td>-43.025045</td>\n",
              "      <td>-78.470123</td>\n",
              "      <td>12.838138</td>\n",
              "      <td>-124.745811</td>\n",
              "      <td>24.721168</td>\n",
              "      <td>...</td>\n",
              "      <td>0.112369</td>\n",
              "      <td>0.240989</td>\n",
              "      <td>0.520648</td>\n",
              "      <td>0.137689</td>\n",
              "      <td>-0.084163</td>\n",
              "      <td>0.001622</td>\n",
              "      <td>0.023499</td>\n",
              "      <td>-0.009368</td>\n",
              "      <td>-7.077892e-12</td>\n",
              "      <td>-1.335553e-11</td>\n",
              "    </tr>\n",
              "    <tr>\n",
              "      <th>2</th>\n",
              "      <td>734.598863</td>\n",
              "      <td>113.302402</td>\n",
              "      <td>-464.068406</td>\n",
              "      <td>426.346032</td>\n",
              "      <td>-127.381937</td>\n",
              "      <td>-121.522875</td>\n",
              "      <td>-169.110122</td>\n",
              "      <td>-3.906227</td>\n",
              "      <td>46.437130</td>\n",
              "      <td>65.489559</td>\n",
              "      <td>...</td>\n",
              "      <td>-0.102040</td>\n",
              "      <td>0.003363</td>\n",
              "      <td>0.174329</td>\n",
              "      <td>0.047178</td>\n",
              "      <td>0.087540</td>\n",
              "      <td>-0.020280</td>\n",
              "      <td>0.006575</td>\n",
              "      <td>0.006224</td>\n",
              "      <td>-1.292883e-11</td>\n",
              "      <td>4.344343e-12</td>\n",
              "    </tr>\n",
              "    <tr>\n",
              "      <th>3</th>\n",
              "      <td>-970.402434</td>\n",
              "      <td>-25.905020</td>\n",
              "      <td>-571.182748</td>\n",
              "      <td>200.438215</td>\n",
              "      <td>-99.195715</td>\n",
              "      <td>-187.097062</td>\n",
              "      <td>18.464857</td>\n",
              "      <td>-44.414273</td>\n",
              "      <td>-61.446377</td>\n",
              "      <td>159.477037</td>\n",
              "      <td>...</td>\n",
              "      <td>0.017948</td>\n",
              "      <td>-0.026068</td>\n",
              "      <td>-0.072416</td>\n",
              "      <td>-0.193100</td>\n",
              "      <td>0.128337</td>\n",
              "      <td>-0.076582</td>\n",
              "      <td>0.022010</td>\n",
              "      <td>-0.011361</td>\n",
              "      <td>-9.341999e-12</td>\n",
              "      <td>2.081250e-11</td>\n",
              "    </tr>\n",
              "    <tr>\n",
              "      <th>4</th>\n",
              "      <td>3758.394409</td>\n",
              "      <td>652.475597</td>\n",
              "      <td>-539.623362</td>\n",
              "      <td>541.010117</td>\n",
              "      <td>-134.932153</td>\n",
              "      <td>-21.025490</td>\n",
              "      <td>-174.614700</td>\n",
              "      <td>-63.147653</td>\n",
              "      <td>214.281841</td>\n",
              "      <td>161.281182</td>\n",
              "      <td>...</td>\n",
              "      <td>-0.019771</td>\n",
              "      <td>-0.103737</td>\n",
              "      <td>0.051334</td>\n",
              "      <td>0.012736</td>\n",
              "      <td>-0.076397</td>\n",
              "      <td>-0.005840</td>\n",
              "      <td>-0.012946</td>\n",
              "      <td>0.001728</td>\n",
              "      <td>-1.599152e-12</td>\n",
              "      <td>-1.015810e-12</td>\n",
              "    </tr>\n",
              "  </tbody>\n",
              "</table>\n",
              "<p>5 rows × 79 columns</p>\n",
              "</div>"
            ],
            "text/plain": [
              "            0           1           2           3           4           5   \\\n",
              "0 -2065.082959   52.068842 -273.723825  748.847008 -166.336697  -98.626027   \n",
              "1  -911.676814   21.698972  749.281126  226.064249  -46.698556  -43.025045   \n",
              "2   734.598863  113.302402 -464.068406  426.346032 -127.381937 -121.522875   \n",
              "3  -970.402434  -25.905020 -571.182748  200.438215  -99.195715 -187.097062   \n",
              "4  3758.394409  652.475597 -539.623362  541.010117 -134.932153  -21.025490   \n",
              "\n",
              "           6          7           8           9   ...        69        70  \\\n",
              "0 -181.974153  -4.885125   57.911494   10.938689  ...  0.012059  0.069929   \n",
              "1  -78.470123  12.838138 -124.745811   24.721168  ...  0.112369  0.240989   \n",
              "2 -169.110122  -3.906227   46.437130   65.489559  ... -0.102040  0.003363   \n",
              "3   18.464857 -44.414273  -61.446377  159.477037  ...  0.017948 -0.026068   \n",
              "4 -174.614700 -63.147653  214.281841  161.281182  ... -0.019771 -0.103737   \n",
              "\n",
              "         71        72        73        74        75        76            77  \\\n",
              "0  0.078133 -0.020588 -0.042297 -0.008055  0.008843 -0.000913 -1.162916e-11   \n",
              "1  0.520648  0.137689 -0.084163  0.001622  0.023499 -0.009368 -7.077892e-12   \n",
              "2  0.174329  0.047178  0.087540 -0.020280  0.006575  0.006224 -1.292883e-11   \n",
              "3 -0.072416 -0.193100  0.128337 -0.076582  0.022010 -0.011361 -9.341999e-12   \n",
              "4  0.051334  0.012736 -0.076397 -0.005840 -0.012946  0.001728 -1.599152e-12   \n",
              "\n",
              "             78  \n",
              "0 -3.984537e-13  \n",
              "1 -1.335553e-11  \n",
              "2  4.344343e-12  \n",
              "3  2.081250e-11  \n",
              "4 -1.015810e-12  \n",
              "\n",
              "[5 rows x 79 columns]"
            ]
          },
          "execution_count": 153,
          "metadata": {},
          "output_type": "execute_result"
        }
      ],
      "source": [
        "from sklearn.decomposition import PCA\n",
        "pca = PCA()\n",
        "x_pca = pca.fit_transform(features)\n",
        "x_pca = pd.DataFrame(x_pca)\n",
        "x_pca.head()"
      ]
    },
    {
      "cell_type": "code",
      "execution_count": 155,
      "metadata": {},
      "outputs": [
        {
          "name": "stdout",
          "output_type": "stream",
          "text": [
            "[9.82809374e-01 5.08458861e-03 3.38584188e-03 2.77703795e-03\n",
            " 2.41016499e-03 1.96556963e-03 4.99504949e-04 3.06754720e-04\n",
            " 2.57229357e-04 1.82981889e-04 1.38290527e-04 4.09478853e-05\n",
            " 3.32859683e-05 3.01918407e-05 2.75972036e-05 1.53692499e-05\n",
            " 1.49784875e-05 8.36112451e-06 5.94561387e-06 3.01180141e-06\n",
            " 2.00776478e-06 3.36861069e-07 1.81662027e-07 7.18800421e-08\n",
            " 3.07810094e-08 2.68522197e-08 2.39414894e-08 2.38871568e-08\n",
            " 2.14803826e-08 1.92019011e-08 1.69300398e-08 1.60247129e-08\n",
            " 1.53333832e-08 1.36449855e-08 1.21950856e-08 1.04404656e-08\n",
            " 1.02760461e-08 9.70629931e-09 8.95349697e-09 8.72135786e-09\n",
            " 8.58119713e-09 8.07429366e-09 7.25196562e-09 7.04982231e-09\n",
            " 6.58276990e-09 6.44447783e-09 5.80224106e-09 5.36163765e-09\n",
            " 4.91957781e-09 4.39524207e-09 4.18622734e-09 3.62065201e-09\n",
            " 3.25590878e-09 3.18955025e-09 2.91170689e-09 2.79296056e-09\n",
            " 2.65672113e-09 2.38538899e-09 2.33203995e-09 2.05985955e-09\n",
            " 1.62318635e-09 1.60525725e-09 1.57406198e-09 1.32488579e-09\n",
            " 1.16277827e-09 9.51755206e-10 7.58784339e-10 6.86819613e-10\n",
            " 5.99199343e-10 4.73117074e-10 4.64104776e-10 4.10840702e-10\n",
            " 3.17668724e-10 2.54743739e-10 3.72242830e-11 3.40685456e-11\n",
            " 6.14332425e-12 9.40788026e-33 9.40788026e-33]\n"
          ]
        }
      ],
      "source": [
        "explained_variance = pca.explained_variance_ratio_\n",
        "print(explained_variance)"
      ]
    },
    {
      "cell_type": "code",
      "execution_count": 151,
      "metadata": {},
      "outputs": [],
      "source": [
        "# from sklearn.decomposition import PCA\n",
        "# pca = PCA().fit(x_train)\n",
        "# plt.plot(pca.explained_variance_ratio_.cumsum(), lw=3, color='#087E8B')\n",
        "# plt.title('Cumulative explained variance by number of principal components', size=20)\n",
        "# plt.show()"
      ]
    },
    {
      "cell_type": "code",
      "execution_count": 152,
      "metadata": {},
      "outputs": [],
      "source": [
        "# loadings = pd.DataFrame(\n",
        "#     data=pca.components_.T * np.sqrt(pca.explained_variance_), \n",
        "#     columns=[f'PC{i}' for i in range(1, len(x_train.columns) + 1)],\n",
        "#     index=x_train.columns\n",
        "# )"
      ]
    },
    {
      "cell_type": "markdown",
      "metadata": {},
      "source": [
        "H O R I Z O N \n",
        "\n",
        "_ _ _ N "
      ]
    },
    {
      "cell_type": "markdown",
      "metadata": {},
      "source": [
        "### Method 03: Permutation Importance"
      ]
    },
    {
      "cell_type": "code",
      "execution_count": null,
      "metadata": {},
      "outputs": [],
      "source": [
        "from sklearn.inspection import permutation_importance"
      ]
    },
    {
      "cell_type": "markdown",
      "metadata": {},
      "source": [
        "### Method 04: Correlation Statistics"
      ]
    },
    {
      "cell_type": "code",
      "execution_count": 159,
      "metadata": {},
      "outputs": [],
      "source": [
        "from sklearn.datasets import make_regression\n",
        "from sklearn.feature_selection import SelectKBest\n",
        "from sklearn.feature_selection import f_regression"
      ]
    },
    {
      "cell_type": "code",
      "execution_count": 185,
      "metadata": {},
      "outputs": [],
      "source": [
        "def select_features(x_train, y_train, X_test):\n",
        "\t# configure to select all features\n",
        "\tfs = SelectKBest(score_func=f_regression, k='all')\n",
        "\t# learn relationship from training data\n",
        "\tfs.fit(x_train, y_train)\n",
        "\t# transform train input data\n",
        "\tX_train_fs = fs.transform(x_train)\n",
        "\t# transform test input data\n",
        "\tX_test_fs = fs.transform(x_test)\n",
        "\treturn X_train_fs, X_test_fs, fs"
      ]
    },
    {
      "cell_type": "code",
      "execution_count": 186,
      "metadata": {},
      "outputs": [
        {
          "data": {
            "text/plain": [
              "['MSSubClass',\n",
              " 'LotFrontage',\n",
              " 'LotArea',\n",
              " 'OverallQual',\n",
              " 'OverallCond',\n",
              " 'YearBuilt',\n",
              " 'YearRemodAdd',\n",
              " 'MasVnrArea',\n",
              " 'BsmtFinSF1',\n",
              " 'BsmtFinSF2',\n",
              " 'BsmtUnfSF',\n",
              " 'TotalBsmtSF',\n",
              " '1stFlrSF',\n",
              " '2ndFlrSF',\n",
              " 'LowQualFinSF',\n",
              " 'GrLivArea',\n",
              " 'BsmtFullBath',\n",
              " 'BsmtHalfBath',\n",
              " 'FullBath',\n",
              " 'HalfBath',\n",
              " 'BedroomAbvGr',\n",
              " 'KitchenAbvGr',\n",
              " 'TotRmsAbvGrd',\n",
              " 'Fireplaces',\n",
              " 'GarageYrBlt',\n",
              " 'GarageCars',\n",
              " 'GarageArea',\n",
              " 'WoodDeckSF',\n",
              " 'OpenPorchSF',\n",
              " 'EnclosedPorch',\n",
              " '3SsnPorch',\n",
              " 'ScreenPorch',\n",
              " 'PoolArea',\n",
              " 'MiscVal',\n",
              " 'MoSold',\n",
              " 'YrSold',\n",
              " 'MSZoning',\n",
              " 'Street',\n",
              " 'Alley',\n",
              " 'LotShape',\n",
              " 'LandContour',\n",
              " 'Utilities',\n",
              " 'LotConfig',\n",
              " 'LandSlope',\n",
              " 'Neighborhood',\n",
              " 'Condition1',\n",
              " 'Condition2',\n",
              " 'BldgType',\n",
              " 'HouseStyle',\n",
              " 'RoofStyle',\n",
              " 'RoofMatl',\n",
              " 'Exterior1st',\n",
              " 'Exterior2nd',\n",
              " 'MasVnrType',\n",
              " 'ExterQual',\n",
              " 'ExterCond',\n",
              " 'Foundation',\n",
              " 'BsmtQual',\n",
              " 'BsmtCond',\n",
              " 'BsmtExposure',\n",
              " 'BsmtFinType1',\n",
              " 'BsmtFinType2',\n",
              " 'Heating',\n",
              " 'HeatingQC',\n",
              " 'CentralAir',\n",
              " 'Electrical',\n",
              " 'KitchenQual',\n",
              " 'Functional',\n",
              " 'FireplaceQu',\n",
              " 'GarageType',\n",
              " 'GarageFinish',\n",
              " 'GarageQual',\n",
              " 'GarageCond',\n",
              " 'PavedDrive',\n",
              " 'PoolQC',\n",
              " 'Fence',\n",
              " 'MiscFeature',\n",
              " 'SaleType',\n",
              " 'SaleCondition']"
            ]
          },
          "execution_count": 186,
          "metadata": {},
          "output_type": "execute_result"
        }
      ],
      "source": [
        "features_list = list(features)\n",
        "features_list"
      ]
    },
    {
      "cell_type": "code",
      "execution_count": 194,
      "metadata": {},
      "outputs": [
        {
          "name": "stderr",
          "output_type": "stream",
          "text": [
            "c:\\Users\\User\\AppData\\Local\\Programs\\Python\\Python39\\lib\\site-packages\\sklearn\\utils\\validation.py:63: DataConversionWarning: A column-vector y was passed when a 1d array was expected. Please change the shape of y to (n_samples, ), for example using ravel().\n",
            "  return f(*args, **kwargs)\n",
            "c:\\Users\\User\\AppData\\Local\\Programs\\Python\\Python39\\lib\\site-packages\\sklearn\\feature_selection\\_univariate_selection.py:301: RuntimeWarning: invalid value encountered in true_divide\n",
            "  corr /= X_norms\n"
          ]
        },
        {
          "name": "stdout",
          "output_type": "stream",
          "text": [
            "MSSubClass: 7.980631\n",
            "LotFrontage: 101.039352\n",
            "LotArea: 86.987332\n",
            "OverallQual: 1844.982894\n",
            "OverallCond: 4.925129\n",
            "YearBuilt: 429.715976\n",
            "YearRemodAdd: 427.032128\n",
            "MasVnrArea: 272.906573\n",
            "BsmtFinSF1: 157.051132\n",
            "BsmtFinSF2: 0.003252\n",
            "BsmtUnfSF: 53.690082\n",
            "TotalBsmtSF: 572.534308\n",
            "1stFlrSF: 560.440405\n",
            "2ndFlrSF: 110.843522\n",
            "LowQualFinSF: 0.066758\n",
            "GrLivArea: 973.986697\n",
            "BsmtFullBath: 56.098152\n",
            "BsmtHalfBath: 0.450147\n",
            "FullBath: 527.473661\n",
            "HalfBath: 95.547441\n",
            "BedroomAbvGr: 25.425557\n",
            "KitchenAbvGr: 21.548431\n",
            "TotRmsAbvGrd: 412.271782\n",
            "Fireplaces: 306.336763\n",
            "GarageYrBlt: 84.895531\n",
            "GarageCars: 754.784177\n",
            "GarageArea: 707.580981\n",
            "WoodDeckSF: 125.606516\n",
            "OpenPorchSF: 124.443775\n",
            "EnclosedPorch: 16.121225\n",
            "3SsnPorch: 0.686344\n",
            "ScreenPorch: 22.218776\n",
            "PoolArea: 0.429760\n",
            "MiscVal: 0.214005\n",
            "MoSold: 4.545499\n",
            "YrSold: 0.128936\n",
            "MSZoning: 36.829596\n",
            "Street: 1.888430\n",
            "Alley: 8.424116\n",
            "LotShape: 77.604726\n",
            "LandContour: 0.011307\n",
            "Utilities: nan\n",
            "LotConfig: 0.970613\n",
            "LandSlope: 4.783321\n",
            "Neighborhood: 57.443457\n",
            "Condition1: 7.012910\n",
            "Condition2: 0.005613\n",
            "BldgType: 6.218985\n",
            "HouseStyle: 30.787841\n",
            "RoofStyle: 44.321986\n",
            "RoofMatl: 9.424131\n",
            "Exterior1st: 19.310889\n",
            "Exterior2nd: 24.561419\n",
            "MasVnrType: 0.666793\n",
            "ExterQual: 756.933049\n",
            "ExterCond: 9.444358\n",
            "Foundation: 189.523673\n",
            "BsmtQual: 581.581926\n",
            "BsmtCond: 13.128617\n",
            "BsmtExposure: 97.517601\n",
            "BsmtFinType1: 10.182566\n",
            "BsmtFinType2: 2.386901\n",
            "Heating: 16.380427\n",
            "HeatingQC: 235.476008\n",
            "CentralAir: 87.294894\n",
            "Electrical: 69.142508\n",
            "KitchenQual: 572.460954\n",
            "Functional: 22.569735\n",
            "FireplaceQu: 19.503802\n",
            "GarageType: 241.102664\n",
            "GarageFinish: 237.518493\n",
            "GarageQual: 57.507932\n",
            "GarageCond: 79.149694\n",
            "PavedDrive: 59.819839\n",
            "PoolQC: 0.934371\n",
            "Fence: 26.051378\n",
            "MiscFeature: 6.640458\n",
            "SaleType: 3.434778\n",
            "SaleCondition: 66.416554\n"
          ]
        },
        {
          "data": {
            "image/png": "[encoded data removed]",
            "text/plain": [
              "<Figure size 432x288 with 1 Axes>"
            ]
          },
          "metadata": {
            "needs_background": "light"
          },
          "output_type": "display_data"
        }
      ],
      "source": [
        "X_train_fs, X_test_fs, fs = select_features(x_train, y_train, x_test)\n",
        "# what are scores for the features\n",
        "new_features = []\n",
        "for i in range(len(fs.scores_)):\n",
        "\tprint('%s: %f' % (features_list[i], fs.scores_[i]))\n",
        "\tif(fs.scores_[i] < 50):\n",
        "\t\tnew_features.append(features_list[i])\n",
        "\t\n",
        "# plot the scores\n",
        "plt.bar([i for i in range(len(fs.scores_))], fs.scores_)\n",
        "plt.show()"
      ]
    },
    {
      "cell_type": "code",
      "execution_count": 173,
      "metadata": {},
      "outputs": [
        {
          "data": {
            "text/plain": [
              "array([7.98063093e+00, 1.01039352e+02, 8.69873316e+01, 1.84498289e+03,\n",
              "       4.92512914e+00, 4.29715976e+02, 4.27032128e+02, 2.72906573e+02,\n",
              "       1.57051132e+02, 3.25168646e-03, 5.36900819e+01, 5.72534308e+02,\n",
              "       5.60440405e+02, 1.10843522e+02, 6.67581088e-02, 9.73986697e+02,\n",
              "       5.60981519e+01, 4.50147334e-01, 5.27473661e+02, 9.55474409e+01,\n",
              "       2.54255574e+01, 2.15484308e+01, 4.12271782e+02, 3.06336763e+02,\n",
              "       8.48955307e+01, 7.54784177e+02, 7.07580981e+02, 1.25606516e+02,\n",
              "       1.24443775e+02, 1.61212251e+01, 6.86343769e-01, 2.22187761e+01,\n",
              "       4.29760418e-01, 2.14004773e-01, 4.54549913e+00, 1.28935523e-01,\n",
              "       3.68295961e+01, 1.88842962e+00, 8.42411632e+00, 7.76047264e+01,\n",
              "       1.13070304e-02,            nan, 9.70612859e-01, 4.78332131e+00,\n",
              "       5.74434573e+01, 7.01290985e+00, 5.61274715e-03, 6.21898459e+00,\n",
              "       3.07878413e+01, 4.43219857e+01, 9.42413061e+00, 1.93108893e+01,\n",
              "       2.45614191e+01, 6.66792707e-01, 7.56933049e+02, 9.44435836e+00,\n",
              "       1.89523673e+02, 5.81581926e+02, 1.31286167e+01, 9.75176009e+01,\n",
              "       1.01825655e+01, 2.38690101e+00, 1.63804270e+01, 2.35476008e+02,\n",
              "       8.72948942e+01, 6.91425077e+01, 5.72460954e+02, 2.25697346e+01,\n",
              "       1.95038016e+01, 2.41102664e+02, 2.37518493e+02, 5.75079322e+01,\n",
              "       7.91496943e+01, 5.98198393e+01, 9.34371039e-01, 2.60513778e+01,\n",
              "       6.64045782e+00, 3.43477804e+00, 6.64165543e+01])"
            ]
          },
          "execution_count": 173,
          "metadata": {},
          "output_type": "execute_result"
        }
      ],
      "source": [
        "fs.scores_"
      ]
    },
    {
      "cell_type": "code",
      "execution_count": 201,
      "metadata": {},
      "outputs": [
        {
          "name": "stdout",
          "output_type": "stream",
          "text": [
            "['MSSubClass', 'OverallCond', 'BsmtFinSF2', 'LowQualFinSF', 'BsmtHalfBath', 'BedroomAbvGr', 'KitchenAbvGr', 'EnclosedPorch', '3SsnPorch', 'ScreenPorch', 'PoolArea', 'MiscVal', 'MoSold', 'YrSold', 'MSZoning', 'Street', 'Alley', 'LandContour', 'LotConfig', 'LandSlope', 'Condition1', 'Condition2', 'BldgType', 'HouseStyle', 'RoofStyle', 'RoofMatl', 'Exterior1st', 'Exterior2nd', 'MasVnrType', 'ExterCond', 'BsmtCond', 'BsmtFinType1', 'BsmtFinType2', 'Heating', 'Functional', 'FireplaceQu', 'PoolQC', 'Fence', 'MiscFeature', 'SaleType']\n"
          ]
        }
      ],
      "source": [
        "print(new_features)"
      ]
    },
    {
      "cell_type": "code",
      "execution_count": 202,
      "metadata": {},
      "outputs": [
        {
          "data": {
            "text/plain": [
              "numpy.ndarray"
            ]
          },
          "execution_count": 202,
          "metadata": {},
          "output_type": "execute_result"
        }
      ],
      "source": [
        "type(fs.scores_)"
      ]
    },
    {
      "cell_type": "code",
      "execution_count": 203,
      "metadata": {},
      "outputs": [
        {
          "ename": "KeyError",
          "evalue": "\"['MSSubClass' 'OverallCond' 'BsmtFinSF2' 'LowQualFinSF' 'BsmtHalfBath'\\n 'BedroomAbvGr' 'KitchenAbvGr' 'EnclosedPorch' '3SsnPorch' 'ScreenPorch'\\n 'PoolArea' 'MiscVal' 'MoSold' 'YrSold' 'MSZoning' 'Street' 'Alley'\\n 'LandContour' 'LotConfig' 'LandSlope' 'Condition1' 'Condition2'\\n 'BldgType' 'HouseStyle' 'RoofStyle' 'RoofMatl' 'Exterior1st'\\n 'Exterior2nd' 'MasVnrType' 'ExterCond' 'BsmtCond' 'BsmtFinType1'\\n 'BsmtFinType2' 'Heating' 'Functional' 'FireplaceQu' 'PoolQC' 'Fence'\\n 'MiscFeature' 'SaleType'] not found in axis\"",
          "output_type": "error",
          "traceback": [
            "\u001b[1;31m---------------------------------------------------------------------------\u001b[0m",
            "\u001b[1;31mKeyError\u001b[0m                                  Traceback (most recent call last)",
            "\u001b[1;32m<ipython-input-203-118e0a303e31>\u001b[0m in \u001b[0;36m<module>\u001b[1;34m\u001b[0m\n\u001b[1;32m----> 1\u001b[1;33m \u001b[0mfeatures\u001b[0m \u001b[1;33m=\u001b[0m \u001b[0mfeatures\u001b[0m\u001b[1;33m.\u001b[0m\u001b[0mdrop\u001b[0m\u001b[1;33m(\u001b[0m\u001b[0mnew_features\u001b[0m\u001b[1;33m,\u001b[0m \u001b[0maxis\u001b[0m\u001b[1;33m=\u001b[0m\u001b[1;36m1\u001b[0m\u001b[1;33m)\u001b[0m\u001b[1;33m\u001b[0m\u001b[1;33m\u001b[0m\u001b[0m\n\u001b[0m",
            "\u001b[1;32mc:\\Users\\User\\AppData\\Local\\Programs\\Python\\Python39\\lib\\site-packages\\pandas\\core\\frame.py\u001b[0m in \u001b[0;36mdrop\u001b[1;34m(self, labels, axis, index, columns, level, inplace, errors)\u001b[0m\n\u001b[0;32m   4303\u001b[0m                 \u001b[0mweight\u001b[0m  \u001b[1;36m1.0\u001b[0m     \u001b[1;36m0.8\u001b[0m\u001b[1;33m\u001b[0m\u001b[1;33m\u001b[0m\u001b[0m\n\u001b[0;32m   4304\u001b[0m         \"\"\"\n\u001b[1;32m-> 4305\u001b[1;33m         return super().drop(\n\u001b[0m\u001b[0;32m   4306\u001b[0m             \u001b[0mlabels\u001b[0m\u001b[1;33m=\u001b[0m\u001b[0mlabels\u001b[0m\u001b[1;33m,\u001b[0m\u001b[1;33m\u001b[0m\u001b[1;33m\u001b[0m\u001b[0m\n\u001b[0;32m   4307\u001b[0m             \u001b[0maxis\u001b[0m\u001b[1;33m=\u001b[0m\u001b[0maxis\u001b[0m\u001b[1;33m,\u001b[0m\u001b[1;33m\u001b[0m\u001b[1;33m\u001b[0m\u001b[0m\n",
            "\u001b[1;32mc:\\Users\\User\\AppData\\Local\\Programs\\Python\\Python39\\lib\\site-packages\\pandas\\core\\generic.py\u001b[0m in \u001b[0;36mdrop\u001b[1;34m(self, labels, axis, index, columns, level, inplace, errors)\u001b[0m\n\u001b[0;32m   4150\u001b[0m         \u001b[1;32mfor\u001b[0m \u001b[0maxis\u001b[0m\u001b[1;33m,\u001b[0m \u001b[0mlabels\u001b[0m \u001b[1;32min\u001b[0m \u001b[0maxes\u001b[0m\u001b[1;33m.\u001b[0m\u001b[0mitems\u001b[0m\u001b[1;33m(\u001b[0m\u001b[1;33m)\u001b[0m\u001b[1;33m:\u001b[0m\u001b[1;33m\u001b[0m\u001b[1;33m\u001b[0m\u001b[0m\n\u001b[0;32m   4151\u001b[0m             \u001b[1;32mif\u001b[0m \u001b[0mlabels\u001b[0m \u001b[1;32mis\u001b[0m \u001b[1;32mnot\u001b[0m \u001b[1;32mNone\u001b[0m\u001b[1;33m:\u001b[0m\u001b[1;33m\u001b[0m\u001b[1;33m\u001b[0m\u001b[0m\n\u001b[1;32m-> 4152\u001b[1;33m                 \u001b[0mobj\u001b[0m \u001b[1;33m=\u001b[0m \u001b[0mobj\u001b[0m\u001b[1;33m.\u001b[0m\u001b[0m_drop_axis\u001b[0m\u001b[1;33m(\u001b[0m\u001b[0mlabels\u001b[0m\u001b[1;33m,\u001b[0m \u001b[0maxis\u001b[0m\u001b[1;33m,\u001b[0m \u001b[0mlevel\u001b[0m\u001b[1;33m=\u001b[0m\u001b[0mlevel\u001b[0m\u001b[1;33m,\u001b[0m \u001b[0merrors\u001b[0m\u001b[1;33m=\u001b[0m\u001b[0merrors\u001b[0m\u001b[1;33m)\u001b[0m\u001b[1;33m\u001b[0m\u001b[1;33m\u001b[0m\u001b[0m\n\u001b[0m\u001b[0;32m   4153\u001b[0m \u001b[1;33m\u001b[0m\u001b[0m\n\u001b[0;32m   4154\u001b[0m         \u001b[1;32mif\u001b[0m \u001b[0minplace\u001b[0m\u001b[1;33m:\u001b[0m\u001b[1;33m\u001b[0m\u001b[1;33m\u001b[0m\u001b[0m\n",
            "\u001b[1;32mc:\\Users\\User\\AppData\\Local\\Programs\\Python\\Python39\\lib\\site-packages\\pandas\\core\\generic.py\u001b[0m in \u001b[0;36m_drop_axis\u001b[1;34m(self, labels, axis, level, errors)\u001b[0m\n\u001b[0;32m   4185\u001b[0m                 \u001b[0mnew_axis\u001b[0m \u001b[1;33m=\u001b[0m \u001b[0maxis\u001b[0m\u001b[1;33m.\u001b[0m\u001b[0mdrop\u001b[0m\u001b[1;33m(\u001b[0m\u001b[0mlabels\u001b[0m\u001b[1;33m,\u001b[0m \u001b[0mlevel\u001b[0m\u001b[1;33m=\u001b[0m\u001b[0mlevel\u001b[0m\u001b[1;33m,\u001b[0m \u001b[0merrors\u001b[0m\u001b[1;33m=\u001b[0m\u001b[0merrors\u001b[0m\u001b[1;33m)\u001b[0m\u001b[1;33m\u001b[0m\u001b[1;33m\u001b[0m\u001b[0m\n\u001b[0;32m   4186\u001b[0m             \u001b[1;32melse\u001b[0m\u001b[1;33m:\u001b[0m\u001b[1;33m\u001b[0m\u001b[1;33m\u001b[0m\u001b[0m\n\u001b[1;32m-> 4187\u001b[1;33m                 \u001b[0mnew_axis\u001b[0m \u001b[1;33m=\u001b[0m \u001b[0maxis\u001b[0m\u001b[1;33m.\u001b[0m\u001b[0mdrop\u001b[0m\u001b[1;33m(\u001b[0m\u001b[0mlabels\u001b[0m\u001b[1;33m,\u001b[0m \u001b[0merrors\u001b[0m\u001b[1;33m=\u001b[0m\u001b[0merrors\u001b[0m\u001b[1;33m)\u001b[0m\u001b[1;33m\u001b[0m\u001b[1;33m\u001b[0m\u001b[0m\n\u001b[0m\u001b[0;32m   4188\u001b[0m             \u001b[0mresult\u001b[0m \u001b[1;33m=\u001b[0m \u001b[0mself\u001b[0m\u001b[1;33m.\u001b[0m\u001b[0mreindex\u001b[0m\u001b[1;33m(\u001b[0m\u001b[1;33m**\u001b[0m\u001b[1;33m{\u001b[0m\u001b[0maxis_name\u001b[0m\u001b[1;33m:\u001b[0m \u001b[0mnew_axis\u001b[0m\u001b[1;33m}\u001b[0m\u001b[1;33m)\u001b[0m\u001b[1;33m\u001b[0m\u001b[1;33m\u001b[0m\u001b[0m\n\u001b[0;32m   4189\u001b[0m \u001b[1;33m\u001b[0m\u001b[0m\n",
            "\u001b[1;32mc:\\Users\\User\\AppData\\Local\\Programs\\Python\\Python39\\lib\\site-packages\\pandas\\core\\indexes\\base.py\u001b[0m in \u001b[0;36mdrop\u001b[1;34m(self, labels, errors)\u001b[0m\n\u001b[0;32m   5589\u001b[0m         \u001b[1;32mif\u001b[0m \u001b[0mmask\u001b[0m\u001b[1;33m.\u001b[0m\u001b[0many\u001b[0m\u001b[1;33m(\u001b[0m\u001b[1;33m)\u001b[0m\u001b[1;33m:\u001b[0m\u001b[1;33m\u001b[0m\u001b[1;33m\u001b[0m\u001b[0m\n\u001b[0;32m   5590\u001b[0m             \u001b[1;32mif\u001b[0m \u001b[0merrors\u001b[0m \u001b[1;33m!=\u001b[0m \u001b[1;34m\"ignore\"\u001b[0m\u001b[1;33m:\u001b[0m\u001b[1;33m\u001b[0m\u001b[1;33m\u001b[0m\u001b[0m\n\u001b[1;32m-> 5591\u001b[1;33m                 \u001b[1;32mraise\u001b[0m \u001b[0mKeyError\u001b[0m\u001b[1;33m(\u001b[0m\u001b[1;34mf\"{labels[mask]} not found in axis\"\u001b[0m\u001b[1;33m)\u001b[0m\u001b[1;33m\u001b[0m\u001b[1;33m\u001b[0m\u001b[0m\n\u001b[0m\u001b[0;32m   5592\u001b[0m             \u001b[0mindexer\u001b[0m \u001b[1;33m=\u001b[0m \u001b[0mindexer\u001b[0m\u001b[1;33m[\u001b[0m\u001b[1;33m~\u001b[0m\u001b[0mmask\u001b[0m\u001b[1;33m]\u001b[0m\u001b[1;33m\u001b[0m\u001b[1;33m\u001b[0m\u001b[0m\n\u001b[0;32m   5593\u001b[0m         \u001b[1;32mreturn\u001b[0m \u001b[0mself\u001b[0m\u001b[1;33m.\u001b[0m\u001b[0mdelete\u001b[0m\u001b[1;33m(\u001b[0m\u001b[0mindexer\u001b[0m\u001b[1;33m)\u001b[0m\u001b[1;33m\u001b[0m\u001b[1;33m\u001b[0m\u001b[0m\n",
            "\u001b[1;31mKeyError\u001b[0m: \"['MSSubClass' 'OverallCond' 'BsmtFinSF2' 'LowQualFinSF' 'BsmtHalfBath'\\n 'BedroomAbvGr' 'KitchenAbvGr' 'EnclosedPorch' '3SsnPorch' 'ScreenPorch'\\n 'PoolArea' 'MiscVal' 'MoSold' 'YrSold' 'MSZoning' 'Street' 'Alley'\\n 'LandContour' 'LotConfig' 'LandSlope' 'Condition1' 'Condition2'\\n 'BldgType' 'HouseStyle' 'RoofStyle' 'RoofMatl' 'Exterior1st'\\n 'Exterior2nd' 'MasVnrType' 'ExterCond' 'BsmtCond' 'BsmtFinType1'\\n 'BsmtFinType2' 'Heating' 'Functional' 'FireplaceQu' 'PoolQC' 'Fence'\\n 'MiscFeature' 'SaleType'] not found in axis\""
          ]
        }
      ],
      "source": [
        "features = features.drop(new_features, axis=1)"
      ]
    },
    {
      "cell_type": "code",
      "execution_count": 204,
      "metadata": {},
      "outputs": [],
      "source": [
        "final_features = features"
      ]
    },
    {
      "cell_type": "code",
      "execution_count": 205,
      "metadata": {},
      "outputs": [
        {
          "data": {
            "text/plain": [
              "(1460, 39)"
            ]
          },
          "execution_count": 205,
          "metadata": {},
          "output_type": "execute_result"
        }
      ],
      "source": [
        "final_features.shape"
      ]
    },
    {
      "cell_type": "markdown",
      "metadata": {},
      "source": [
        "### Splitting the data after dimesionality reduction"
      ]
    },
    {
      "cell_type": "code",
      "execution_count": 206,
      "metadata": {},
      "outputs": [],
      "source": [
        "from sklearn.model_selection import train_test_split\n",
        "x_train,x_test,y_train,y_test = train_test_split(final_features,target,train_size=0.75,random_state = 25)"
      ]
    },
    {
      "cell_type": "code",
      "execution_count": 207,
      "metadata": {},
      "outputs": [
        {
          "name": "stdout",
          "output_type": "stream",
          "text": [
            "(1095, 1)\n",
            "(365, 39)\n",
            "(365, 1)\n",
            "(1095, 39)\n"
          ]
        }
      ],
      "source": [
        "print(y_train.shape)\n",
        "print(x_test.shape)\n",
        "print(y_test.shape)\n",
        "print(x_train.shape)"
      ]
    },
    {
      "cell_type": "markdown",
      "metadata": {},
      "source": [
        "## Model Building"
      ]
    },
    {
      "cell_type": "code",
      "execution_count": 1,
      "metadata": {
        "colab": {
          "base_uri": "https://localhost:8080/"
        },
        "id": "cXgFQYkuXhMw",
        "outputId": "00cf0ace-b1d2-4ee1-a5eb-ef692ad81e4b"
      },
      "outputs": [],
      "source": [
        "from sklearn.linear_model import LinearRegression\n",
        "from sklearn.ensemble import RandomForestRegressor\n",
        "from sklearn.tree import DecisionTreeRegressor\n",
        "from sklearn.neighbors import KNeighborsRegressor\n",
        "from xgboost.sklearn import XGBRegressor\n",
        "from sklearn.linear_model import Ridge\n",
        "from sklearn.linear_model import Lasso\n",
        "from sklearn.metrics import r2_score\n"
      ]
    },
    {
      "cell_type": "markdown",
      "metadata": {},
      "source": [
        "### Linear Regression"
      ]
    },
    {
      "cell_type": "code",
      "execution_count": 232,
      "metadata": {},
      "outputs": [
        {
          "name": "stdout",
          "output_type": "stream",
          "text": [
            "0.8145713544817026\n"
          ]
        }
      ],
      "source": [
        "lr_model = LinearRegression()\n",
        "lr_model.fit(x_train, y_train)\n",
        "predictions = lr_model.predict(x_test)\n",
        "r_squared_value = r2_score(y_test, predictions)\n",
        "print(r_squared_value)"
      ]
    },
    {
      "cell_type": "markdown",
      "metadata": {},
      "source": [
        "### Random Forest Regressor"
      ]
    },
    {
      "cell_type": "code",
      "execution_count": 244,
      "metadata": {
        "id": "ZAzhpRAeYBnh"
      },
      "outputs": [
        {
          "name": "stderr",
          "output_type": "stream",
          "text": [
            "<ipython-input-244-9c254bc7c59a>:2: DataConversionWarning: A column-vector y was passed when a 1d array was expected. Please change the shape of y to (n_samples,), for example using ravel().\n",
            "  rf_model.fit(x_train, y_train)\n"
          ]
        },
        {
          "name": "stdout",
          "output_type": "stream",
          "text": [
            "0.8316601313160287\n"
          ]
        }
      ],
      "source": [
        "rf_model = RandomForestRegressor()\n",
        "rf_model.fit(x_train, y_train)\n",
        "predictions = rf_model.predict(x_test)\n",
        "r_squared_value = r2_score(y_test, predictions)\n",
        "print(r_squared_value)"
      ]
    },
    {
      "cell_type": "markdown",
      "metadata": {},
      "source": [
        "### Decision Tree Regressor"
      ]
    },
    {
      "cell_type": "code",
      "execution_count": 245,
      "metadata": {},
      "outputs": [
        {
          "name": "stdout",
          "output_type": "stream",
          "text": [
            "0.6694610366165071\n"
          ]
        }
      ],
      "source": [
        "dt_model = DecisionTreeRegressor()\n",
        "dt_model.fit(x_train, y_train)\n",
        "predictions = dt_model.predict(x_test)\n",
        "r_squared_value = r2_score(y_test, predictions)\n",
        "print(r_squared_value)"
      ]
    },
    {
      "cell_type": "markdown",
      "metadata": {},
      "source": [
        "### KNN"
      ]
    },
    {
      "cell_type": "code",
      "execution_count": 246,
      "metadata": {},
      "outputs": [
        {
          "name": "stdout",
          "output_type": "stream",
          "text": [
            "0.5914064419950815\n"
          ]
        }
      ],
      "source": [
        "knn_model = KNeighborsRegressor()\n",
        "knn_model.fit(x_train,y_train)\n",
        "predictions = knn_model.predict(x_test)\n",
        "r_squared_value = r2_score(y_test, predictions)\n",
        "print(r_squared_value)"
      ]
    },
    {
      "cell_type": "markdown",
      "metadata": {},
      "source": [
        "### XGBoosstRegressor"
      ]
    },
    {
      "cell_type": "code",
      "execution_count": 248,
      "metadata": {},
      "outputs": [
        {
          "name": "stdout",
          "output_type": "stream",
          "text": [
            "0.8164055720893414\n"
          ]
        }
      ],
      "source": [
        "xgb_model = XGBRegressor()\n",
        "xgb_model.fit(x_train,y_train)\n",
        "predictions = xgb_model.predict(x_test)\n",
        "r_squared_value = r2_score(y_test, predictions)\n",
        "print(r_squared_value)"
      ]
    },
    {
      "cell_type": "markdown",
      "metadata": {},
      "source": [
        "### Ridge"
      ]
    },
    {
      "cell_type": "code",
      "execution_count": 249,
      "metadata": {},
      "outputs": [
        {
          "name": "stdout",
          "output_type": "stream",
          "text": [
            "0.8146756879209871\n"
          ]
        }
      ],
      "source": [
        "rid_model = Ridge(alpha=1.0)\n",
        "rid_model.fit(x_train,y_train)\n",
        "predictions = rid_model.predict(x_test)\n",
        "r_squared_value = r2_score(y_test, predictions)\n",
        "print(r_squared_value)"
      ]
    },
    {
      "cell_type": "markdown",
      "metadata": {},
      "source": [
        "### Lasso"
      ]
    },
    {
      "cell_type": "code",
      "execution_count": 250,
      "metadata": {},
      "outputs": [
        {
          "name": "stdout",
          "output_type": "stream",
          "text": [
            "0.814619187078333\n"
          ]
        },
        {
          "name": "stderr",
          "output_type": "stream",
          "text": [
            "c:\\Users\\User\\AppData\\Local\\Programs\\Python\\Python39\\lib\\site-packages\\sklearn\\linear_model\\_coordinate_descent.py:530: ConvergenceWarning: Objective did not converge. You might want to increase the number of iterations. Duality gap: 570871286395.1753, tolerance: 628016723.6936531\n",
            "  model = cd_fast.enet_coordinate_descent(\n"
          ]
        }
      ],
      "source": [
        "las_model = Lasso(alpha=1.0, max_iter=500)\n",
        "las_model.fit(x_train,y_train)\n",
        "predictions = las_model.predict(x_test)\n",
        "r_squared_value = r2_score(y_test, predictions)\n",
        "print(r_squared_value)"
      ]
    }
  ],
  "metadata": {
    "colab": {
      "collapsed_sections": [],
      "name": "EDA_House_Prices.ipynb",
      "provenance": []
    },
    "kernelspec": {
      "display_name": "Python 3.9.1 64-bit",
      "language": "python",
      "name": "python3"
    },
    "language_info": {
      "codemirror_mode": {
        "name": "ipython",
        "version": 3
      },
      "file_extension": ".py",
      "mimetype": "text/x-python",
      "name": "python",
      "nbconvert_exporter": "python",
      "pygments_lexer": "ipython3",
      "version": "3.9.1"
    },
    "vscode": {
      "interpreter": {
        "hash": "cf92aa13fedf815d5c8dd192b8d835913fde3e8bc926b2a0ad6cc74ef2ba3ca2"
      }
    }
  },
  "nbformat": 4,
  "nbformat_minor": 0
}
