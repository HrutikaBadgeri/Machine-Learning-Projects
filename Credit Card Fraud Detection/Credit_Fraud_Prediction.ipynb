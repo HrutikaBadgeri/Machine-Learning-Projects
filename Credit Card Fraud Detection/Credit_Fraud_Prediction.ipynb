{
  "nbformat": 4,
  "nbformat_minor": 0,
  "metadata": {
    "colab": {
      "name": "Credit_Fraud_Prediction.ipynb",
      "provenance": [],
      "collapsed_sections": []
    },
    "kernelspec": {
      "name": "python3",
      "display_name": "Python 3"
    },
    "language_info": {
      "name": "python"
    }
  },
  "cells": [
    {
      "cell_type": "code",
      "metadata": {
        "id": "YdOt8d-WeIgC"
      },
      "source": [
        "import pandas as pd"
      ],
      "execution_count": null,
      "outputs": []
    },
    {
      "cell_type": "code",
      "metadata": {
        "id": "VzvH0I-jqh2R"
      },
      "source": [
        "data = pd.read_csv(\"/content/creditcard.csv\")"
      ],
      "execution_count": null,
      "outputs": []
    },
    {
      "cell_type": "code",
      "metadata": {
        "colab": {
          "base_uri": "https://localhost:8080/"
        },
        "id": "_QhVopTcqmwA",
        "outputId": "e3906b39-627f-42f4-a263-153ae53dcde3"
      },
      "source": [
        "data.shape"
      ],
      "execution_count": null,
      "outputs": [
        {
          "output_type": "execute_result",
          "data": {
            "text/plain": [
              "(284807, 31)"
            ]
          },
          "metadata": {
            "tags": []
          },
          "execution_count": 127
        }
      ]
    },
    {
      "cell_type": "code",
      "metadata": {
        "colab": {
          "base_uri": "https://localhost:8080/",
          "height": 214
        },
        "id": "z2qICpvCqqfq",
        "outputId": "db97fb5c-f7eb-4064-c1b8-f8cca2d65fb9"
      },
      "source": [
        "data.head()"
      ],
      "execution_count": null,
      "outputs": [
        {
          "output_type": "execute_result",
          "data": {
            "text/html": [
              "<div>\n",
              "<style scoped>\n",
              "    .dataframe tbody tr th:only-of-type {\n",
              "        vertical-align: middle;\n",
              "    }\n",
              "\n",
              "    .dataframe tbody tr th {\n",
              "        vertical-align: top;\n",
              "    }\n",
              "\n",
              "    .dataframe thead th {\n",
              "        text-align: right;\n",
              "    }\n",
              "</style>\n",
              "<table border=\"1\" class=\"dataframe\">\n",
              "  <thead>\n",
              "    <tr style=\"text-align: right;\">\n",
              "      <th></th>\n",
              "      <th>Time</th>\n",
              "      <th>V1</th>\n",
              "      <th>V2</th>\n",
              "      <th>V3</th>\n",
              "      <th>V4</th>\n",
              "      <th>V5</th>\n",
              "      <th>V6</th>\n",
              "      <th>V7</th>\n",
              "      <th>V8</th>\n",
              "      <th>V9</th>\n",
              "      <th>V10</th>\n",
              "      <th>V11</th>\n",
              "      <th>V12</th>\n",
              "      <th>V13</th>\n",
              "      <th>V14</th>\n",
              "      <th>V15</th>\n",
              "      <th>V16</th>\n",
              "      <th>V17</th>\n",
              "      <th>V18</th>\n",
              "      <th>V19</th>\n",
              "      <th>V20</th>\n",
              "      <th>V21</th>\n",
              "      <th>V22</th>\n",
              "      <th>V23</th>\n",
              "      <th>V24</th>\n",
              "      <th>V25</th>\n",
              "      <th>V26</th>\n",
              "      <th>V27</th>\n",
              "      <th>V28</th>\n",
              "      <th>Amount</th>\n",
              "      <th>Class</th>\n",
              "    </tr>\n",
              "  </thead>\n",
              "  <tbody>\n",
              "    <tr>\n",
              "      <th>0</th>\n",
              "      <td>0.0</td>\n",
              "      <td>-1.359807</td>\n",
              "      <td>-0.072781</td>\n",
              "      <td>2.536347</td>\n",
              "      <td>1.378155</td>\n",
              "      <td>-0.338321</td>\n",
              "      <td>0.462388</td>\n",
              "      <td>0.239599</td>\n",
              "      <td>0.098698</td>\n",
              "      <td>0.363787</td>\n",
              "      <td>0.090794</td>\n",
              "      <td>-0.551600</td>\n",
              "      <td>-0.617801</td>\n",
              "      <td>-0.991390</td>\n",
              "      <td>-0.311169</td>\n",
              "      <td>1.468177</td>\n",
              "      <td>-0.470401</td>\n",
              "      <td>0.207971</td>\n",
              "      <td>0.025791</td>\n",
              "      <td>0.403993</td>\n",
              "      <td>0.251412</td>\n",
              "      <td>-0.018307</td>\n",
              "      <td>0.277838</td>\n",
              "      <td>-0.110474</td>\n",
              "      <td>0.066928</td>\n",
              "      <td>0.128539</td>\n",
              "      <td>-0.189115</td>\n",
              "      <td>0.133558</td>\n",
              "      <td>-0.021053</td>\n",
              "      <td>149.62</td>\n",
              "      <td>0</td>\n",
              "    </tr>\n",
              "    <tr>\n",
              "      <th>1</th>\n",
              "      <td>0.0</td>\n",
              "      <td>1.191857</td>\n",
              "      <td>0.266151</td>\n",
              "      <td>0.166480</td>\n",
              "      <td>0.448154</td>\n",
              "      <td>0.060018</td>\n",
              "      <td>-0.082361</td>\n",
              "      <td>-0.078803</td>\n",
              "      <td>0.085102</td>\n",
              "      <td>-0.255425</td>\n",
              "      <td>-0.166974</td>\n",
              "      <td>1.612727</td>\n",
              "      <td>1.065235</td>\n",
              "      <td>0.489095</td>\n",
              "      <td>-0.143772</td>\n",
              "      <td>0.635558</td>\n",
              "      <td>0.463917</td>\n",
              "      <td>-0.114805</td>\n",
              "      <td>-0.183361</td>\n",
              "      <td>-0.145783</td>\n",
              "      <td>-0.069083</td>\n",
              "      <td>-0.225775</td>\n",
              "      <td>-0.638672</td>\n",
              "      <td>0.101288</td>\n",
              "      <td>-0.339846</td>\n",
              "      <td>0.167170</td>\n",
              "      <td>0.125895</td>\n",
              "      <td>-0.008983</td>\n",
              "      <td>0.014724</td>\n",
              "      <td>2.69</td>\n",
              "      <td>0</td>\n",
              "    </tr>\n",
              "    <tr>\n",
              "      <th>2</th>\n",
              "      <td>1.0</td>\n",
              "      <td>-1.358354</td>\n",
              "      <td>-1.340163</td>\n",
              "      <td>1.773209</td>\n",
              "      <td>0.379780</td>\n",
              "      <td>-0.503198</td>\n",
              "      <td>1.800499</td>\n",
              "      <td>0.791461</td>\n",
              "      <td>0.247676</td>\n",
              "      <td>-1.514654</td>\n",
              "      <td>0.207643</td>\n",
              "      <td>0.624501</td>\n",
              "      <td>0.066084</td>\n",
              "      <td>0.717293</td>\n",
              "      <td>-0.165946</td>\n",
              "      <td>2.345865</td>\n",
              "      <td>-2.890083</td>\n",
              "      <td>1.109969</td>\n",
              "      <td>-0.121359</td>\n",
              "      <td>-2.261857</td>\n",
              "      <td>0.524980</td>\n",
              "      <td>0.247998</td>\n",
              "      <td>0.771679</td>\n",
              "      <td>0.909412</td>\n",
              "      <td>-0.689281</td>\n",
              "      <td>-0.327642</td>\n",
              "      <td>-0.139097</td>\n",
              "      <td>-0.055353</td>\n",
              "      <td>-0.059752</td>\n",
              "      <td>378.66</td>\n",
              "      <td>0</td>\n",
              "    </tr>\n",
              "    <tr>\n",
              "      <th>3</th>\n",
              "      <td>1.0</td>\n",
              "      <td>-0.966272</td>\n",
              "      <td>-0.185226</td>\n",
              "      <td>1.792993</td>\n",
              "      <td>-0.863291</td>\n",
              "      <td>-0.010309</td>\n",
              "      <td>1.247203</td>\n",
              "      <td>0.237609</td>\n",
              "      <td>0.377436</td>\n",
              "      <td>-1.387024</td>\n",
              "      <td>-0.054952</td>\n",
              "      <td>-0.226487</td>\n",
              "      <td>0.178228</td>\n",
              "      <td>0.507757</td>\n",
              "      <td>-0.287924</td>\n",
              "      <td>-0.631418</td>\n",
              "      <td>-1.059647</td>\n",
              "      <td>-0.684093</td>\n",
              "      <td>1.965775</td>\n",
              "      <td>-1.232622</td>\n",
              "      <td>-0.208038</td>\n",
              "      <td>-0.108300</td>\n",
              "      <td>0.005274</td>\n",
              "      <td>-0.190321</td>\n",
              "      <td>-1.175575</td>\n",
              "      <td>0.647376</td>\n",
              "      <td>-0.221929</td>\n",
              "      <td>0.062723</td>\n",
              "      <td>0.061458</td>\n",
              "      <td>123.50</td>\n",
              "      <td>0</td>\n",
              "    </tr>\n",
              "    <tr>\n",
              "      <th>4</th>\n",
              "      <td>2.0</td>\n",
              "      <td>-1.158233</td>\n",
              "      <td>0.877737</td>\n",
              "      <td>1.548718</td>\n",
              "      <td>0.403034</td>\n",
              "      <td>-0.407193</td>\n",
              "      <td>0.095921</td>\n",
              "      <td>0.592941</td>\n",
              "      <td>-0.270533</td>\n",
              "      <td>0.817739</td>\n",
              "      <td>0.753074</td>\n",
              "      <td>-0.822843</td>\n",
              "      <td>0.538196</td>\n",
              "      <td>1.345852</td>\n",
              "      <td>-1.119670</td>\n",
              "      <td>0.175121</td>\n",
              "      <td>-0.451449</td>\n",
              "      <td>-0.237033</td>\n",
              "      <td>-0.038195</td>\n",
              "      <td>0.803487</td>\n",
              "      <td>0.408542</td>\n",
              "      <td>-0.009431</td>\n",
              "      <td>0.798278</td>\n",
              "      <td>-0.137458</td>\n",
              "      <td>0.141267</td>\n",
              "      <td>-0.206010</td>\n",
              "      <td>0.502292</td>\n",
              "      <td>0.219422</td>\n",
              "      <td>0.215153</td>\n",
              "      <td>69.99</td>\n",
              "      <td>0</td>\n",
              "    </tr>\n",
              "  </tbody>\n",
              "</table>\n",
              "</div>"
            ],
            "text/plain": [
              "   Time        V1        V2        V3  ...       V27       V28  Amount  Class\n",
              "0   0.0 -1.359807 -0.072781  2.536347  ...  0.133558 -0.021053  149.62      0\n",
              "1   0.0  1.191857  0.266151  0.166480  ... -0.008983  0.014724    2.69      0\n",
              "2   1.0 -1.358354 -1.340163  1.773209  ... -0.055353 -0.059752  378.66      0\n",
              "3   1.0 -0.966272 -0.185226  1.792993  ...  0.062723  0.061458  123.50      0\n",
              "4   2.0 -1.158233  0.877737  1.548718  ...  0.219422  0.215153   69.99      0\n",
              "\n",
              "[5 rows x 31 columns]"
            ]
          },
          "metadata": {
            "tags": []
          },
          "execution_count": 128
        }
      ]
    },
    {
      "cell_type": "code",
      "metadata": {
        "colab": {
          "base_uri": "https://localhost:8080/"
        },
        "id": "8QT_hwLTvcm1",
        "outputId": "9af7446b-af55-45b8-df87-9cc27ebd3675"
      },
      "source": [
        "data.columns"
      ],
      "execution_count": null,
      "outputs": [
        {
          "output_type": "execute_result",
          "data": {
            "text/plain": [
              "Index(['Time', 'V1', 'V2', 'V3', 'V4', 'V5', 'V6', 'V7', 'V8', 'V9', 'V10',\n",
              "       'V11', 'V12', 'V13', 'V14', 'V15', 'V16', 'V17', 'V18', 'V19', 'V20',\n",
              "       'V21', 'V22', 'V23', 'V24', 'V25', 'V26', 'V27', 'V28', 'Amount',\n",
              "       'Class'],\n",
              "      dtype='object')"
            ]
          },
          "metadata": {
            "tags": []
          },
          "execution_count": 129
        }
      ]
    },
    {
      "cell_type": "code",
      "metadata": {
        "id": "RxiOg8vlwN9F",
        "colab": {
          "base_uri": "https://localhost:8080/"
        },
        "outputId": "6bdb7e74-a996-432f-da82-f1a60e1218c4"
      },
      "source": [
        "data.info()"
      ],
      "execution_count": null,
      "outputs": [
        {
          "output_type": "stream",
          "text": [
            "<class 'pandas.core.frame.DataFrame'>\n",
            "RangeIndex: 284807 entries, 0 to 284806\n",
            "Data columns (total 31 columns):\n",
            " #   Column  Non-Null Count   Dtype  \n",
            "---  ------  --------------   -----  \n",
            " 0   Time    284807 non-null  float64\n",
            " 1   V1      284807 non-null  float64\n",
            " 2   V2      284807 non-null  float64\n",
            " 3   V3      284807 non-null  float64\n",
            " 4   V4      284807 non-null  float64\n",
            " 5   V5      284807 non-null  float64\n",
            " 6   V6      284807 non-null  float64\n",
            " 7   V7      284807 non-null  float64\n",
            " 8   V8      284807 non-null  float64\n",
            " 9   V9      284807 non-null  float64\n",
            " 10  V10     284807 non-null  float64\n",
            " 11  V11     284807 non-null  float64\n",
            " 12  V12     284807 non-null  float64\n",
            " 13  V13     284807 non-null  float64\n",
            " 14  V14     284807 non-null  float64\n",
            " 15  V15     284807 non-null  float64\n",
            " 16  V16     284807 non-null  float64\n",
            " 17  V17     284807 non-null  float64\n",
            " 18  V18     284807 non-null  float64\n",
            " 19  V19     284807 non-null  float64\n",
            " 20  V20     284807 non-null  float64\n",
            " 21  V21     284807 non-null  float64\n",
            " 22  V22     284807 non-null  float64\n",
            " 23  V23     284807 non-null  float64\n",
            " 24  V24     284807 non-null  float64\n",
            " 25  V25     284807 non-null  float64\n",
            " 26  V26     284807 non-null  float64\n",
            " 27  V27     284807 non-null  float64\n",
            " 28  V28     284807 non-null  float64\n",
            " 29  Amount  284807 non-null  float64\n",
            " 30  Class   284807 non-null  int64  \n",
            "dtypes: float64(30), int64(1)\n",
            "memory usage: 67.4 MB\n"
          ],
          "name": "stdout"
        }
      ]
    },
    {
      "cell_type": "code",
      "metadata": {
        "colab": {
          "base_uri": "https://localhost:8080/"
        },
        "id": "Z5AzWu3GyPpn",
        "outputId": "50e89010-a499-43af-8052-835e27937bb7"
      },
      "source": [
        "data.isnull().values.any()"
      ],
      "execution_count": null,
      "outputs": [
        {
          "output_type": "execute_result",
          "data": {
            "text/plain": [
              "False"
            ]
          },
          "metadata": {
            "tags": []
          },
          "execution_count": 131
        }
      ]
    },
    {
      "cell_type": "code",
      "metadata": {
        "colab": {
          "base_uri": "https://localhost:8080/"
        },
        "id": "I9YjQxh2mUcd",
        "outputId": "aefe4e5a-a068-40bb-db08-a3ad652b2a09"
      },
      "source": [
        "print(data.describe())"
      ],
      "execution_count": null,
      "outputs": [
        {
          "output_type": "stream",
          "text": [
            "                Time            V1  ...         Amount          Class\n",
            "count  284807.000000  2.848070e+05  ...  284807.000000  284807.000000\n",
            "mean    94813.859575  3.919560e-15  ...      88.349619       0.001727\n",
            "std     47488.145955  1.958696e+00  ...     250.120109       0.041527\n",
            "min         0.000000 -5.640751e+01  ...       0.000000       0.000000\n",
            "25%     54201.500000 -9.203734e-01  ...       5.600000       0.000000\n",
            "50%     84692.000000  1.810880e-02  ...      22.000000       0.000000\n",
            "75%    139320.500000  1.315642e+00  ...      77.165000       0.000000\n",
            "max    172792.000000  2.454930e+00  ...   25691.160000       1.000000\n",
            "\n",
            "[8 rows x 31 columns]\n"
          ],
          "name": "stdout"
        }
      ]
    },
    {
      "cell_type": "code",
      "metadata": {
        "id": "R3yF5ndgyWHl",
        "colab": {
          "base_uri": "https://localhost:8080/"
        },
        "outputId": "69c7a1ab-096a-4233-8744-183254de4816"
      },
      "source": [
        "fraud_data = data[data['Class']==1]\n",
        "normal_data = data[data['Class']==0]\n",
        "print(fraud_data.shape)\n",
        "print(normal_data.shape)"
      ],
      "execution_count": null,
      "outputs": [
        {
          "output_type": "stream",
          "text": [
            "(492, 31)\n",
            "(284315, 31)\n"
          ],
          "name": "stdout"
        }
      ]
    },
    {
      "cell_type": "code",
      "metadata": {
        "id": "CR0LQCPMnmNN",
        "colab": {
          "base_uri": "https://localhost:8080/"
        },
        "outputId": "3f60bc7f-5484-47e8-ec27-70d185ee33ef"
      },
      "source": [
        "ratio = len(fraud_data)/len(normal_data)\n",
        "print(ratio)"
      ],
      "execution_count": null,
      "outputs": [
        {
          "output_type": "stream",
          "text": [
            "0.0017304750013189597\n"
          ],
          "name": "stdout"
        }
      ]
    },
    {
      "cell_type": "code",
      "metadata": {
        "colab": {
          "base_uri": "https://localhost:8080/"
        },
        "id": "xkd0JE_AzYke",
        "outputId": "e715f25e-8249-43c7-8a87-1b8d28993e89"
      },
      "source": [
        "fraud_data.Amount.describe()"
      ],
      "execution_count": null,
      "outputs": [
        {
          "output_type": "execute_result",
          "data": {
            "text/plain": [
              "count     492.000000\n",
              "mean      122.211321\n",
              "std       256.683288\n",
              "min         0.000000\n",
              "25%         1.000000\n",
              "50%         9.250000\n",
              "75%       105.890000\n",
              "max      2125.870000\n",
              "Name: Amount, dtype: float64"
            ]
          },
          "metadata": {
            "tags": []
          },
          "execution_count": 135
        }
      ]
    },
    {
      "cell_type": "code",
      "metadata": {
        "colab": {
          "base_uri": "https://localhost:8080/"
        },
        "id": "tz8pPzHn4oOT",
        "outputId": "57cf3ab4-ff45-4fb6-808f-65dd374c4d93"
      },
      "source": [
        "normal_data.Amount.describe()"
      ],
      "execution_count": null,
      "outputs": [
        {
          "output_type": "execute_result",
          "data": {
            "text/plain": [
              "count    284315.000000\n",
              "mean         88.291022\n",
              "std         250.105092\n",
              "min           0.000000\n",
              "25%           5.650000\n",
              "50%          22.000000\n",
              "75%          77.050000\n",
              "max       25691.160000\n",
              "Name: Amount, dtype: float64"
            ]
          },
          "metadata": {
            "tags": []
          },
          "execution_count": 136
        }
      ]
    },
    {
      "cell_type": "code",
      "metadata": {
        "id": "1RIwsnIb4wFy"
      },
      "source": [
        "import seaborn as sns\n",
        "import matplotlib.pyplot as plt"
      ],
      "execution_count": null,
      "outputs": []
    },
    {
      "cell_type": "code",
      "metadata": {
        "id": "beKbTL1Dmt4-"
      },
      "source": [
        "data.hist(figsize=(20,20))\n",
        "plt.show()"
      ],
      "execution_count": null,
      "outputs": []
    },
    {
      "cell_type": "code",
      "metadata": {
        "id": "Ts2OxyXa5m-x",
        "colab": {
          "base_uri": "https://localhost:8080/",
          "height": 349
        },
        "outputId": "c57ca953-df5a-471a-b285-d6a32d28d082"
      },
      "source": [
        "fig = sns.distplot(data['Amount'], kde=False)\n",
        "plt.title(\"Distribution of Amount\")\n",
        "plt.show()"
      ],
      "execution_count": null,
      "outputs": [
        {
          "output_type": "stream",
          "text": [
            "/usr/local/lib/python3.7/dist-packages/seaborn/distributions.py:2557: FutureWarning: `distplot` is a deprecated function and will be removed in a future version. Please adapt your code to use either `displot` (a figure-level function with similar flexibility) or `histplot` (an axes-level function for histograms).\n",
            "  warnings.warn(msg, FutureWarning)\n"
          ],
          "name": "stderr"
        },
        {
          "output_type": "display_data",
          "data": {
            "image/png": "[encoded data removed]",
            "text/plain": [
              "<Figure size 432x288 with 1 Axes>"
            ]
          },
          "metadata": {
            "tags": [],
            "needs_background": "light"
          }
        }
      ]
    },
    {
      "cell_type": "code",
      "metadata": {
        "id": "tTS4Ep2x9sRj",
        "colab": {
          "base_uri": "https://localhost:8080/"
        },
        "outputId": "60dd99a0-77af-43bc-cd57-77efbbe65f97"
      },
      "source": [
        "data['Time']"
      ],
      "execution_count": null,
      "outputs": [
        {
          "output_type": "execute_result",
          "data": {
            "text/plain": [
              "0              0.0\n",
              "1              0.0\n",
              "2              1.0\n",
              "3              1.0\n",
              "4              2.0\n",
              "            ...   \n",
              "284802    172786.0\n",
              "284803    172787.0\n",
              "284804    172788.0\n",
              "284805    172788.0\n",
              "284806    172792.0\n",
              "Name: Time, Length: 284807, dtype: float64"
            ]
          },
          "metadata": {
            "tags": []
          },
          "execution_count": 140
        }
      ]
    },
    {
      "cell_type": "code",
      "metadata": {
        "id": "m80QYfuB5ojR"
      },
      "source": [
        "vars = ['Time', 'Class']\n",
        "temp_data = normal_data[vars]\n",
        "temp_data.head()"
      ],
      "execution_count": null,
      "outputs": []
    },
    {
      "cell_type": "code",
      "metadata": {
        "colab": {
          "base_uri": "https://localhost:8080/",
          "height": 296
        },
        "id": "AV-P1laF6bmV",
        "outputId": "cfae4cb2-d772-4bbb-9212-c0f185ed8420"
      },
      "source": [
        "temp_data.plot.scatter(x='Time',y='Class')"
      ],
      "execution_count": null,
      "outputs": [
        {
          "output_type": "execute_result",
          "data": {
            "text/plain": [
              "<matplotlib.axes._subplots.AxesSubplot at 0x7f94684317d0>"
            ]
          },
          "metadata": {
            "tags": []
          },
          "execution_count": 161
        },
        {
          "output_type": "display_data",
          "data": {
            "image/png": "[encoded data removed]",
            "text/plain": [
              "<Figure size 432x288 with 1 Axes>"
            ]
          },
          "metadata": {
            "tags": [],
            "needs_background": "light"
          }
        }
      ]
    },
    {
      "cell_type": "code",
      "metadata": {
        "id": "zKIWAirU7Ijo"
      },
      "source": [
        "vars = ['Time', 'Class']\n",
        "temp_data = fraud_data[vars]\n",
        "temp_data.head()"
      ],
      "execution_count": null,
      "outputs": []
    },
    {
      "cell_type": "code",
      "metadata": {
        "colab": {
          "base_uri": "https://localhost:8080/",
          "height": 296
        },
        "id": "Nztxi-mx7NVY",
        "outputId": "6d33f040-2c73-4ca4-917a-64684b805af7"
      },
      "source": [
        "temp_data.plot.scatter(x='Time',y='Class')"
      ],
      "execution_count": null,
      "outputs": [
        {
          "output_type": "execute_result",
          "data": {
            "text/plain": [
              "<matplotlib.axes._subplots.AxesSubplot at 0x7f94763e5b50>"
            ]
          },
          "metadata": {
            "tags": []
          },
          "execution_count": 162
        },
        {
          "output_type": "display_data",
          "data": {
            "image/png": "[encoded data removed]",
            "text/plain": [
              "<Figure size 432x288 with 1 Axes>"
            ]
          },
          "metadata": {
            "tags": [],
            "needs_background": "light"
          }
        }
      ]
    },
    {
      "cell_type": "code",
      "metadata": {
        "id": "GRUE2du8_Mmq"
      },
      "source": [
        "data = data.drop('Time', axis=1)"
      ],
      "execution_count": null,
      "outputs": []
    },
    {
      "cell_type": "code",
      "metadata": {
        "id": "hSgw9RSM_PcS",
        "colab": {
          "base_uri": "https://localhost:8080/"
        },
        "outputId": "c918dd66-d94c-48bd-eb4a-ada01e189cdd"
      },
      "source": [
        "data.columns"
      ],
      "execution_count": null,
      "outputs": [
        {
          "output_type": "execute_result",
          "data": {
            "text/plain": [
              "Index(['V1', 'V2', 'V3', 'V4', 'V5', 'V6', 'V7', 'V8', 'V9', 'V10', 'V11',\n",
              "       'V12', 'V13', 'V14', 'V15', 'V16', 'V17', 'V18', 'V19', 'V20', 'V21',\n",
              "       'V22', 'V23', 'V24', 'V25', 'V26', 'V27', 'V28', 'Amount', 'Class'],\n",
              "      dtype='object')"
            ]
          },
          "metadata": {
            "tags": []
          },
          "execution_count": 146
        }
      ]
    },
    {
      "cell_type": "markdown",
      "metadata": {
        "id": "LZoB25v8_ePM"
      },
      "source": [
        "# Corelation Matrix"
      ]
    },
    {
      "cell_type": "code",
      "metadata": {
        "id": "qk58Wzjj_dkg"
      },
      "source": [
        "#Checking for multicolinearity between the features\n",
        "corr_matrix = data.corr()\n",
        "fig = plt.figure(figsize = (12, 9)) \n",
        "sns.heatmap(corr_matrix, vmax = .8, square = True) \n",
        "plt.show()"
      ],
      "execution_count": null,
      "outputs": []
    },
    {
      "cell_type": "markdown",
      "metadata": {
        "id": "Meez75tsxce1"
      },
      "source": [
        "# Building the model"
      ]
    },
    {
      "cell_type": "code",
      "metadata": {
        "id": "wJVLky0yVp3l"
      },
      "source": [
        "from sklearn.model_selection import train_test_split\n",
        "import numpy as np"
      ],
      "execution_count": null,
      "outputs": []
    },
    {
      "cell_type": "code",
      "metadata": {
        "id": "ZBzEWCYLVvLU"
      },
      "source": [
        "features = data.drop('Class', axis=1)\n",
        "target = data[['Class']]"
      ],
      "execution_count": null,
      "outputs": []
    },
    {
      "cell_type": "code",
      "metadata": {
        "id": "u9Ek2va3WLv7"
      },
      "source": [
        "x_train, x_test, y_train, y_test = train_test_split(features, target, train_size=0.7,random_state=5)"
      ],
      "execution_count": null,
      "outputs": []
    },
    {
      "cell_type": "code",
      "metadata": {
        "colab": {
          "base_uri": "https://localhost:8080/"
        },
        "id": "mPn5ZJG5Yd1z",
        "outputId": "a100377e-b3db-4c82-bc16-99bedf4e01cd"
      },
      "source": [
        "print(x_train.shape)\n",
        "print(y_train.shape)\n",
        "print(x_test.shape)\n",
        "print(y_test.shape)"
      ],
      "execution_count": null,
      "outputs": [
        {
          "output_type": "stream",
          "text": [
            "(199364, 29)\n",
            "(199364, 1)\n",
            "(85443, 29)\n",
            "(85443, 1)\n"
          ],
          "name": "stdout"
        }
      ]
    },
    {
      "cell_type": "code",
      "metadata": {
        "id": "V_ptvRi2YWFW"
      },
      "source": [
        "# Oversampling Technique - (Synthetic minority oversampling technique) \n",
        "# Just the number of minority data points is increased \n",
        "# from imblearn.over_sampling import SMOTE\n",
        "# sm = SMOTE(random_state = 42)\n",
        "# x_train_new, y_train_new = sm.fit_sample(x_train, y_train.values.ravel())"
      ],
      "execution_count": null,
      "outputs": []
    },
    {
      "cell_type": "markdown",
      "metadata": {
        "id": "BaOVEqeut4sy"
      },
      "source": [
        "# Undersampling the dataset"
      ]
    },
    {
      "cell_type": "code",
      "metadata": {
        "colab": {
          "base_uri": "https://localhost:8080/"
        },
        "id": "h-0bn7TywCmp",
        "outputId": "49d7b4f3-75dd-4f09-fe7d-a5dd840da33d"
      },
      "source": [
        "class_val = data['Class'].value_counts()\n",
        "print(f\"Number of samples for each class :- \\n {class_val}\")\n",
        "non_fraud = class_val[0]\n",
        "fraud = class_val[1]"
      ],
      "execution_count": null,
      "outputs": [
        {
          "output_type": "stream",
          "text": [
            "Number of samples for each class :- \n",
            " 0    284315\n",
            "1       492\n",
            "Name: Class, dtype: int64\n"
          ],
          "name": "stdout"
        }
      ]
    },
    {
      "cell_type": "code",
      "metadata": {
        "id": "Iq1MAQiVt8zB"
      },
      "source": [
        "# equal both the target samples to the same level\n",
        "# take indexes of non fraudulent\n",
        "nonfraud_indexies = data[data.Class == 0].index\n",
        "fraud_indices = np.array(data[data['Class'] == 1].index)\n",
        "\n",
        "# take random samples from non fraudulent that are equal to fraudulent samples\n",
        "random_normal_indexies = np.random.choice(nonfraud_indexies, fraud, replace=False)\n",
        "random_normal_indexies = np.array(random_normal_indexies)"
      ],
      "execution_count": null,
      "outputs": []
    },
    {
      "cell_type": "code",
      "metadata": {
        "id": "ZU5Vi6wvwaz8"
      },
      "source": [
        "# concatenate both indices of fraud and non fraud\n",
        "under_sample_indices = np.concatenate([fraud_indices, random_normal_indexies])\n",
        "\n",
        "#extract all features from whole data for under sample indices only\n",
        "under_sample_data = data.iloc[under_sample_indices, :]\n",
        "\n",
        "# now we have to divide under sampling data to all features & target\n",
        "x_undersample_data = under_sample_data.drop(['Class'], axis=1)\n",
        "y_undersample_data = under_sample_data[['Class']]\n",
        "# now split dataset to train and test datasets as before\n",
        "x_train_sample, x_test_sample, y_train_sample, y_test_sample = \n",
        "train_test_split(x_undersample_data, y_undersample_data, train_size=0.8, random_state=0)"
      ],
      "execution_count": null,
      "outputs": []
    },
    {
      "cell_type": "markdown",
      "metadata": {
        "id": "NLcyDcMeDTFc"
      },
      "source": [
        "# Training the data"
      ]
    },
    {
      "cell_type": "code",
      "metadata": {
        "colab": {
          "base_uri": "https://localhost:8080/"
        },
        "id": "ozAgPb_Huu0D",
        "outputId": "27f3237d-bd6d-4230-f114-0bdda3558b1a"
      },
      "source": [
        "from sklearn.tree import DecisionTreeClassifier\n",
        "from sklearn.metrics import roc_auc_score\n",
        "from sklearn.metrics import confusion_matrix, accuracy_score, classification_report\n",
        "from sklearn.metrics import precision_score, recall_score, roc_auc_score\n",
        "\n",
        "dt_model = DecisionTreeClassifier()\n",
        "dt_model.fit(x_train_sample,y_train_sample.values.ravel())\n",
        "\n",
        "acc_score = dt_model.score(x_test_sample, y_test_sample)\n",
        "print(f'Accuracy of model on test dataset:-  {acc_score}')\n",
        "\n",
        "# predict result using test dataset\n",
        "dt_predictions = dt_model.predict(x_test_sample)\n",
        "\n",
        "# confusion matrix\n",
        "print(f\"Confusion Matrix :- \\n {confusion_matrix(y_test_sample, dt_predictions)}\")\n",
        "\n",
        "# classification report for f1-score\n",
        "print(f\"Classification Report :- \\n {classification_report(y_test_sample, dt_predictions)}\")\n",
        "print(f\"AROC score :- \\n {roc_auc_score(y_test_sample, dt_predictions)}\")"
      ],
      "execution_count": null,
      "outputs": [
        {
          "output_type": "stream",
          "text": [
            "Accuracy of model on test dataset:-  0.9238578680203046\n",
            "Confusion Matrix :- \n",
            " [[97  9]\n",
            " [ 6 85]]\n",
            "Classification Report :- \n",
            "               precision    recall  f1-score   support\n",
            "\n",
            "           0       0.94      0.92      0.93       106\n",
            "           1       0.90      0.93      0.92        91\n",
            "\n",
            "    accuracy                           0.92       197\n",
            "   macro avg       0.92      0.92      0.92       197\n",
            "weighted avg       0.92      0.92      0.92       197\n",
            "\n",
            "AROC score :- \n",
            " 0.9245801368442879\n"
          ],
          "name": "stdout"
        }
      ]
    },
    {
      "cell_type": "code",
      "metadata": {
        "colab": {
          "base_uri": "https://localhost:8080/"
        },
        "id": "oymFbSmQYsJb",
        "outputId": "dca39fdc-bb2a-4a1c-9df0-5c0af6960b4e"
      },
      "source": [
        "from sklearn.linear_model import LogisticRegression\n",
        "lr_model = LogisticRegression()\n",
        "lr_model.fit(x_train_sample,y_train_sample.values.ravel())\n",
        "\n",
        "acc_score = dt_model.score(x_test_sample, y_test_sample)\n",
        "print(f'Accuracy of model on test dataset:-  {acc_score}')\n",
        "\n",
        "# predict result using test dataset\n",
        "log_predictions = lr_model.predict(x_test_sample)\n",
        "\n",
        "# confusion matrix\n",
        "print(f\"Confusion Matrix :- \\n {confusion_matrix(y_test_sample, log_predictions)}\")\n",
        "\n",
        "# classification report for f1-score\n",
        "print(f\"Classification Report :- \\n {classification_report(y_test_sample, log_predictions)}\")\n",
        "print(f\"AROC score :- \\n {roc_auc_score(y_test_sample, log_predictions)}\")"
      ],
      "execution_count": null,
      "outputs": [
        {
          "output_type": "stream",
          "text": [
            "Accuracy of model on test dataset:-  0.9238578680203046\n",
            "Confusion Matrix :- \n",
            " [[105   1]\n",
            " [  5  86]]\n",
            "Classification Report :- \n",
            "               precision    recall  f1-score   support\n",
            "\n",
            "           0       0.95      0.99      0.97       106\n",
            "           1       0.99      0.95      0.97        91\n",
            "\n",
            "    accuracy                           0.97       197\n",
            "   macro avg       0.97      0.97      0.97       197\n",
            "weighted avg       0.97      0.97      0.97       197\n",
            "\n",
            "AROC score :- \n",
            " 0.9678104913953971\n"
          ],
          "name": "stdout"
        },
        {
          "output_type": "stream",
          "text": [
            "/usr/local/lib/python3.7/dist-packages/sklearn/linear_model/_logistic.py:940: ConvergenceWarning: lbfgs failed to converge (status=1):\n",
            "STOP: TOTAL NO. of ITERATIONS REACHED LIMIT.\n",
            "\n",
            "Increase the number of iterations (max_iter) or scale the data as shown in:\n",
            "    https://scikit-learn.org/stable/modules/preprocessing.html\n",
            "Please also refer to the documentation for alternative solver options:\n",
            "    https://scikit-learn.org/stable/modules/linear_model.html#logistic-regression\n",
            "  extra_warning_msg=_LOGISTIC_SOLVER_CONVERGENCE_MSG)\n"
          ],
          "name": "stderr"
        }
      ]
    },
    {
      "cell_type": "code",
      "metadata": {
        "colab": {
          "base_uri": "https://localhost:8080/"
        },
        "id": "asNw5cHcc567",
        "outputId": "4feed876-248f-46ea-e93c-9ec6a4f5f21f"
      },
      "source": [
        "from sklearn.ensemble import RandomForestClassifier\n",
        "rf_model = RandomForestClassifier(n_estimators = 50)\n",
        "rf_model.fit(x_train_sample, y_train_sample.values.ravel())\n",
        "\n",
        "acc_score = rf_model.score(x_test_sample, y_test_sample)\n",
        "print(f'Accuracy of model on test dataset:-  {acc_score}')\n",
        "\n",
        "# predict result using test dataset\n",
        "rf_predictions = rf_model.predict(x_test_sample)\n",
        "\n",
        "# confusion matrix\n",
        "print(f\"Confusion Matrix :- \\n {confusion_matrix(y_test_sample, rf_predictions)}\")\n",
        "\n",
        "# classification report for f1-score\n",
        "print(f\"Classification Report :- \\n {classification_report(y_test_sample, rf_predictions)}\")\n",
        "print(f\"AROC score :- \\n {roc_auc_score(y_test_sample, rf_predictions)}\")"
      ],
      "execution_count": null,
      "outputs": [
        {
          "output_type": "stream",
          "text": [
            "Accuracy of model on test dataset:-  0.9593908629441624\n",
            "Confusion Matrix :- \n",
            " [[105   1]\n",
            " [  7  84]]\n",
            "Classification Report :- \n",
            "               precision    recall  f1-score   support\n",
            "\n",
            "           0       0.94      0.99      0.96       106\n",
            "           1       0.99      0.92      0.95        91\n",
            "\n",
            "    accuracy                           0.96       197\n",
            "   macro avg       0.96      0.96      0.96       197\n",
            "weighted avg       0.96      0.96      0.96       197\n",
            "\n",
            "AROC score :- \n",
            " 0.9568214804063861\n"
          ],
          "name": "stdout"
        }
      ]
    },
    {
      "cell_type": "code",
      "metadata": {
        "colab": {
          "base_uri": "https://localhost:8080/"
        },
        "id": "CPN931dxip2S",
        "outputId": "84409d7d-4806-4565-ca5a-b1ff6a7dbf60"
      },
      "source": [
        "from sklearn.naive_bayes import GaussianNB\n",
        "nb_model = GaussianNB()\n",
        "nb_model.fit(x_train_sample,y_train_sample.values.ravel())\n",
        "\n",
        "acc_score = nb_model.score(x_test_sample, y_test_sample)\n",
        "print(f'Accuracy of model on test dataset:-  {acc_score}')\n",
        "\n",
        "# predict result using test dataset\n",
        "nb_predictions = nb_model.predict(x_test_sample)\n",
        "\n",
        "# confusion matrix\n",
        "print(f\"Confusion Matrix :- \\n {confusion_matrix(y_test_sample, nb_predictions)}\")\n",
        "\n",
        "# classification report for f1-score\n",
        "print(f\"Classification Report :- \\n {classification_report(y_test_sample, nb_predictions)}\")\n",
        "print(f\"AROC score :- \\n {roc_auc_score(y_test_sample, nb_predictions)}\")"
      ],
      "execution_count": null,
      "outputs": [
        {
          "output_type": "stream",
          "text": [
            "Accuracy of model on test dataset:-  0.9137055837563451\n",
            "Confusion Matrix :- \n",
            " [[102   4]\n",
            " [ 13  78]]\n",
            "Classification Report :- \n",
            "               precision    recall  f1-score   support\n",
            "\n",
            "           0       0.89      0.96      0.92       106\n",
            "           1       0.95      0.86      0.90        91\n",
            "\n",
            "    accuracy                           0.91       197\n",
            "   macro avg       0.92      0.91      0.91       197\n",
            "weighted avg       0.92      0.91      0.91       197\n",
            "\n",
            "AROC score :- \n",
            " 0.9097035040431267\n"
          ],
          "name": "stdout"
        }
      ]
    },
    {
      "cell_type": "code",
      "metadata": {
        "colab": {
          "base_uri": "https://localhost:8080/"
        },
        "id": "UCsVV0F1lFRZ",
        "outputId": "517f021e-c720-4088-f2e2-35cd6ccc6cc6"
      },
      "source": [
        "from sklearn.neighbors import KNeighborsClassifier\n",
        "kn_model = KNeighborsClassifier()\n",
        "kn_model.fit(x_train_sample, y_train_sample.values.ravel())\n",
        "\n",
        "acc_score = kn_model.score(x_test_sample, y_test_sample)\n",
        "print(f'Accuracy of model on test dataset:-  {acc_score}')\n",
        "\n",
        "# predict result using test dataset\n",
        "kn_predictions = kn_model.predict(x_test_sample)\n",
        "\n",
        "# confusion matrix\n",
        "print(f\"Confusion Matrix :- \\n {confusion_matrix(y_test_sample, kn_predictions)}\")\n",
        "\n",
        "# classification report for f1-score\n",
        "print(f\"Classification Report :- \\n {classification_report(y_test_sample, kn_predictions)}\")\n",
        "print(f\"AROC score :- \\n {roc_auc_score(y_test_sample, kn_predictions)}\")"
      ],
      "execution_count": null,
      "outputs": [
        {
          "output_type": "stream",
          "text": [
            "Accuracy of model on test dataset:-  0.9137055837563451\n",
            "Confusion Matrix :- \n",
            " [[98  8]\n",
            " [ 9 82]]\n",
            "Classification Report :- \n",
            "               precision    recall  f1-score   support\n",
            "\n",
            "           0       0.92      0.92      0.92       106\n",
            "           1       0.91      0.90      0.91        91\n",
            "\n",
            "    accuracy                           0.91       197\n",
            "   macro avg       0.91      0.91      0.91       197\n",
            "weighted avg       0.91      0.91      0.91       197\n",
            "\n",
            "AROC score :- \n",
            " 0.9128136014928467\n"
          ],
          "name": "stdout"
        }
      ]
    },
    {
      "cell_type": "code",
      "metadata": {
        "id": "0j5Z77j-Xv7y"
      },
      "source": [
        "from sklearn.tree import DecisionTreeClassifier\n",
        "from sklearn.linear_model import LogisticRegression\n",
        "from sklearn.ensemble import RandomForestClassifier\n",
        "from sklearn.naive_bayes import GaussianNB\n",
        "from sklearn.neighbors import KNeighborsClassifier"
      ],
      "execution_count": null,
      "outputs": []
    }
  ]
}